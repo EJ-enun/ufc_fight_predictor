{
 "cells": [
  {
   "cell_type": "code",
   "execution_count": null,
   "metadata": {},
   "outputs": [],
   "source": []
  },
  {
   "cell_type": "code",
   "execution_count": 1,
   "metadata": {},
   "outputs": [
    {
     "name": "stdout",
     "output_type": "stream",
     "text": [
      "/Users/charlesp/Documents/GitHub/UFC_Fight_Predictor/Fight_Predictor\n"
     ]
    }
   ],
   "source": [
    "import os\n",
    "from tensorflow import keras\n",
    "from utils import r2\n",
    "print(os.getcwd())\n",
    "os.chdir('/Users/charlesp/Documents/GitHub/UFC_Fight_Predictor/')"
   ]
  },
  {
   "cell_type": "code",
   "execution_count": 2,
   "metadata": {},
   "outputs": [],
   "source": [
    "import pandas as pd\n",
    "pd.set_option('display.max_rows', 500)\n",
    "pd.set_option('display.max_columns', 500)\n",
    "pd.set_option('display.width', 1000)"
   ]
  },
  {
   "cell_type": "code",
   "execution_count": 3,
   "metadata": {},
   "outputs": [],
   "source": [
    "from predict import Predict "
   ]
  },
  {
   "cell_type": "code",
   "execution_count": 4,
   "metadata": {},
   "outputs": [
    {
     "name": "stdout",
     "output_type": "stream",
     "text": [
      "WARNING:tensorflow:From //anaconda3/envs/fight-predictor/lib/python3.7/site-packages/tensorflow/python/ops/resource_variable_ops.py:435: colocate_with (from tensorflow.python.framework.ops) is deprecated and will be removed in a future version.\n",
      "Instructions for updating:\n",
      "Colocations handled automatically by placer.\n",
      "WARNING:tensorflow:From //anaconda3/envs/fight-predictor/lib/python3.7/site-packages/tensorflow/python/keras/layers/core.py:143: calling dropout (from tensorflow.python.ops.nn_ops) with keep_prob is deprecated and will be removed in a future version.\n",
      "Instructions for updating:\n",
      "Please use `rate` instead of `keep_prob`. Rate should be set to `rate = 1 - keep_prob`.\n",
      "WARNING:tensorflow:From //anaconda3/envs/fight-predictor/lib/python3.7/site-packages/tensorflow/python/ops/math_ops.py:3066: to_int32 (from tensorflow.python.ops.math_ops) is deprecated and will be removed in a future version.\n",
      "Instructions for updating:\n",
      "Use tf.cast instead.\n"
     ]
    }
   ],
   "source": [
    "base_dir = os.path.join(os.getcwd(), 'Fight_Predictor', 'Files', 'Models')\n",
    "stats_model = keras.models.load_model(os.path.join(\n",
    "        base_dir, 'stats_model.h5'), custom_objects={'r2': r2})"
   ]
  },
  {
   "cell_type": "code",
   "execution_count": 5,
   "metadata": {},
   "outputs": [],
   "source": [
    "p = Predict(stats_model)"
   ]
  },
  {
   "cell_type": "code",
   "execution_count": 6,
   "metadata": {},
   "outputs": [
    {
     "name": "stdout",
     "output_type": "stream",
     "text": [
      "round not dropped as it is not in dataframe\n",
      "time not dropped as it is not in dataframe\n",
      "win_method_finish not dropped as it is not in dataframe\n",
      "win_method_type not dropped as it is not in dataframe\n",
      "event_attendence not dropped as it is not in dataframe\n",
      "weight_class not dropped as it is not in dataframe\n",
      "I get used\n"
     ]
    }
   ],
   "source": [
    "fight_pair = [('Conor McGregor', 'Daniel Cormier')]\n",
    "p.create_stats_df(fight_pair)\n"
   ]
  },
  {
   "cell_type": "code",
   "execution_count": 7,
   "metadata": {},
   "outputs": [
    {
     "data": {
      "text/html": [
       "<div>\n",
       "<style scoped>\n",
       "    .dataframe tbody tr th:only-of-type {\n",
       "        vertical-align: middle;\n",
       "    }\n",
       "\n",
       "    .dataframe tbody tr th {\n",
       "        vertical-align: top;\n",
       "    }\n",
       "\n",
       "    .dataframe thead th {\n",
       "        text-align: right;\n",
       "    }\n",
       "</style>\n",
       "<table border=\"1\" class=\"dataframe\">\n",
       "  <thead>\n",
       "    <tr style=\"text-align: right;\">\n",
       "      <th></th>\n",
       "      <th>f1_reach</th>\n",
       "      <th>f1_sapm</th>\n",
       "      <th>f1_slpm</th>\n",
       "      <th>f1_stk_def</th>\n",
       "      <th>f1_sub_avg</th>\n",
       "      <th>f1_td_avg</th>\n",
       "      <th>f1_weight</th>\n",
       "      <th>f2_reach</th>\n",
       "      <th>f2_sapm</th>\n",
       "      <th>f2_slpm</th>\n",
       "      <th>f2_stk_def</th>\n",
       "      <th>f2_sub_avg</th>\n",
       "      <th>f2_td_avg</th>\n",
       "      <th>f2_weight</th>\n",
       "      <th>fighter1</th>\n",
       "      <th>fighter2</th>\n",
       "      <th>f1_stk_acc</th>\n",
       "      <th>f1_td_acc</th>\n",
       "      <th>f1_td_def</th>\n",
       "      <th>f2_stk_acc</th>\n",
       "      <th>f2_td_acc</th>\n",
       "      <th>f2_td_def</th>\n",
       "      <th>f1_height</th>\n",
       "      <th>f2_height</th>\n",
       "      <th>f1_ageAtFight</th>\n",
       "      <th>f2_ageAtFight</th>\n",
       "      <th>f1_draw</th>\n",
       "      <th>f1_nc</th>\n",
       "      <th>f1_ratio</th>\n",
       "      <th>f2_draw</th>\n",
       "      <th>f2_nc</th>\n",
       "      <th>f2_ratio</th>\n",
       "      <th>f1_stance_Open Stance</th>\n",
       "      <th>f1_stance_Orthodox</th>\n",
       "      <th>f1_stance_Sideways</th>\n",
       "      <th>f1_stance_Southpaw</th>\n",
       "      <th>f1_stance_Switch</th>\n",
       "      <th>f2_stance_Open Stance</th>\n",
       "      <th>f2_stance_Orthodox</th>\n",
       "      <th>f2_stance_Sideways</th>\n",
       "      <th>f2_stance_Southpaw</th>\n",
       "      <th>f2_stance_Switch</th>\n",
       "    </tr>\n",
       "  </thead>\n",
       "  <tbody>\n",
       "    <tr>\n",
       "      <th>0</th>\n",
       "      <td>74.0</td>\n",
       "      <td>4.43</td>\n",
       "      <td>5.27</td>\n",
       "      <td>55.0</td>\n",
       "      <td>0.0</td>\n",
       "      <td>0.75</td>\n",
       "      <td>155.0</td>\n",
       "      <td>72.0</td>\n",
       "      <td>2.46</td>\n",
       "      <td>3.84</td>\n",
       "      <td>58.0</td>\n",
       "      <td>0.5</td>\n",
       "      <td>2.04</td>\n",
       "      <td>235.0</td>\n",
       "      <td>0.0</td>\n",
       "      <td>1.0</td>\n",
       "      <td>48.0</td>\n",
       "      <td>62.0</td>\n",
       "      <td>70.0</td>\n",
       "      <td>49.0</td>\n",
       "      <td>45.0</td>\n",
       "      <td>78.0</td>\n",
       "      <td>69.0</td>\n",
       "      <td>71.0</td>\n",
       "      <td>31.242134</td>\n",
       "      <td>40.555404</td>\n",
       "      <td>0.0</td>\n",
       "      <td>0.0</td>\n",
       "      <td>0.84</td>\n",
       "      <td>0.0</td>\n",
       "      <td>1.0</td>\n",
       "      <td>0.956522</td>\n",
       "      <td>0.0</td>\n",
       "      <td>0.0</td>\n",
       "      <td>0.0</td>\n",
       "      <td>1.0</td>\n",
       "      <td>0.0</td>\n",
       "      <td>0.0</td>\n",
       "      <td>1.0</td>\n",
       "      <td>0.0</td>\n",
       "      <td>0.0</td>\n",
       "      <td>0.0</td>\n",
       "    </tr>\n",
       "  </tbody>\n",
       "</table>\n",
       "</div>"
      ],
      "text/plain": [
       "   f1_reach  f1_sapm  f1_slpm  f1_stk_def  f1_sub_avg  f1_td_avg  f1_weight  f2_reach  f2_sapm  f2_slpm  f2_stk_def  f2_sub_avg  f2_td_avg  f2_weight  fighter1  fighter2  f1_stk_acc  f1_td_acc  f1_td_def  f2_stk_acc  f2_td_acc  f2_td_def  f1_height  f2_height  f1_ageAtFight  f2_ageAtFight  f1_draw  f1_nc  f1_ratio  f2_draw  f2_nc  f2_ratio  f1_stance_Open Stance  f1_stance_Orthodox  f1_stance_Sideways  f1_stance_Southpaw  f1_stance_Switch  f2_stance_Open Stance  f2_stance_Orthodox  f2_stance_Sideways  f2_stance_Southpaw  f2_stance_Switch\n",
       "0      74.0     4.43     5.27        55.0         0.0       0.75      155.0      72.0     2.46     3.84        58.0         0.5       2.04      235.0       0.0       1.0        48.0       62.0       70.0        49.0       45.0       78.0       69.0       71.0      31.242134      40.555404      0.0    0.0      0.84      0.0    1.0  0.956522                    0.0                 0.0                 0.0                 1.0               0.0                    0.0                 1.0                 0.0                 0.0               0.0"
      ]
     },
     "execution_count": 7,
     "metadata": {},
     "output_type": "execute_result"
    }
   ],
   "source": [
    "p.stats_prediction_df.head()"
   ]
  },
  {
   "cell_type": "code",
   "execution_count": 8,
   "metadata": {},
   "outputs": [
    {
     "data": {
      "text/html": [
       "<div>\n",
       "<style scoped>\n",
       "    .dataframe tbody tr th:only-of-type {\n",
       "        vertical-align: middle;\n",
       "    }\n",
       "\n",
       "    .dataframe tbody tr th {\n",
       "        vertical-align: top;\n",
       "    }\n",
       "\n",
       "    .dataframe thead th {\n",
       "        text-align: right;\n",
       "    }\n",
       "</style>\n",
       "<table border=\"1\" class=\"dataframe\">\n",
       "  <thead>\n",
       "    <tr style=\"text-align: right;\">\n",
       "      <th></th>\n",
       "      <th>date_of_birth</th>\n",
       "      <th>fighter_name</th>\n",
       "      <th>fighter_record</th>\n",
       "      <th>height</th>\n",
       "      <th>reach</th>\n",
       "      <th>sapm</th>\n",
       "      <th>slpm</th>\n",
       "      <th>stance</th>\n",
       "      <th>strike_acc</th>\n",
       "      <th>strike_def</th>\n",
       "      <th>sub_avg</th>\n",
       "      <th>td_acc</th>\n",
       "      <th>td_avg</th>\n",
       "      <th>td_def</th>\n",
       "      <th>weight</th>\n",
       "    </tr>\n",
       "  </thead>\n",
       "  <tbody>\n",
       "    <tr>\n",
       "      <th>660</th>\n",
       "      <td>Jul 14 1988</td>\n",
       "      <td>Conor McGregor</td>\n",
       "      <td>Record: 21-4-0</td>\n",
       "      <td>5' 9\"</td>\n",
       "      <td>74.0</td>\n",
       "      <td>4.43</td>\n",
       "      <td>5.27</td>\n",
       "      <td>Southpaw</td>\n",
       "      <td>48</td>\n",
       "      <td>55.0</td>\n",
       "      <td>0.0</td>\n",
       "      <td>62</td>\n",
       "      <td>0.75</td>\n",
       "      <td>70</td>\n",
       "      <td>155.0</td>\n",
       "    </tr>\n",
       "  </tbody>\n",
       "</table>\n",
       "</div>"
      ],
      "text/plain": [
       "    date_of_birth    fighter_name  fighter_record height  reach  sapm  slpm    stance  strike_acc  strike_def  sub_avg  td_acc  td_avg  td_def  weight\n",
       "660   Jul 14 1988  Conor McGregor  Record: 21-4-0  5' 9\"   74.0  4.43  5.27  Southpaw          48        55.0      0.0      62    0.75      70   155.0"
      ]
     },
     "execution_count": 8,
     "metadata": {},
     "output_type": "execute_result"
    }
   ],
   "source": [
    "p.fighters[p.fighters.fighter_name == 'Conor McGregor']"
   ]
  },
  {
   "cell_type": "code",
   "execution_count": 9,
   "metadata": {},
   "outputs": [
    {
     "data": {
      "text/html": [
       "<div>\n",
       "<style scoped>\n",
       "    .dataframe tbody tr th:only-of-type {\n",
       "        vertical-align: middle;\n",
       "    }\n",
       "\n",
       "    .dataframe tbody tr th {\n",
       "        vertical-align: top;\n",
       "    }\n",
       "\n",
       "    .dataframe thead th {\n",
       "        text-align: right;\n",
       "    }\n",
       "</style>\n",
       "<table border=\"1\" class=\"dataframe\">\n",
       "  <thead>\n",
       "    <tr style=\"text-align: right;\">\n",
       "      <th></th>\n",
       "      <th>date_of_birth</th>\n",
       "      <th>fighter_name</th>\n",
       "      <th>fighter_record</th>\n",
       "      <th>height</th>\n",
       "      <th>reach</th>\n",
       "      <th>sapm</th>\n",
       "      <th>slpm</th>\n",
       "      <th>stance</th>\n",
       "      <th>strike_acc</th>\n",
       "      <th>strike_def</th>\n",
       "      <th>sub_avg</th>\n",
       "      <th>td_acc</th>\n",
       "      <th>td_avg</th>\n",
       "      <th>td_def</th>\n",
       "      <th>weight</th>\n",
       "    </tr>\n",
       "  </thead>\n",
       "  <tbody>\n",
       "    <tr>\n",
       "      <th>1768</th>\n",
       "      <td>Mar 20 1979</td>\n",
       "      <td>Daniel Cormier</td>\n",
       "      <td>Record: 22-1-0 (1 NC)</td>\n",
       "      <td>5' 11\"</td>\n",
       "      <td>72.0</td>\n",
       "      <td>2.46</td>\n",
       "      <td>3.84</td>\n",
       "      <td>Orthodox</td>\n",
       "      <td>49</td>\n",
       "      <td>58.0</td>\n",
       "      <td>0.5</td>\n",
       "      <td>45</td>\n",
       "      <td>2.04</td>\n",
       "      <td>78</td>\n",
       "      <td>235.0</td>\n",
       "    </tr>\n",
       "  </tbody>\n",
       "</table>\n",
       "</div>"
      ],
      "text/plain": [
       "     date_of_birth    fighter_name         fighter_record  height  reach  sapm  slpm    stance  strike_acc  strike_def  sub_avg  td_acc  td_avg  td_def  weight\n",
       "1768   Mar 20 1979  Daniel Cormier  Record: 22-1-0 (1 NC)  5' 11\"   72.0  2.46  3.84  Orthodox          49        58.0      0.5      45    2.04      78   235.0"
      ]
     },
     "execution_count": 9,
     "metadata": {},
     "output_type": "execute_result"
    }
   ],
   "source": [
    "p.fighters[p.fighters.fighter_name == 'Daniel Cormier']"
   ]
  },
  {
   "cell_type": "code",
   "execution_count": 10,
   "metadata": {},
   "outputs": [
    {
     "data": {
      "text/plain": [
       "array(['f1_reach', 'f1_sapm', 'f1_slpm', 'f1_stk_acc', 'f1_stk_def',\n",
       "       'f1_sub_avg', 'f1_td_acc', 'f1_td_avg', 'f1_td_def', 'f1_weight',\n",
       "       'f2_reach', 'f2_sapm', 'f2_slpm', 'f2_stk_acc', 'f2_stk_def',\n",
       "       'f2_sub_avg', 'f2_td_acc', 'f2_td_avg', 'f2_td_def', 'f2_weight',\n",
       "       'fighter1', 'fighter2', 'f1_height', 'f2_height', 'f1_ageAtFight',\n",
       "       'f2_ageAtFight', 'f1_draw', 'f1_nc', 'f1_ratio', 'f2_draw',\n",
       "       'f2_nc', 'f2_ratio', 'f1_stance_Open Stance', 'f1_stance_Orthodox',\n",
       "       'f1_stance_Sideways', 'f1_stance_Southpaw', 'f1_stance_Switch',\n",
       "       'f2_stance_Open Stance', 'f2_stance_Orthodox',\n",
       "       'f2_stance_Sideways', 'f2_stance_Southpaw', 'f2_stance_Switch'],\n",
       "      dtype=object)"
      ]
     },
     "execution_count": 10,
     "metadata": {},
     "output_type": "execute_result"
    }
   ],
   "source": [
    "p.stats_feature_names"
   ]
  },
  {
   "cell_type": "code",
   "execution_count": null,
   "metadata": {},
   "outputs": [],
   "source": []
  }
 ],
 "metadata": {
  "kernelspec": {
   "display_name": "Python 3",
   "language": "python",
   "name": "python3"
  },
  "language_info": {
   "codemirror_mode": {
    "name": "ipython",
    "version": 3
   },
   "file_extension": ".py",
   "mimetype": "text/x-python",
   "name": "python",
   "nbconvert_exporter": "python",
   "pygments_lexer": "ipython3",
   "version": "3.7.1"
  }
 },
 "nbformat": 4,
 "nbformat_minor": 2
}
