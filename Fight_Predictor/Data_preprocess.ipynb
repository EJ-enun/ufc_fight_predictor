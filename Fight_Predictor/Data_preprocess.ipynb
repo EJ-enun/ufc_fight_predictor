{
 "cells": [
  {
   "cell_type": "code",
   "execution_count": 171,
   "metadata": {},
   "outputs": [],
   "source": [
    "import pandas as pd\n",
    "import numpy as np\n",
    "import os \n",
    "import matplotlib.pyplot as plt\n",
    "#import tensorflow as tf \n"
   ]
  },
  {
   "cell_type": "markdown",
   "metadata": {},
   "source": [
    "# Preprocess Each Dataset (Fighters and Bouts)"
   ]
  },
  {
   "cell_type": "code",
   "execution_count": 172,
   "metadata": {},
   "outputs": [],
   "source": [
    "#just fighters\n",
    "fighters_data = pd.read_csv('Fights_scraper/spiders/scraped_fighters.csv') \n",
    "#just bouts\n",
    "bouts_data = pd.read_csv('Bouts_Scraper/bouts_scraped/bouts_scraped/spiders/scraped_bouts.csv') \n",
    "#combined dataset, created with SQL Query, joined on fighter1 and 2 names\n",
    "fighter_bouts = pd.read_csv('fighters_bouts_joined.csv') \n"
   ]
  },
  {
   "cell_type": "code",
   "execution_count": 173,
   "metadata": {},
   "outputs": [],
   "source": [
    "#shuffles winners in the df to make the classes of winners and losers balanced\n",
    "import math\n",
    "negative_index = np.random.choice(len(fighter_bouts),\n",
    "                                  size= math.ceil(len(fighter_bouts)/2),\n",
    "                                  replace = False)\n",
    "\n",
    "fighter_bouts.iloc[negative_index,[2,3]] = fighter_bouts.iloc[negative_index,[3,2]].values\n",
    "\n"
   ]
  },
  {
   "cell_type": "code",
   "execution_count": 174,
   "metadata": {},
   "outputs": [
    {
     "name": "stderr",
     "output_type": "stream",
     "text": [
      "/Users/charlespierse/anaconda3/lib/python3.7/site-packages/pandas/core/indexing.py:189: SettingWithCopyWarning: \n",
      "A value is trying to be set on a copy of a slice from a DataFrame\n",
      "\n",
      "See the caveats in the documentation: http://pandas.pydata.org/pandas-docs/stable/indexing.html#indexing-view-versus-copy\n",
      "  self._setitem_with_indexer(indexer, value)\n"
     ]
    }
   ],
   "source": [
    "#make winner column align correctly with negative index\n",
    "fighter_bouts['winner'].iloc[negative_index] = fighter_bouts['fighter2'].iloc[negative_index]"
   ]
  },
  {
   "cell_type": "code",
   "execution_count": 175,
   "metadata": {},
   "outputs": [],
   "source": [
    "#creates two lists of the relevant columns stats for f1 and f2\n",
    "f1_list = [col for col in fighter_bouts.columns if 'f1' in col]\n",
    "f2_list = [col for col in fighter_bouts.columns if 'f2' in col]\n"
   ]
  },
  {
   "cell_type": "code",
   "execution_count": 176,
   "metadata": {},
   "outputs": [],
   "source": [
    "f1_index = []\n",
    "for col in fighter_bouts.columns:\n",
    "    if col in f1_list:\n",
    "        f1_index.append(fighter_bouts.columns.get_loc(col))\n",
    "\n",
    "f2_index = []\n",
    "for col in fighter_bouts.columns:\n",
    "    if col in f2_list:\n",
    "        f2_index.append(fighter_bouts.columns.get_loc(col))"
   ]
  },
  {
   "cell_type": "code",
   "execution_count": 177,
   "metadata": {},
   "outputs": [],
   "source": [
    "fb_copy = fighter_bouts.copy()\n",
    "#all values at the negative index of f1's become the values of negative index of f2's\n",
    "fighter_bouts.iloc[negative_index,f1_index] = fighter_bouts.iloc[negative_index,f2_index].values\n",
    "#all values at the negative index of f2's become the values of negative index of f1's using copy of fb_copy of fighter bouts\n",
    "fighter_bouts.iloc[negative_index,f2_index] =fb_copy.iloc[negative_index,f1_index].values"
   ]
  },
  {
   "cell_type": "code",
   "execution_count": 178,
   "metadata": {},
   "outputs": [],
   "source": [
    "#seperate df consisting only of categorical dtypes\n",
    "categorical_fb = fighter_bouts.select_dtypes(include='object')\n",
    "#drop those types for now from fighter bouts leaving only numeric values\n",
    "fighter_bouts = fighter_bouts.drop(columns=categorical_fb.columns)\n"
   ]
  },
  {
   "cell_type": "code",
   "execution_count": 179,
   "metadata": {},
   "outputs": [],
   "source": [
    "#some fighters have '--' as a null for their DOB and height\n",
    "categorical_fb['f1_dob'] =  categorical_fb['f1_dob'].replace('--',None) \n",
    "categorical_fb['f2_dob'] =  categorical_fb['f2_dob'].replace('--',None)\n",
    "#same as above for height\n",
    "categorical_fb['f1_height'] =  categorical_fb['f1_height'].replace('--',None) \n",
    "categorical_fb['f2_height'] =  categorical_fb['f2_height'].replace('--',None)"
   ]
  },
  {
   "cell_type": "code",
   "execution_count": 180,
   "metadata": {},
   "outputs": [],
   "source": [
    "categorical_fb['event_date'] = pd.to_datetime(categorical_fb['event_date'])\n",
    "categorical_fb['f1_dob'] = pd.to_datetime(categorical_fb['f1_dob'])\n",
    "categorical_fb['f2_dob'] = pd.to_datetime(categorical_fb['f2_dob'])\n"
   ]
  },
  {
   "cell_type": "code",
   "execution_count": 181,
   "metadata": {},
   "outputs": [],
   "source": [
    "#weights can be seen as an ordinal category value so this list declares that order\n",
    "weights_ordered = [\"Women's Strawweight\",\"Women's Flyweight\",\"Women's Bantamweight\",\n",
    "               \"Women's Featherweight\", \"Flyweight\", \"Bantamweight\", \"Featherweight\",\n",
    "               \"Lightweight\",\"Welterweight\", \"Middleweight\",\"Light Heavyweight\",\n",
    "               \"Heavyweight\", \"Super Heavyweight\", \"Open Weight\",\"Catch Weight\"]\n",
    "\n"
   ]
  },
  {
   "cell_type": "code",
   "execution_count": 182,
   "metadata": {},
   "outputs": [
    {
     "name": "stderr",
     "output_type": "stream",
     "text": [
      "/Users/charlespierse/anaconda3/lib/python3.7/site-packages/ipykernel_launcher.py:3: FutureWarning: specifying 'categories' or 'ordered' in .astype() is deprecated; pass a CategoricalDtype instead\n",
      "  This is separate from the ipykernel package so we can avoid doing imports until\n"
     ]
    }
   ],
   "source": [
    "categorical_fb[\"weight_class\"] = categorical_fb.weight_class.astype(\"category\",\n",
    "                                 ordered=True,\n",
    "                                 categories= weights_ordered).cat.codes\n"
   ]
  },
  {
   "cell_type": "code",
   "execution_count": 183,
   "metadata": {},
   "outputs": [],
   "source": [
    "#Creating a new feature for fighter1 and fighter2: ageAtFight. It's ordinal so no need to one hot encode,\n",
    "categorical_fb['f1_ageAtFight'] = (categorical_fb.event_date - categorical_fb.f1_dob).dt.days\n",
    "categorical_fb['f2_ageAtFight'] = (categorical_fb.event_date - categorical_fb.f2_dob).dt.days"
   ]
  },
  {
   "cell_type": "code",
   "execution_count": 184,
   "metadata": {},
   "outputs": [],
   "source": [
    "#starting to clean up the the fighters' records categories, first we replace text ('Record') with nothing\n",
    "categorical_fb = categorical_fb.replace('Record: ',\"\",regex=True) "
   ]
  },
  {
   "cell_type": "code",
   "execution_count": 185,
   "metadata": {},
   "outputs": [],
   "source": [
    "#make these values all zero (just in case something goes wrong with record_split()\n",
    "categorical_fb['f1_win'],categorical_fb['f1_loss'],categorical_fb['f1_draw'],categorical_fb['f1_nc'] = 0,0,0,0\n",
    "categorical_fb['f2_win'],categorical_fb['f2_loss'],categorical_fb['f2_draw'],categorical_fb['f2_nc'] = 0,0,0,0\n"
   ]
  },
  {
   "cell_type": "code",
   "execution_count": 186,
   "metadata": {},
   "outputs": [],
   "source": [
    "#a small function to handle the remainder of the record strings\n",
    "#takes in a row split the values on '-'\n",
    "#if 'NC' is contained the draw var(the only place it could be) then we split draw on brackets first\n",
    "#draw is simply equal to the 0th element of that split\n",
    "#nc is equal to the 1st element of that split with a regex to remove any remaining non numeric values\n",
    "#cast all values to int and return all 4 \n",
    "import re\n",
    "\n",
    "def record_split(row):\n",
    "        win,loss, draw = row.split('-')\n",
    "        nc= 0\n",
    "        if 'NC' in draw:       \n",
    "            draw = draw.split('(')\n",
    "            nc = re.sub('[^0-9]','', draw[1])\n",
    "            draw = draw[0]\n",
    "        else:\n",
    "            nc = 0     \n",
    "            \n",
    "        win,loss, draw, nc = int(win),int(loss), int(draw), int(nc)\n",
    "            \n",
    "        return win,loss,draw,nc\n",
    "        "
   ]
  },
  {
   "cell_type": "code",
   "execution_count": 187,
   "metadata": {},
   "outputs": [],
   "source": [
    "#this is a messy way to do these assignments but works. \n",
    "#use the pd apply function to apply our record_split() function on each row in df\n",
    "#zip(*...) unpacks our results nicely\n",
    "categorical_fb['f1_win'],\\\n",
    "categorical_fb['f1_loss'],\\\n",
    "categorical_fb['f1_draw'],\\\n",
    "categorical_fb['f1_nc'] = zip(*categorical_fb.apply(lambda x: record_split(x['f1_record']), axis=1))\n",
    "\n",
    "categorical_fb['f2_win'],\\\n",
    "categorical_fb['f2_loss'],\\\n",
    "categorical_fb['f2_draw'],\\\n",
    "categorical_fb['f2_nc'] = zip(*categorical_fb.apply(lambda x: record_split(x['f2_record']), axis=1))\n",
    "\n"
   ]
  },
  {
   "cell_type": "code",
   "execution_count": 188,
   "metadata": {},
   "outputs": [],
   "source": [
    "categorical_fb = categorical_fb.drop(columns =['f1_record','f2_record'])"
   ]
  },
  {
   "cell_type": "code",
   "execution_count": 189,
   "metadata": {},
   "outputs": [],
   "source": [
    "\n",
    "#adds winner to end of column for readability \n",
    "cols = list(categorical_fb.columns.values) \n",
    "cols.pop(cols.index('winner')) \n",
    "categorical_fb = categorical_fb[cols+['winner']] \n",
    "\n"
   ]
  },
  {
   "cell_type": "code",
   "execution_count": 190,
   "metadata": {},
   "outputs": [
    {
     "data": {
      "text/html": [
       "<div>\n",
       "<style scoped>\n",
       "    .dataframe tbody tr th:only-of-type {\n",
       "        vertical-align: middle;\n",
       "    }\n",
       "\n",
       "    .dataframe tbody tr th {\n",
       "        vertical-align: top;\n",
       "    }\n",
       "\n",
       "    .dataframe thead th {\n",
       "        text-align: right;\n",
       "    }\n",
       "</style>\n",
       "<table border=\"1\" class=\"dataframe\">\n",
       "  <thead>\n",
       "    <tr style=\"text-align: right;\">\n",
       "      <th></th>\n",
       "      <th>event_date</th>\n",
       "      <th>figher1</th>\n",
       "      <th>fighter2</th>\n",
       "      <th>weight_class</th>\n",
       "      <th>win_method_finish</th>\n",
       "      <th>win_method_type</th>\n",
       "      <th>f1_dob</th>\n",
       "      <th>f1_height</th>\n",
       "      <th>f1_stance</th>\n",
       "      <th>f2_dob</th>\n",
       "      <th>...</th>\n",
       "      <th>f2_ageAtFight</th>\n",
       "      <th>f1_win</th>\n",
       "      <th>f1_loss</th>\n",
       "      <th>f1_draw</th>\n",
       "      <th>f1_nc</th>\n",
       "      <th>f2_win</th>\n",
       "      <th>f2_loss</th>\n",
       "      <th>f2_draw</th>\n",
       "      <th>f2_nc</th>\n",
       "      <th>winner</th>\n",
       "    </tr>\n",
       "  </thead>\n",
       "  <tbody>\n",
       "    <tr>\n",
       "      <th>0</th>\n",
       "      <td>2018-01-14</td>\n",
       "      <td>Dooho Choi</td>\n",
       "      <td>Jeremy Stephens</td>\n",
       "      <td>6</td>\n",
       "      <td>Punch</td>\n",
       "      <td>KO/TKO</td>\n",
       "      <td>1991-04-10</td>\n",
       "      <td>5' 10</td>\n",
       "      <td>Orthodox</td>\n",
       "      <td>1986-05-25</td>\n",
       "      <td>...</td>\n",
       "      <td>11557</td>\n",
       "      <td>14</td>\n",
       "      <td>3</td>\n",
       "      <td>0</td>\n",
       "      <td>0</td>\n",
       "      <td>28</td>\n",
       "      <td>16</td>\n",
       "      <td>0</td>\n",
       "      <td>0</td>\n",
       "      <td>Jeremy Stephens</td>\n",
       "    </tr>\n",
       "    <tr>\n",
       "      <th>1</th>\n",
       "      <td>2018-01-14</td>\n",
       "      <td>Jessica-Rose Clark</td>\n",
       "      <td>Paige VanZant</td>\n",
       "      <td>1</td>\n",
       "      <td>NaN</td>\n",
       "      <td>U-DEC</td>\n",
       "      <td>1987-11-28</td>\n",
       "      <td>5' 5</td>\n",
       "      <td>Orthodox</td>\n",
       "      <td>1994-03-26</td>\n",
       "      <td>...</td>\n",
       "      <td>8695</td>\n",
       "      <td>9</td>\n",
       "      <td>5</td>\n",
       "      <td>0</td>\n",
       "      <td>1</td>\n",
       "      <td>8</td>\n",
       "      <td>4</td>\n",
       "      <td>0</td>\n",
       "      <td>0</td>\n",
       "      <td>Jessica-Rose Clark</td>\n",
       "    </tr>\n",
       "    <tr>\n",
       "      <th>2</th>\n",
       "      <td>2018-01-14</td>\n",
       "      <td>Kamaru Usman</td>\n",
       "      <td>Emil Meek</td>\n",
       "      <td>8</td>\n",
       "      <td>NaN</td>\n",
       "      <td>U-DEC</td>\n",
       "      <td>1987-05-11</td>\n",
       "      <td>6' 0</td>\n",
       "      <td>Switch</td>\n",
       "      <td>1988-08-20</td>\n",
       "      <td>...</td>\n",
       "      <td>10739</td>\n",
       "      <td>15</td>\n",
       "      <td>1</td>\n",
       "      <td>0</td>\n",
       "      <td>0</td>\n",
       "      <td>9</td>\n",
       "      <td>4</td>\n",
       "      <td>1</td>\n",
       "      <td>1</td>\n",
       "      <td>Kamaru Usman</td>\n",
       "    </tr>\n",
       "    <tr>\n",
       "      <th>3</th>\n",
       "      <td>2018-01-14</td>\n",
       "      <td>Michael Johnson</td>\n",
       "      <td>Darren Elkins</td>\n",
       "      <td>6</td>\n",
       "      <td>Rear Naked Choke</td>\n",
       "      <td>SUB</td>\n",
       "      <td>1986-06-04</td>\n",
       "      <td>5' 10</td>\n",
       "      <td>Southpaw</td>\n",
       "      <td>1984-05-16</td>\n",
       "      <td>...</td>\n",
       "      <td>12296</td>\n",
       "      <td>20</td>\n",
       "      <td>14</td>\n",
       "      <td>0</td>\n",
       "      <td>0</td>\n",
       "      <td>25</td>\n",
       "      <td>7</td>\n",
       "      <td>0</td>\n",
       "      <td>0</td>\n",
       "      <td>Darren Elkins</td>\n",
       "    </tr>\n",
       "    <tr>\n",
       "      <th>4</th>\n",
       "      <td>2018-01-14</td>\n",
       "      <td>Alex White</td>\n",
       "      <td>James Krause</td>\n",
       "      <td>7</td>\n",
       "      <td>NaN</td>\n",
       "      <td>U-DEC</td>\n",
       "      <td>1988-10-22</td>\n",
       "      <td>6' 0</td>\n",
       "      <td>Southpaw</td>\n",
       "      <td>1986-06-04</td>\n",
       "      <td>...</td>\n",
       "      <td>11547</td>\n",
       "      <td>13</td>\n",
       "      <td>5</td>\n",
       "      <td>0</td>\n",
       "      <td>0</td>\n",
       "      <td>25</td>\n",
       "      <td>8</td>\n",
       "      <td>0</td>\n",
       "      <td>0</td>\n",
       "      <td>James Krause</td>\n",
       "    </tr>\n",
       "  </tbody>\n",
       "</table>\n",
       "<p>5 rows × 23 columns</p>\n",
       "</div>"
      ],
      "text/plain": [
       "  event_date             figher1         fighter2  weight_class  \\\n",
       "0 2018-01-14          Dooho Choi  Jeremy Stephens             6   \n",
       "1 2018-01-14  Jessica-Rose Clark    Paige VanZant             1   \n",
       "2 2018-01-14        Kamaru Usman        Emil Meek             8   \n",
       "3 2018-01-14     Michael Johnson    Darren Elkins             6   \n",
       "4 2018-01-14          Alex White     James Krause             7   \n",
       "\n",
       "  win_method_finish win_method_type     f1_dob f1_height f1_stance     f2_dob  \\\n",
       "0             Punch          KO/TKO 1991-04-10     5' 10  Orthodox 1986-05-25   \n",
       "1               NaN           U-DEC 1987-11-28      5' 5  Orthodox 1994-03-26   \n",
       "2               NaN           U-DEC 1987-05-11      6' 0    Switch 1988-08-20   \n",
       "3  Rear Naked Choke             SUB 1986-06-04     5' 10  Southpaw 1984-05-16   \n",
       "4               NaN           U-DEC 1988-10-22      6' 0  Southpaw 1986-06-04   \n",
       "\n",
       "          ...         f2_ageAtFight f1_win  f1_loss  f1_draw  f1_nc  f2_win  \\\n",
       "0         ...                 11557     14        3        0      0      28   \n",
       "1         ...                  8695      9        5        0      1       8   \n",
       "2         ...                 10739     15        1        0      0       9   \n",
       "3         ...                 12296     20       14        0      0      25   \n",
       "4         ...                 11547     13        5        0      0      25   \n",
       "\n",
       "   f2_loss  f2_draw  f2_nc              winner  \n",
       "0       16        0      0     Jeremy Stephens  \n",
       "1        4        0      0  Jessica-Rose Clark  \n",
       "2        4        1      1        Kamaru Usman  \n",
       "3        7        0      0       Darren Elkins  \n",
       "4        8        0      0        James Krause  \n",
       "\n",
       "[5 rows x 23 columns]"
      ]
     },
     "execution_count": 190,
     "metadata": {},
     "output_type": "execute_result"
    }
   ],
   "source": [
    "categorical_fb.head()"
   ]
  },
  {
   "cell_type": "code",
   "execution_count": 191,
   "metadata": {},
   "outputs": [],
   "source": [
    "def parse_height(height):\n",
    "    #expected format is 5' 10, 6'3 etc\n",
    "    ht = height.split(\"' \")\n",
    "    ft = float(ht[0])\n",
    "    inch = float(ht[1])\n",
    "    return (12*ft) + inch\n",
    "        "
   ]
  },
  {
   "cell_type": "code",
   "execution_count": 192,
   "metadata": {},
   "outputs": [],
   "source": [
    "categorical_fb.f2_height = categorical_fb.f2_height.apply(lambda x: parse_height(x))\n",
    "categorical_fb.f1_height = categorical_fb.f1_height.apply(lambda x: parse_height(x))"
   ]
  },
  {
   "cell_type": "code",
   "execution_count": 193,
   "metadata": {},
   "outputs": [],
   "source": [
    "categorical_fb = categorical_fb.join(pd.get_dummies(categorical_fb.win_method_type,prefix= 'win_method'))\n",
    "categorical_fb = categorical_fb.join(pd.get_dummies(categorical_fb.win_method_finish,prefix= 'win_finish'))\n",
    "categorical_fb = categorical_fb.join(pd.get_dummies(categorical_fb.f1_stance,prefix= 'f1_stance'))\n",
    "categorical_fb = categorical_fb.join(pd.get_dummies(categorical_fb.f2_stance,prefix= 'f2_stance'))"
   ]
  },
  {
   "cell_type": "code",
   "execution_count": 194,
   "metadata": {},
   "outputs": [],
   "source": [
    "categorical_fb = categorical_fb.drop(columns=['win_method_type','win_method_finish','f1_stance','f2_stance','f1_dob','f2_dob','event_date'])"
   ]
  },
  {
   "cell_type": "code",
   "execution_count": 195,
   "metadata": {},
   "outputs": [],
   "source": [
    "\n",
    "#adds winner to end of column for readability \n",
    "cols = list(categorical_fb.columns.values) \n",
    "cols.pop(cols.index('winner')) \n",
    "categorical_fb = categorical_fb[cols+['winner']] \n",
    "\n"
   ]
  },
  {
   "cell_type": "code",
   "execution_count": 196,
   "metadata": {},
   "outputs": [],
   "source": [
    "categorical_fb['winner'] = (categorical_fb['fighter2'] == categorical_fb['winner']).astype('int')\n",
    "categorical_fb['figher1'] = 0\n",
    "categorical_fb['fighter2'] = 1"
   ]
  },
  {
   "cell_type": "code",
   "execution_count": 197,
   "metadata": {},
   "outputs": [],
   "source": [
    "fbs_joined = pd.concat([fighter_bouts,categorical_fb],axis=1)"
   ]
  },
  {
   "cell_type": "code",
   "execution_count": 198,
   "metadata": {},
   "outputs": [],
   "source": [
    "targets = fbs_joined.winner"
   ]
  },
  {
   "cell_type": "code",
   "execution_count": 199,
   "metadata": {},
   "outputs": [],
   "source": [
    "fbs_joined = fbs_joined.drop(columns=['winner'])"
   ]
  },
  {
   "cell_type": "code",
   "execution_count": 200,
   "metadata": {},
   "outputs": [
    {
     "data": {
      "text/html": [
       "<div>\n",
       "<style scoped>\n",
       "    .dataframe tbody tr th:only-of-type {\n",
       "        vertical-align: middle;\n",
       "    }\n",
       "\n",
       "    .dataframe tbody tr th {\n",
       "        vertical-align: top;\n",
       "    }\n",
       "\n",
       "    .dataframe thead th {\n",
       "        text-align: right;\n",
       "    }\n",
       "</style>\n",
       "<table border=\"1\" class=\"dataframe\">\n",
       "  <thead>\n",
       "    <tr style=\"text-align: right;\">\n",
       "      <th></th>\n",
       "      <th>event_attendence</th>\n",
       "      <th>pass_stat_f1</th>\n",
       "      <th>pass_stat_f2</th>\n",
       "      <th>round</th>\n",
       "      <th>str_stat_f1</th>\n",
       "      <th>str_stat_f2</th>\n",
       "      <th>sub_stat_f1</th>\n",
       "      <th>sub_stat_f2</th>\n",
       "      <th>td_stat_f1</th>\n",
       "      <th>td_stat_f2</th>\n",
       "      <th>...</th>\n",
       "      <th>f1_stance_Open Stance</th>\n",
       "      <th>f1_stance_Orthodox</th>\n",
       "      <th>f1_stance_Sideways</th>\n",
       "      <th>f1_stance_Southpaw</th>\n",
       "      <th>f1_stance_Switch</th>\n",
       "      <th>f2_stance_Open Stance</th>\n",
       "      <th>f2_stance_Orthodox</th>\n",
       "      <th>f2_stance_Sideways</th>\n",
       "      <th>f2_stance_Southpaw</th>\n",
       "      <th>f2_stance_Switch</th>\n",
       "    </tr>\n",
       "  </thead>\n",
       "  <tbody>\n",
       "    <tr>\n",
       "      <th>0</th>\n",
       "      <td>10052</td>\n",
       "      <td>0</td>\n",
       "      <td>0</td>\n",
       "      <td>2</td>\n",
       "      <td>44</td>\n",
       "      <td>49</td>\n",
       "      <td>0</td>\n",
       "      <td>0</td>\n",
       "      <td>0</td>\n",
       "      <td>0</td>\n",
       "      <td>...</td>\n",
       "      <td>0</td>\n",
       "      <td>1</td>\n",
       "      <td>0</td>\n",
       "      <td>0</td>\n",
       "      <td>0</td>\n",
       "      <td>0</td>\n",
       "      <td>1</td>\n",
       "      <td>0</td>\n",
       "      <td>0</td>\n",
       "      <td>0</td>\n",
       "    </tr>\n",
       "    <tr>\n",
       "      <th>1</th>\n",
       "      <td>10052</td>\n",
       "      <td>4</td>\n",
       "      <td>0</td>\n",
       "      <td>3</td>\n",
       "      <td>55</td>\n",
       "      <td>54</td>\n",
       "      <td>1</td>\n",
       "      <td>0</td>\n",
       "      <td>2</td>\n",
       "      <td>0</td>\n",
       "      <td>...</td>\n",
       "      <td>0</td>\n",
       "      <td>1</td>\n",
       "      <td>0</td>\n",
       "      <td>0</td>\n",
       "      <td>0</td>\n",
       "      <td>0</td>\n",
       "      <td>1</td>\n",
       "      <td>0</td>\n",
       "      <td>0</td>\n",
       "      <td>0</td>\n",
       "    </tr>\n",
       "    <tr>\n",
       "      <th>2</th>\n",
       "      <td>10052</td>\n",
       "      <td>7</td>\n",
       "      <td>0</td>\n",
       "      <td>3</td>\n",
       "      <td>50</td>\n",
       "      <td>30</td>\n",
       "      <td>0</td>\n",
       "      <td>2</td>\n",
       "      <td>8</td>\n",
       "      <td>0</td>\n",
       "      <td>...</td>\n",
       "      <td>0</td>\n",
       "      <td>0</td>\n",
       "      <td>0</td>\n",
       "      <td>0</td>\n",
       "      <td>1</td>\n",
       "      <td>0</td>\n",
       "      <td>0</td>\n",
       "      <td>0</td>\n",
       "      <td>0</td>\n",
       "      <td>1</td>\n",
       "    </tr>\n",
       "    <tr>\n",
       "      <th>3</th>\n",
       "      <td>10052</td>\n",
       "      <td>0</td>\n",
       "      <td>2</td>\n",
       "      <td>2</td>\n",
       "      <td>45</td>\n",
       "      <td>18</td>\n",
       "      <td>0</td>\n",
       "      <td>1</td>\n",
       "      <td>0</td>\n",
       "      <td>1</td>\n",
       "      <td>...</td>\n",
       "      <td>0</td>\n",
       "      <td>0</td>\n",
       "      <td>0</td>\n",
       "      <td>1</td>\n",
       "      <td>0</td>\n",
       "      <td>0</td>\n",
       "      <td>1</td>\n",
       "      <td>0</td>\n",
       "      <td>0</td>\n",
       "      <td>0</td>\n",
       "    </tr>\n",
       "    <tr>\n",
       "      <th>4</th>\n",
       "      <td>10052</td>\n",
       "      <td>0</td>\n",
       "      <td>4</td>\n",
       "      <td>3</td>\n",
       "      <td>56</td>\n",
       "      <td>35</td>\n",
       "      <td>0</td>\n",
       "      <td>2</td>\n",
       "      <td>1</td>\n",
       "      <td>3</td>\n",
       "      <td>...</td>\n",
       "      <td>0</td>\n",
       "      <td>0</td>\n",
       "      <td>0</td>\n",
       "      <td>1</td>\n",
       "      <td>0</td>\n",
       "      <td>0</td>\n",
       "      <td>1</td>\n",
       "      <td>0</td>\n",
       "      <td>0</td>\n",
       "      <td>0</td>\n",
       "    </tr>\n",
       "  </tbody>\n",
       "</table>\n",
       "<p>5 rows × 102 columns</p>\n",
       "</div>"
      ],
      "text/plain": [
       "   event_attendence  pass_stat_f1  pass_stat_f2  round  str_stat_f1  \\\n",
       "0             10052             0             0      2           44   \n",
       "1             10052             4             0      3           55   \n",
       "2             10052             7             0      3           50   \n",
       "3             10052             0             2      2           45   \n",
       "4             10052             0             4      3           56   \n",
       "\n",
       "   str_stat_f2  sub_stat_f1  sub_stat_f2  td_stat_f1  td_stat_f2  \\\n",
       "0           49            0            0           0           0   \n",
       "1           54            1            0           2           0   \n",
       "2           30            0            2           8           0   \n",
       "3           18            0            1           0           1   \n",
       "4           35            0            2           1           3   \n",
       "\n",
       "         ...         f1_stance_Open Stance  f1_stance_Orthodox  \\\n",
       "0        ...                             0                   1   \n",
       "1        ...                             0                   1   \n",
       "2        ...                             0                   0   \n",
       "3        ...                             0                   0   \n",
       "4        ...                             0                   0   \n",
       "\n",
       "   f1_stance_Sideways  f1_stance_Southpaw  f1_stance_Switch  \\\n",
       "0                   0                   0                 0   \n",
       "1                   0                   0                 0   \n",
       "2                   0                   0                 1   \n",
       "3                   0                   1                 0   \n",
       "4                   0                   1                 0   \n",
       "\n",
       "   f2_stance_Open Stance  f2_stance_Orthodox  f2_stance_Sideways  \\\n",
       "0                      0                   1                   0   \n",
       "1                      0                   1                   0   \n",
       "2                      0                   0                   0   \n",
       "3                      0                   1                   0   \n",
       "4                      0                   1                   0   \n",
       "\n",
       "   f2_stance_Southpaw  f2_stance_Switch  \n",
       "0                   0                 0  \n",
       "1                   0                 0  \n",
       "2                   0                 1  \n",
       "3                   0                 0  \n",
       "4                   0                 0  \n",
       "\n",
       "[5 rows x 102 columns]"
      ]
     },
     "execution_count": 200,
     "metadata": {},
     "output_type": "execute_result"
    }
   ],
   "source": [
    "fbs_joined.head()"
   ]
  },
  {
   "cell_type": "code",
   "execution_count": 201,
   "metadata": {},
   "outputs": [],
   "source": [
    "from sklearn.preprocessing import StandardScaler\n",
    "from sklearn.impute import SimpleImputer\n",
    "imputer = SimpleImputer(strategy= 'median',copy= False)\n",
    "scaler = StandardScaler()"
   ]
  },
  {
   "cell_type": "code",
   "execution_count": 202,
   "metadata": {},
   "outputs": [
    {
     "name": "stderr",
     "output_type": "stream",
     "text": [
      "/Users/charlespierse/anaconda3/lib/python3.7/site-packages/sklearn/preprocessing/data.py:625: DataConversionWarning: Data with input dtype uint8, int64, float64 were all converted to float64 by StandardScaler.\n",
      "  return self.partial_fit(X, y)\n",
      "/Users/charlespierse/anaconda3/lib/python3.7/site-packages/sklearn/base.py:462: DataConversionWarning: Data with input dtype uint8, int64, float64 were all converted to float64 by StandardScaler.\n",
      "  return self.fit(X, **fit_params).transform(X)\n"
     ]
    }
   ],
   "source": [
    "scaled_fbs = scaler.fit_transform(fbs_joined)\n",
    "imputed_fbs = imputer.fit_transform(scaled_fbs)"
   ]
  },
  {
   "cell_type": "code",
   "execution_count": 203,
   "metadata": {},
   "outputs": [
    {
     "data": {
      "text/plain": [
       "array([[-0.16311237, -0.55371233, -0.5507016 , ..., -0.02030902,\n",
       "        -0.48928216, -0.1767767 ],\n",
       "       [-0.16311237,  1.36318936, -0.5507016 , ..., -0.02030902,\n",
       "        -0.48928216, -0.1767767 ],\n",
       "       [-0.16311237,  2.80086563, -0.5507016 , ..., -0.02030902,\n",
       "        -0.48928216,  5.65685425],\n",
       "       ...,\n",
       "       [-0.16311237, -0.0744869 , -0.5507016 , ..., -0.02030902,\n",
       "         2.04381045, -0.1767767 ],\n",
       "       [-0.16311237, -0.0744869 ,  0.9520849 , ..., -0.02030902,\n",
       "        -0.48928216, -0.1767767 ],\n",
       "       [-0.16311237, -0.55371233, -0.04977277, ..., -0.02030902,\n",
       "         2.04381045, -0.1767767 ]])"
      ]
     },
     "execution_count": 203,
     "metadata": {},
     "output_type": "execute_result"
    }
   ],
   "source": [
    "scaled_fbs[0:10]"
   ]
  },
  {
   "cell_type": "code",
   "execution_count": 204,
   "metadata": {},
   "outputs": [],
   "source": [
    "from sklearn.model_selection import StratifiedShuffleSplit\n",
    "sss= StratifiedShuffleSplit(n_splits=20,test_size=0.2,random_state=42)\n",
    "\n",
    "for train_index, test_index in sss.split(imputed_fbs, targets):\n",
    "    X_train, X_test = imputed_fbs[train_index], imputed_fbs[test_index]\n",
    "    y_train, y_test = targets[train_index], targets[test_index]"
   ]
  },
  {
   "cell_type": "code",
   "execution_count": null,
   "metadata": {},
   "outputs": [],
   "source": []
  },
  {
   "cell_type": "code",
   "execution_count": 205,
   "metadata": {},
   "outputs": [],
   "source": [
    "np.savetxt(\"model_data/X_train.csv\", X_train, delimiter=\",\")\n",
    "np.savetxt(\"model_data/y_train.csv\", y_train, delimiter=\",\")\n",
    "np.savetxt(\"model_data/X_test.csv\", X_test, delimiter=\",\")\n",
    "np.savetxt(\"model_data/y_test.csv\", y_test, delimiter=\",\")"
   ]
  },
  {
   "cell_type": "markdown",
   "metadata": {},
   "source": [
    "# Build Nueral Net"
   ]
  },
  {
   "cell_type": "code",
   "execution_count": 208,
   "metadata": {},
   "outputs": [],
   "source": [
    "import tensorflow as tf\n",
    "from tensorflow import keras\n",
    "from tensorflow.keras.layers import Dense, Dropout, Flatten\n",
    "from tensorflow.keras import optimizers, losses, models"
   ]
  },
  {
   "cell_type": "code",
   "execution_count": 165,
   "metadata": {},
   "outputs": [
    {
     "name": "stdout",
     "output_type": "stream",
     "text": [
      "(3880, 102)\n",
      "(3880,)\n"
     ]
    }
   ],
   "source": [
    "print(X_train.shape)\n",
    "print(y_train.shape)"
   ]
  },
  {
   "cell_type": "code",
   "execution_count": null,
   "metadata": {},
   "outputs": [],
   "source": []
  },
  {
   "cell_type": "code",
   "execution_count": null,
   "metadata": {},
   "outputs": [
    {
     "name": "stdout",
     "output_type": "stream",
     "text": [
      "WARNING:tensorflow:From /Users/charlespierse/anaconda3/lib/python3.7/site-packages/tensorflow/python/ops/resource_variable_ops.py:435: colocate_with (from tensorflow.python.framework.ops) is deprecated and will be removed in a future version.\n",
      "Instructions for updating:\n",
      "Colocations handled automatically by placer.\n",
      "WARNING:tensorflow:From /Users/charlespierse/anaconda3/lib/python3.7/site-packages/tensorflow/python/ops/math_ops.py:3066: to_int32 (from tensorflow.python.ops.math_ops) is deprecated and will be removed in a future version.\n",
      "Instructions for updating:\n",
      "Use tf.cast instead.\n",
      "Epoch 1/2\n"
     ]
    }
   ],
   "source": [
    "model = tf.keras.Sequential()\n",
    "\n",
    "model.add(Dense(100,activation='relu',input_dim= X_train.shape[1]))\n",
    "model.add(Dense(1,activation ='sigmoid'))\n",
    "\n",
    "model.compile(optimizer= 'adam',\n",
    "              loss = 'binary_crossentropy',\n",
    "              metrics =['accuracy'])\n",
    "\n",
    "model.fit(x=X_train,\n",
    "          y=y_train,\n",
    "          epochs=2,batch_size=36)"
   ]
  },
  {
   "cell_type": "markdown",
   "metadata": {},
   "source": [
    "# Fight Stats Predictor Data Prep"
   ]
  },
  {
   "cell_type": "code",
   "execution_count": null,
   "metadata": {},
   "outputs": [],
   "source": []
  }
 ],
 "metadata": {
  "kernelspec": {
   "display_name": "Python 3",
   "language": "python",
   "name": "python3"
  },
  "language_info": {
   "codemirror_mode": {
    "name": "ipython",
    "version": 3
   },
   "file_extension": ".py",
   "mimetype": "text/x-python",
   "name": "python",
   "nbconvert_exporter": "python",
   "pygments_lexer": "ipython3",
   "version": "3.7.1"
  }
 },
 "nbformat": 4,
 "nbformat_minor": 2
}
