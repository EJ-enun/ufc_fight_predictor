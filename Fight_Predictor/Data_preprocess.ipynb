{
 "cells": [
  {
   "cell_type": "code",
   "execution_count": 857,
   "metadata": {},
   "outputs": [],
   "source": [
    "import pandas as pd\n",
    "import numpy as np\n",
    "import os \n",
    "import matplotlib.pyplot as plt\n",
    "#import tensorflow as tf \n"
   ]
  },
  {
   "cell_type": "markdown",
   "metadata": {},
   "source": [
    "# Preprocess Each Dataset (Fighters and Bouts)"
   ]
  },
  {
   "cell_type": "code",
   "execution_count": 858,
   "metadata": {},
   "outputs": [],
   "source": [
    "#just fighters\n",
    "fighters_data = pd.read_csv('Fights_scraper/spiders/scraped_fighters.csv') \n",
    "#just bouts\n",
    "bouts_data = pd.read_csv('Bouts_Scraper/bouts_scraped/bouts_scraped/spiders/scraped_bouts.csv') \n",
    "#combined dataset, created with SQL Query, joined on fighter1 and 2 names\n",
    "fighter_bouts = pd.read_csv('fighters_bouts_joined.csv') \n"
   ]
  },
  {
   "cell_type": "code",
   "execution_count": 859,
   "metadata": {},
   "outputs": [],
   "source": [
    "fighter_bouts = fighter_bouts.drop(columns=['round','time'])"
   ]
  },
  {
   "cell_type": "code",
   "execution_count": 860,
   "metadata": {},
   "outputs": [],
   "source": [
    "#shuffles winners in the df to make the classes of winners and losers balanced\n",
    "import math\n",
    "negative_index = np.random.choice(len(fighter_bouts),\n",
    "                                  size= math.ceil(len(fighter_bouts)/2),\n",
    "                                  replace = False)\n",
    "\n",
    "fighter_bouts.iloc[negative_index,[2,3]] = fighter_bouts.iloc[negative_index,[3,2]].values\n",
    "\n"
   ]
  },
  {
   "cell_type": "code",
   "execution_count": 861,
   "metadata": {},
   "outputs": [
    {
     "name": "stderr",
     "output_type": "stream",
     "text": [
      "/Users/charlespierse/anaconda3/lib/python3.7/site-packages/pandas/core/indexing.py:189: SettingWithCopyWarning: \n",
      "A value is trying to be set on a copy of a slice from a DataFrame\n",
      "\n",
      "See the caveats in the documentation: http://pandas.pydata.org/pandas-docs/stable/indexing.html#indexing-view-versus-copy\n",
      "  self._setitem_with_indexer(indexer, value)\n"
     ]
    }
   ],
   "source": [
    "#make winner column align correctly with negative index\n",
    "fighter_bouts['winner'].iloc[negative_index] = fighter_bouts['fighter2'].iloc[negative_index]"
   ]
  },
  {
   "cell_type": "code",
   "execution_count": 862,
   "metadata": {},
   "outputs": [],
   "source": [
    "#creates two lists of the relevant columns stats for f1 and f2\n",
    "f1_list = [col for col in fighter_bouts.columns if 'f1' in col]\n",
    "f2_list = [col for col in fighter_bouts.columns if 'f2' in col]\n"
   ]
  },
  {
   "cell_type": "code",
   "execution_count": 863,
   "metadata": {},
   "outputs": [],
   "source": [
    "f1_index = []\n",
    "for col in fighter_bouts.columns:\n",
    "    if col in f1_list:\n",
    "        f1_index.append(fighter_bouts.columns.get_loc(col))\n",
    "\n",
    "f2_index = []\n",
    "for col in fighter_bouts.columns:\n",
    "    if col in f2_list:\n",
    "        f2_index.append(fighter_bouts.columns.get_loc(col))"
   ]
  },
  {
   "cell_type": "code",
   "execution_count": 864,
   "metadata": {},
   "outputs": [],
   "source": [
    "fb_copy = fighter_bouts.copy()\n",
    "#all values at the negative index of f1's become the values of negative index of f2's\n",
    "fighter_bouts.iloc[negative_index,f1_index] = fighter_bouts.iloc[negative_index,f2_index].values\n",
    "#all values at the negative index of f2's become the values of negative index of f1's using copy of fb_copy of fighter bouts\n",
    "fighter_bouts.iloc[negative_index,f2_index] =fb_copy.iloc[negative_index,f1_index].values"
   ]
  },
  {
   "cell_type": "code",
   "execution_count": 865,
   "metadata": {},
   "outputs": [],
   "source": [
    "#seperate df consisting only of categorical dtypes\n",
    "categorical_fb = fighter_bouts.select_dtypes(include='object')\n",
    "#drop those types for now from fighter bouts leaving only numeric values\n",
    "fighter_bouts = fighter_bouts.drop(columns=categorical_fb.columns)\n"
   ]
  },
  {
   "cell_type": "code",
   "execution_count": 866,
   "metadata": {},
   "outputs": [],
   "source": [
    "#some fighters have '--' as a null for their DOB and height\n",
    "categorical_fb['f1_dob'] =  categorical_fb['f1_dob'].replace('--',None) \n",
    "categorical_fb['f2_dob'] =  categorical_fb['f2_dob'].replace('--',None)\n",
    "#same as above for height\n",
    "categorical_fb['f1_height'] =  categorical_fb['f1_height'].replace('--',None) \n",
    "categorical_fb['f2_height'] =  categorical_fb['f2_height'].replace('--',None)"
   ]
  },
  {
   "cell_type": "code",
   "execution_count": 867,
   "metadata": {},
   "outputs": [],
   "source": [
    "categorical_fb['event_date'] = pd.to_datetime(categorical_fb['event_date'])\n",
    "categorical_fb['f1_dob'] = pd.to_datetime(categorical_fb['f1_dob'])\n",
    "categorical_fb['f2_dob'] = pd.to_datetime(categorical_fb['f2_dob'])\n"
   ]
  },
  {
   "cell_type": "code",
   "execution_count": 868,
   "metadata": {},
   "outputs": [],
   "source": [
    "#weights can be seen as an ordinal category value so this list declares that order\n",
    "weights_ordered = [\"Women's Strawweight\",\"Women's Flyweight\",\"Women's Bantamweight\",\n",
    "               \"Women's Featherweight\", \"Flyweight\", \"Bantamweight\", \"Featherweight\",\n",
    "               \"Lightweight\",\"Welterweight\", \"Middleweight\",\"Light Heavyweight\",\n",
    "               \"Heavyweight\", \"Super Heavyweight\", \"Open Weight\",\"Catch Weight\"]\n",
    "\n"
   ]
  },
  {
   "cell_type": "code",
   "execution_count": 869,
   "metadata": {},
   "outputs": [
    {
     "name": "stderr",
     "output_type": "stream",
     "text": [
      "/Users/charlespierse/anaconda3/lib/python3.7/site-packages/ipykernel_launcher.py:3: FutureWarning: specifying 'categories' or 'ordered' in .astype() is deprecated; pass a CategoricalDtype instead\n",
      "  This is separate from the ipykernel package so we can avoid doing imports until\n"
     ]
    }
   ],
   "source": [
    "categorical_fb[\"weight_class\"] = categorical_fb.weight_class.astype(\"category\",\n",
    "                                 ordered=True,\n",
    "                                 categories= weights_ordered).cat.codes\n"
   ]
  },
  {
   "cell_type": "code",
   "execution_count": 870,
   "metadata": {},
   "outputs": [],
   "source": [
    "#Creating a new feature for fighter1 and fighter2: ageAtFight. It's ordinal so no need to one hot encode,\n",
    "categorical_fb['f1_ageAtFight'] = (categorical_fb.event_date - categorical_fb.f1_dob).dt.days\n",
    "categorical_fb['f2_ageAtFight'] = (categorical_fb.event_date - categorical_fb.f2_dob).dt.days"
   ]
  },
  {
   "cell_type": "code",
   "execution_count": 871,
   "metadata": {},
   "outputs": [],
   "source": [
    "#starting to clean up the the fighters' records categories, first we replace text ('Record') with nothing\n",
    "categorical_fb = categorical_fb.replace('Record: ',\"\",regex=True) "
   ]
  },
  {
   "cell_type": "code",
   "execution_count": 872,
   "metadata": {},
   "outputs": [],
   "source": [
    "#make these values all zero (just in case something goes wrong with record_split()\n",
    "categorical_fb['f1_win'],categorical_fb['f1_loss'],categorical_fb['f1_draw'],categorical_fb['f1_nc'] = 0,0,0,0\n",
    "categorical_fb['f2_win'],categorical_fb['f2_loss'],categorical_fb['f2_draw'],categorical_fb['f2_nc'] = 0,0,0,0\n"
   ]
  },
  {
   "cell_type": "code",
   "execution_count": 873,
   "metadata": {},
   "outputs": [],
   "source": [
    "#a small function to handle the remainder of the record strings\n",
    "#takes in a row split the values on '-'\n",
    "#if 'NC' is contained the draw var(the only place it could be) then we split draw on brackets first\n",
    "#draw is simply equal to the 0th element of that split\n",
    "#nc is equal to the 1st element of that split with a regex to remove any remaining non numeric values\n",
    "#cast all values to int and return all 4 \n",
    "import re\n",
    "\n",
    "def record_split(row):\n",
    "        win,loss, draw = row.split('-')\n",
    "        nc= 0\n",
    "        if 'NC' in draw:       \n",
    "            draw = draw.split('(')\n",
    "            nc = re.sub('[^0-9]','', draw[1])\n",
    "            draw = draw[0]\n",
    "        else:\n",
    "            nc = 0     \n",
    "            \n",
    "        win,loss, draw, nc = int(win),int(loss), int(draw), int(nc)\n",
    "            \n",
    "        return win,loss,draw,nc\n",
    "        "
   ]
  },
  {
   "cell_type": "code",
   "execution_count": 874,
   "metadata": {},
   "outputs": [],
   "source": [
    "#this is a messy way to do these assignments but works. \n",
    "#use the pd apply function to apply our record_split() function on each row in df\n",
    "#zip(*...) unpacks our results nicely\n",
    "categorical_fb['f1_win'],\\\n",
    "categorical_fb['f1_loss'],\\\n",
    "categorical_fb['f1_draw'],\\\n",
    "categorical_fb['f1_nc'] = zip(*categorical_fb.apply(lambda x: record_split(x['f1_record']), axis=1))\n",
    "\n",
    "categorical_fb['f2_win'],\\\n",
    "categorical_fb['f2_loss'],\\\n",
    "categorical_fb['f2_draw'],\\\n",
    "categorical_fb['f2_nc'] = zip(*categorical_fb.apply(lambda x: record_split(x['f2_record']), axis=1))\n",
    "\n"
   ]
  },
  {
   "cell_type": "code",
   "execution_count": 875,
   "metadata": {},
   "outputs": [],
   "source": [
    "categorical_fb = categorical_fb.drop(columns =['f1_record','f2_record'])"
   ]
  },
  {
   "cell_type": "code",
   "execution_count": 876,
   "metadata": {},
   "outputs": [],
   "source": [
    "\n",
    "#adds winner to end of column for readability \n",
    "cols = list(categorical_fb.columns.values) \n",
    "cols.pop(cols.index('winner')) \n",
    "categorical_fb = categorical_fb[cols+['winner']] \n",
    "\n"
   ]
  },
  {
   "cell_type": "code",
   "execution_count": 877,
   "metadata": {},
   "outputs": [
    {
     "data": {
      "text/html": [
       "<div>\n",
       "<style scoped>\n",
       "    .dataframe tbody tr th:only-of-type {\n",
       "        vertical-align: middle;\n",
       "    }\n",
       "\n",
       "    .dataframe tbody tr th {\n",
       "        vertical-align: top;\n",
       "    }\n",
       "\n",
       "    .dataframe thead th {\n",
       "        text-align: right;\n",
       "    }\n",
       "</style>\n",
       "<table border=\"1\" class=\"dataframe\">\n",
       "  <thead>\n",
       "    <tr style=\"text-align: right;\">\n",
       "      <th></th>\n",
       "      <th>event_date</th>\n",
       "      <th>figher1</th>\n",
       "      <th>fighter2</th>\n",
       "      <th>weight_class</th>\n",
       "      <th>win_method_finish</th>\n",
       "      <th>win_method_type</th>\n",
       "      <th>f1_dob</th>\n",
       "      <th>f1_height</th>\n",
       "      <th>f1_stance</th>\n",
       "      <th>f2_dob</th>\n",
       "      <th>...</th>\n",
       "      <th>f2_ageAtFight</th>\n",
       "      <th>f1_win</th>\n",
       "      <th>f1_loss</th>\n",
       "      <th>f1_draw</th>\n",
       "      <th>f1_nc</th>\n",
       "      <th>f2_win</th>\n",
       "      <th>f2_loss</th>\n",
       "      <th>f2_draw</th>\n",
       "      <th>f2_nc</th>\n",
       "      <th>winner</th>\n",
       "    </tr>\n",
       "  </thead>\n",
       "  <tbody>\n",
       "    <tr>\n",
       "      <th>0</th>\n",
       "      <td>2018-01-14</td>\n",
       "      <td>Dooho Choi</td>\n",
       "      <td>Jeremy Stephens</td>\n",
       "      <td>6</td>\n",
       "      <td>Punch</td>\n",
       "      <td>KO/TKO</td>\n",
       "      <td>1991-04-10</td>\n",
       "      <td>5' 10</td>\n",
       "      <td>Orthodox</td>\n",
       "      <td>1986-05-25</td>\n",
       "      <td>...</td>\n",
       "      <td>11557</td>\n",
       "      <td>14</td>\n",
       "      <td>3</td>\n",
       "      <td>0</td>\n",
       "      <td>0</td>\n",
       "      <td>28</td>\n",
       "      <td>16</td>\n",
       "      <td>0</td>\n",
       "      <td>0</td>\n",
       "      <td>Jeremy Stephens</td>\n",
       "    </tr>\n",
       "    <tr>\n",
       "      <th>1</th>\n",
       "      <td>2018-01-14</td>\n",
       "      <td>Jessica-Rose Clark</td>\n",
       "      <td>Paige VanZant</td>\n",
       "      <td>1</td>\n",
       "      <td>NaN</td>\n",
       "      <td>U-DEC</td>\n",
       "      <td>1987-11-28</td>\n",
       "      <td>5' 5</td>\n",
       "      <td>Orthodox</td>\n",
       "      <td>1994-03-26</td>\n",
       "      <td>...</td>\n",
       "      <td>8695</td>\n",
       "      <td>9</td>\n",
       "      <td>5</td>\n",
       "      <td>0</td>\n",
       "      <td>1</td>\n",
       "      <td>8</td>\n",
       "      <td>4</td>\n",
       "      <td>0</td>\n",
       "      <td>0</td>\n",
       "      <td>Jessica-Rose Clark</td>\n",
       "    </tr>\n",
       "    <tr>\n",
       "      <th>2</th>\n",
       "      <td>2018-01-14</td>\n",
       "      <td>Emil Meek</td>\n",
       "      <td>Kamaru Usman</td>\n",
       "      <td>8</td>\n",
       "      <td>NaN</td>\n",
       "      <td>U-DEC</td>\n",
       "      <td>1988-08-20</td>\n",
       "      <td>5' 11</td>\n",
       "      <td>Switch</td>\n",
       "      <td>1987-05-11</td>\n",
       "      <td>...</td>\n",
       "      <td>11206</td>\n",
       "      <td>9</td>\n",
       "      <td>4</td>\n",
       "      <td>1</td>\n",
       "      <td>1</td>\n",
       "      <td>15</td>\n",
       "      <td>1</td>\n",
       "      <td>0</td>\n",
       "      <td>0</td>\n",
       "      <td>Kamaru Usman</td>\n",
       "    </tr>\n",
       "    <tr>\n",
       "      <th>3</th>\n",
       "      <td>2018-01-14</td>\n",
       "      <td>Michael Johnson</td>\n",
       "      <td>Darren Elkins</td>\n",
       "      <td>6</td>\n",
       "      <td>Rear Naked Choke</td>\n",
       "      <td>SUB</td>\n",
       "      <td>1986-06-04</td>\n",
       "      <td>5' 10</td>\n",
       "      <td>Southpaw</td>\n",
       "      <td>1984-05-16</td>\n",
       "      <td>...</td>\n",
       "      <td>12296</td>\n",
       "      <td>20</td>\n",
       "      <td>14</td>\n",
       "      <td>0</td>\n",
       "      <td>0</td>\n",
       "      <td>25</td>\n",
       "      <td>7</td>\n",
       "      <td>0</td>\n",
       "      <td>0</td>\n",
       "      <td>Darren Elkins</td>\n",
       "    </tr>\n",
       "    <tr>\n",
       "      <th>4</th>\n",
       "      <td>2018-01-14</td>\n",
       "      <td>Alex White</td>\n",
       "      <td>James Krause</td>\n",
       "      <td>7</td>\n",
       "      <td>NaN</td>\n",
       "      <td>U-DEC</td>\n",
       "      <td>1988-10-22</td>\n",
       "      <td>6' 0</td>\n",
       "      <td>Southpaw</td>\n",
       "      <td>1986-06-04</td>\n",
       "      <td>...</td>\n",
       "      <td>11547</td>\n",
       "      <td>13</td>\n",
       "      <td>5</td>\n",
       "      <td>0</td>\n",
       "      <td>0</td>\n",
       "      <td>25</td>\n",
       "      <td>8</td>\n",
       "      <td>0</td>\n",
       "      <td>0</td>\n",
       "      <td>James Krause</td>\n",
       "    </tr>\n",
       "  </tbody>\n",
       "</table>\n",
       "<p>5 rows × 23 columns</p>\n",
       "</div>"
      ],
      "text/plain": [
       "  event_date             figher1         fighter2  weight_class  \\\n",
       "0 2018-01-14          Dooho Choi  Jeremy Stephens             6   \n",
       "1 2018-01-14  Jessica-Rose Clark    Paige VanZant             1   \n",
       "2 2018-01-14           Emil Meek     Kamaru Usman             8   \n",
       "3 2018-01-14     Michael Johnson    Darren Elkins             6   \n",
       "4 2018-01-14          Alex White     James Krause             7   \n",
       "\n",
       "  win_method_finish win_method_type     f1_dob f1_height f1_stance     f2_dob  \\\n",
       "0             Punch          KO/TKO 1991-04-10     5' 10  Orthodox 1986-05-25   \n",
       "1               NaN           U-DEC 1987-11-28      5' 5  Orthodox 1994-03-26   \n",
       "2               NaN           U-DEC 1988-08-20     5' 11    Switch 1987-05-11   \n",
       "3  Rear Naked Choke             SUB 1986-06-04     5' 10  Southpaw 1984-05-16   \n",
       "4               NaN           U-DEC 1988-10-22      6' 0  Southpaw 1986-06-04   \n",
       "\n",
       "          ...         f2_ageAtFight f1_win  f1_loss  f1_draw  f1_nc  f2_win  \\\n",
       "0         ...                 11557     14        3        0      0      28   \n",
       "1         ...                  8695      9        5        0      1       8   \n",
       "2         ...                 11206      9        4        1      1      15   \n",
       "3         ...                 12296     20       14        0      0      25   \n",
       "4         ...                 11547     13        5        0      0      25   \n",
       "\n",
       "   f2_loss  f2_draw  f2_nc              winner  \n",
       "0       16        0      0     Jeremy Stephens  \n",
       "1        4        0      0  Jessica-Rose Clark  \n",
       "2        1        0      0        Kamaru Usman  \n",
       "3        7        0      0       Darren Elkins  \n",
       "4        8        0      0        James Krause  \n",
       "\n",
       "[5 rows x 23 columns]"
      ]
     },
     "execution_count": 877,
     "metadata": {},
     "output_type": "execute_result"
    }
   ],
   "source": [
    "categorical_fb.head()"
   ]
  },
  {
   "cell_type": "code",
   "execution_count": 878,
   "metadata": {},
   "outputs": [],
   "source": [
    "def parse_height(height):\n",
    "    #expected format is 5' 10, 6'3 etc\n",
    "    ht = height.split(\"' \")\n",
    "    ft = float(ht[0])\n",
    "    inch = float(ht[1])\n",
    "    return (12*ft) + inch\n",
    "        "
   ]
  },
  {
   "cell_type": "code",
   "execution_count": 879,
   "metadata": {},
   "outputs": [],
   "source": [
    "categorical_fb.f2_height = categorical_fb.f2_height.apply(lambda x: parse_height(x))\n",
    "categorical_fb.f1_height = categorical_fb.f1_height.apply(lambda x: parse_height(x))"
   ]
  },
  {
   "cell_type": "code",
   "execution_count": 880,
   "metadata": {},
   "outputs": [],
   "source": [
    "categorical_fb = categorical_fb.join(pd.get_dummies(categorical_fb.win_method_type,prefix= 'win_method'))\n",
    "categorical_fb = categorical_fb.join(pd.get_dummies(categorical_fb.win_method_finish,prefix= 'win_finish'))\n",
    "categorical_fb = categorical_fb.join(pd.get_dummies(categorical_fb.f1_stance,prefix= 'f1_stance'))\n",
    "categorical_fb = categorical_fb.join(pd.get_dummies(categorical_fb.f2_stance,prefix= 'f2_stance'))"
   ]
  },
  {
   "cell_type": "code",
   "execution_count": 881,
   "metadata": {},
   "outputs": [],
   "source": [
    "categorical_fb = categorical_fb.drop(columns=['win_method_type','win_method_finish','f1_stance','f2_stance','f1_dob','f2_dob','event_date'])"
   ]
  },
  {
   "cell_type": "code",
   "execution_count": 882,
   "metadata": {},
   "outputs": [],
   "source": [
    "\n",
    "#adds winner to end of column for readability \n",
    "cols = list(categorical_fb.columns.values) \n",
    "cols.pop(cols.index('winner')) \n",
    "categorical_fb = categorical_fb[cols+['winner']] \n",
    "\n"
   ]
  },
  {
   "cell_type": "code",
   "execution_count": 883,
   "metadata": {},
   "outputs": [],
   "source": [
    "categorical_fb['winner'] = (categorical_fb['fighter2'] == categorical_fb['winner']).astype('int')\n",
    "categorical_fb['figher1'] = 0\n",
    "categorical_fb['fighter2'] = 1"
   ]
  },
  {
   "cell_type": "code",
   "execution_count": 884,
   "metadata": {},
   "outputs": [],
   "source": [
    "fbs_joined = pd.concat([fighter_bouts,categorical_fb],axis=1)"
   ]
  },
  {
   "cell_type": "code",
   "execution_count": 885,
   "metadata": {},
   "outputs": [],
   "source": [
    "target = fbs_joined.winner"
   ]
  },
  {
   "cell_type": "code",
   "execution_count": 886,
   "metadata": {},
   "outputs": [],
   "source": [
    "fbs_joined = fbs_joined.drop(columns=['event_attendence'])"
   ]
  },
  {
   "cell_type": "code",
   "execution_count": 887,
   "metadata": {},
   "outputs": [],
   "source": [
    "#we'll be using this later for the second model prep\n",
    "fbj_copy = fbs_joined.copy()"
   ]
  },
  {
   "cell_type": "code",
   "execution_count": 888,
   "metadata": {},
   "outputs": [],
   "source": [
    "fbs_joined = fbs_joined.drop(columns=['winner'])"
   ]
  },
  {
   "cell_type": "code",
   "execution_count": 889,
   "metadata": {},
   "outputs": [
    {
     "data": {
      "text/html": [
       "<div>\n",
       "<style scoped>\n",
       "    .dataframe tbody tr th:only-of-type {\n",
       "        vertical-align: middle;\n",
       "    }\n",
       "\n",
       "    .dataframe tbody tr th {\n",
       "        vertical-align: top;\n",
       "    }\n",
       "\n",
       "    .dataframe thead th {\n",
       "        text-align: right;\n",
       "    }\n",
       "</style>\n",
       "<table border=\"1\" class=\"dataframe\">\n",
       "  <thead>\n",
       "    <tr style=\"text-align: right;\">\n",
       "      <th></th>\n",
       "      <th>pass_stat_f1</th>\n",
       "      <th>pass_stat_f2</th>\n",
       "      <th>str_stat_f1</th>\n",
       "      <th>str_stat_f2</th>\n",
       "      <th>sub_stat_f1</th>\n",
       "      <th>sub_stat_f2</th>\n",
       "      <th>td_stat_f1</th>\n",
       "      <th>td_stat_f2</th>\n",
       "      <th>f1_reach</th>\n",
       "      <th>f1_sapm</th>\n",
       "      <th>...</th>\n",
       "      <th>f1_stance_Open Stance</th>\n",
       "      <th>f1_stance_Orthodox</th>\n",
       "      <th>f1_stance_Sideways</th>\n",
       "      <th>f1_stance_Southpaw</th>\n",
       "      <th>f1_stance_Switch</th>\n",
       "      <th>f2_stance_Open Stance</th>\n",
       "      <th>f2_stance_Orthodox</th>\n",
       "      <th>f2_stance_Sideways</th>\n",
       "      <th>f2_stance_Southpaw</th>\n",
       "      <th>f2_stance_Switch</th>\n",
       "    </tr>\n",
       "  </thead>\n",
       "  <tbody>\n",
       "    <tr>\n",
       "      <th>0</th>\n",
       "      <td>0</td>\n",
       "      <td>0</td>\n",
       "      <td>44</td>\n",
       "      <td>49</td>\n",
       "      <td>0</td>\n",
       "      <td>0</td>\n",
       "      <td>0</td>\n",
       "      <td>0</td>\n",
       "      <td>70.0</td>\n",
       "      <td>6.26</td>\n",
       "      <td>...</td>\n",
       "      <td>0</td>\n",
       "      <td>1</td>\n",
       "      <td>0</td>\n",
       "      <td>0</td>\n",
       "      <td>0</td>\n",
       "      <td>0</td>\n",
       "      <td>1</td>\n",
       "      <td>0</td>\n",
       "      <td>0</td>\n",
       "      <td>0</td>\n",
       "    </tr>\n",
       "    <tr>\n",
       "      <th>1</th>\n",
       "      <td>4</td>\n",
       "      <td>0</td>\n",
       "      <td>55</td>\n",
       "      <td>54</td>\n",
       "      <td>1</td>\n",
       "      <td>0</td>\n",
       "      <td>2</td>\n",
       "      <td>0</td>\n",
       "      <td>64.0</td>\n",
       "      <td>4.13</td>\n",
       "      <td>...</td>\n",
       "      <td>0</td>\n",
       "      <td>1</td>\n",
       "      <td>0</td>\n",
       "      <td>0</td>\n",
       "      <td>0</td>\n",
       "      <td>0</td>\n",
       "      <td>1</td>\n",
       "      <td>0</td>\n",
       "      <td>0</td>\n",
       "      <td>0</td>\n",
       "    </tr>\n",
       "    <tr>\n",
       "      <th>2</th>\n",
       "      <td>0</td>\n",
       "      <td>7</td>\n",
       "      <td>30</td>\n",
       "      <td>50</td>\n",
       "      <td>2</td>\n",
       "      <td>0</td>\n",
       "      <td>0</td>\n",
       "      <td>8</td>\n",
       "      <td>74.0</td>\n",
       "      <td>2.64</td>\n",
       "      <td>...</td>\n",
       "      <td>0</td>\n",
       "      <td>0</td>\n",
       "      <td>0</td>\n",
       "      <td>0</td>\n",
       "      <td>1</td>\n",
       "      <td>0</td>\n",
       "      <td>0</td>\n",
       "      <td>0</td>\n",
       "      <td>0</td>\n",
       "      <td>1</td>\n",
       "    </tr>\n",
       "    <tr>\n",
       "      <th>3</th>\n",
       "      <td>0</td>\n",
       "      <td>2</td>\n",
       "      <td>45</td>\n",
       "      <td>18</td>\n",
       "      <td>0</td>\n",
       "      <td>1</td>\n",
       "      <td>0</td>\n",
       "      <td>1</td>\n",
       "      <td>73.0</td>\n",
       "      <td>3.82</td>\n",
       "      <td>...</td>\n",
       "      <td>0</td>\n",
       "      <td>0</td>\n",
       "      <td>0</td>\n",
       "      <td>1</td>\n",
       "      <td>0</td>\n",
       "      <td>0</td>\n",
       "      <td>1</td>\n",
       "      <td>0</td>\n",
       "      <td>0</td>\n",
       "      <td>0</td>\n",
       "    </tr>\n",
       "    <tr>\n",
       "      <th>4</th>\n",
       "      <td>0</td>\n",
       "      <td>4</td>\n",
       "      <td>56</td>\n",
       "      <td>35</td>\n",
       "      <td>0</td>\n",
       "      <td>2</td>\n",
       "      <td>1</td>\n",
       "      <td>3</td>\n",
       "      <td>71.0</td>\n",
       "      <td>2.87</td>\n",
       "      <td>...</td>\n",
       "      <td>0</td>\n",
       "      <td>0</td>\n",
       "      <td>0</td>\n",
       "      <td>1</td>\n",
       "      <td>0</td>\n",
       "      <td>0</td>\n",
       "      <td>1</td>\n",
       "      <td>0</td>\n",
       "      <td>0</td>\n",
       "      <td>0</td>\n",
       "    </tr>\n",
       "  </tbody>\n",
       "</table>\n",
       "<p>5 rows × 99 columns</p>\n",
       "</div>"
      ],
      "text/plain": [
       "   pass_stat_f1  pass_stat_f2  str_stat_f1  str_stat_f2  sub_stat_f1  \\\n",
       "0             0             0           44           49            0   \n",
       "1             4             0           55           54            1   \n",
       "2             0             7           30           50            2   \n",
       "3             0             2           45           18            0   \n",
       "4             0             4           56           35            0   \n",
       "\n",
       "   sub_stat_f2  td_stat_f1  td_stat_f2  f1_reach  f1_sapm        ...         \\\n",
       "0            0           0           0      70.0     6.26        ...          \n",
       "1            0           2           0      64.0     4.13        ...          \n",
       "2            0           0           8      74.0     2.64        ...          \n",
       "3            1           0           1      73.0     3.82        ...          \n",
       "4            2           1           3      71.0     2.87        ...          \n",
       "\n",
       "   f1_stance_Open Stance  f1_stance_Orthodox  f1_stance_Sideways  \\\n",
       "0                      0                   1                   0   \n",
       "1                      0                   1                   0   \n",
       "2                      0                   0                   0   \n",
       "3                      0                   0                   0   \n",
       "4                      0                   0                   0   \n",
       "\n",
       "   f1_stance_Southpaw  f1_stance_Switch  f2_stance_Open Stance  \\\n",
       "0                   0                 0                      0   \n",
       "1                   0                 0                      0   \n",
       "2                   0                 1                      0   \n",
       "3                   1                 0                      0   \n",
       "4                   1                 0                      0   \n",
       "\n",
       "   f2_stance_Orthodox  f2_stance_Sideways  f2_stance_Southpaw  \\\n",
       "0                   1                   0                   0   \n",
       "1                   1                   0                   0   \n",
       "2                   0                   0                   0   \n",
       "3                   1                   0                   0   \n",
       "4                   1                   0                   0   \n",
       "\n",
       "   f2_stance_Switch  \n",
       "0                 0  \n",
       "1                 0  \n",
       "2                 1  \n",
       "3                 0  \n",
       "4                 0  \n",
       "\n",
       "[5 rows x 99 columns]"
      ]
     },
     "execution_count": 889,
     "metadata": {},
     "output_type": "execute_result"
    }
   ],
   "source": [
    "fbs_joined.head()"
   ]
  },
  {
   "cell_type": "code",
   "execution_count": 890,
   "metadata": {},
   "outputs": [],
   "source": [
    "from sklearn.preprocessing import StandardScaler\n",
    "from sklearn.impute import SimpleImputer\n",
    "imputer = SimpleImputer(strategy= 'median',copy= False)\n",
    "scaler = StandardScaler()"
   ]
  },
  {
   "cell_type": "code",
   "execution_count": 891,
   "metadata": {},
   "outputs": [
    {
     "name": "stderr",
     "output_type": "stream",
     "text": [
      "/Users/charlespierse/anaconda3/lib/python3.7/site-packages/sklearn/preprocessing/data.py:625: DataConversionWarning: Data with input dtype uint8, int64, float64 were all converted to float64 by StandardScaler.\n",
      "  return self.partial_fit(X, y)\n",
      "/Users/charlespierse/anaconda3/lib/python3.7/site-packages/sklearn/base.py:462: DataConversionWarning: Data with input dtype uint8, int64, float64 were all converted to float64 by StandardScaler.\n",
      "  return self.fit(X, **fit_params).transform(X)\n"
     ]
    }
   ],
   "source": [
    "scaled_fbs = scaler.fit_transform(fbs_joined)\n",
    "imputed_fbs = imputer.fit_transform(scaled_fbs)"
   ]
  },
  {
   "cell_type": "code",
   "execution_count": null,
   "metadata": {},
   "outputs": [],
   "source": [
    "scaled_fbs[0:10]"
   ]
  },
  {
   "cell_type": "code",
   "execution_count": 893,
   "metadata": {},
   "outputs": [],
   "source": [
    "from sklearn.model_selection import StratifiedShuffleSplit\n",
    "sss= StratifiedShuffleSplit(n_splits=20,test_size=0.2,random_state=42)\n",
    "\n",
    "for train_index, test_index in sss.split(imputed_fbs, target):\n",
    "    X_train, X_test = imputed_fbs[train_index], imputed_fbs[test_index]\n",
    "    y_train, y_test = target[train_index], target[test_index]"
   ]
  },
  {
   "cell_type": "code",
   "execution_count": 894,
   "metadata": {},
   "outputs": [],
   "source": [
    "np.savetxt(\"model_data/X_train.csv\", X_train, delimiter=\",\")\n",
    "np.savetxt(\"model_data/y_train.csv\", y_train, delimiter=\",\")\n",
    "np.savetxt(\"model_data/X_test.csv\", X_test, delimiter=\",\")\n",
    "np.savetxt(\"model_data/y_test.csv\", y_test, delimiter=\",\")"
   ]
  },
  {
   "cell_type": "markdown",
   "metadata": {},
   "source": [
    "# Fight Stats Prediction Data Prep"
   ]
  },
  {
   "cell_type": "markdown",
   "metadata": {},
   "source": [
    "This next step is about preparing the data for the second model that will be used.\n",
    "The aim of this model is to produce multiple linear regressions that will try to predict the \n",
    "performance (fight stats) of two fighters in a bout and then pass those on to our main Neural Net"
   ]
  },
  {
   "cell_type": "code",
   "execution_count": 895,
   "metadata": {},
   "outputs": [],
   "source": [
    "drop_cols =[]\n",
    "for col in fbj_copy.columns:\n",
    "    if 'win_method_' in col or 'win_finish_' in col:\n",
    "        drop_cols.append(col)\n",
    "fbj_copy = fbj_copy.drop(columns=drop_cols)        "
   ]
  },
  {
   "cell_type": "code",
   "execution_count": 896,
   "metadata": {},
   "outputs": [
    {
     "data": {
      "text/plain": [
       "Index(['pass_stat_f1', 'pass_stat_f2', 'str_stat_f1', 'str_stat_f2',\n",
       "       'sub_stat_f1', 'sub_stat_f2', 'td_stat_f1', 'td_stat_f2', 'f1_reach',\n",
       "       'f1_sapm', 'f1_slpm', 'f1_stk_acc', 'f1_stk_def', 'f1_sub_avg',\n",
       "       'f1_td_acc', 'f1_td_avg', 'f1_td_def', 'f1_weight', 'f2_reach',\n",
       "       'f2_sapm', 'f2_slpm', 'f2_stk_acc', 'f2_stk_def', 'f2_sub_avg',\n",
       "       'f2_td_acc', 'f2_td_avg', 'f2_td_def', 'f2_weight', 'figher1',\n",
       "       'fighter2', 'weight_class', 'f1_height', 'f2_height', 'f1_ageAtFight',\n",
       "       'f2_ageAtFight', 'f1_win', 'f1_loss', 'f1_draw', 'f1_nc', 'f2_win',\n",
       "       'f2_loss', 'f2_draw', 'f2_nc', 'f1_stance_Open Stance',\n",
       "       'f1_stance_Orthodox', 'f1_stance_Sideways', 'f1_stance_Southpaw',\n",
       "       'f1_stance_Switch', 'f2_stance_Open Stance', 'f2_stance_Orthodox',\n",
       "       'f2_stance_Sideways', 'f2_stance_Southpaw', 'f2_stance_Switch',\n",
       "       'winner'],\n",
       "      dtype='object')"
      ]
     },
     "execution_count": 896,
     "metadata": {},
     "output_type": "execute_result"
    }
   ],
   "source": [
    "fbj_copy.columns"
   ]
  },
  {
   "cell_type": "code",
   "execution_count": 897,
   "metadata": {},
   "outputs": [],
   "source": [
    "predictor_cols = ['pass_stat_f1', 'pass_stat_f2', 'str_stat_f1', 'str_stat_f2',\n",
    "       'sub_stat_f1', 'sub_stat_f2', 'td_stat_f1', 'td_stat_f2',]"
   ]
  },
  {
   "cell_type": "code",
   "execution_count": 898,
   "metadata": {},
   "outputs": [
    {
     "data": {
      "text/html": [
       "<div>\n",
       "<style scoped>\n",
       "    .dataframe tbody tr th:only-of-type {\n",
       "        vertical-align: middle;\n",
       "    }\n",
       "\n",
       "    .dataframe tbody tr th {\n",
       "        vertical-align: top;\n",
       "    }\n",
       "\n",
       "    .dataframe thead th {\n",
       "        text-align: right;\n",
       "    }\n",
       "</style>\n",
       "<table border=\"1\" class=\"dataframe\">\n",
       "  <thead>\n",
       "    <tr style=\"text-align: right;\">\n",
       "      <th></th>\n",
       "      <th>pass_stat_f1</th>\n",
       "      <th>pass_stat_f2</th>\n",
       "      <th>str_stat_f1</th>\n",
       "      <th>str_stat_f2</th>\n",
       "      <th>sub_stat_f1</th>\n",
       "      <th>sub_stat_f2</th>\n",
       "      <th>td_stat_f1</th>\n",
       "      <th>td_stat_f2</th>\n",
       "    </tr>\n",
       "  </thead>\n",
       "  <tbody>\n",
       "    <tr>\n",
       "      <th>0</th>\n",
       "      <td>0</td>\n",
       "      <td>0</td>\n",
       "      <td>44</td>\n",
       "      <td>49</td>\n",
       "      <td>0</td>\n",
       "      <td>0</td>\n",
       "      <td>0</td>\n",
       "      <td>0</td>\n",
       "    </tr>\n",
       "    <tr>\n",
       "      <th>1</th>\n",
       "      <td>4</td>\n",
       "      <td>0</td>\n",
       "      <td>55</td>\n",
       "      <td>54</td>\n",
       "      <td>1</td>\n",
       "      <td>0</td>\n",
       "      <td>2</td>\n",
       "      <td>0</td>\n",
       "    </tr>\n",
       "    <tr>\n",
       "      <th>2</th>\n",
       "      <td>0</td>\n",
       "      <td>7</td>\n",
       "      <td>30</td>\n",
       "      <td>50</td>\n",
       "      <td>2</td>\n",
       "      <td>0</td>\n",
       "      <td>0</td>\n",
       "      <td>8</td>\n",
       "    </tr>\n",
       "    <tr>\n",
       "      <th>3</th>\n",
       "      <td>0</td>\n",
       "      <td>2</td>\n",
       "      <td>45</td>\n",
       "      <td>18</td>\n",
       "      <td>0</td>\n",
       "      <td>1</td>\n",
       "      <td>0</td>\n",
       "      <td>1</td>\n",
       "    </tr>\n",
       "    <tr>\n",
       "      <th>4</th>\n",
       "      <td>0</td>\n",
       "      <td>4</td>\n",
       "      <td>56</td>\n",
       "      <td>35</td>\n",
       "      <td>0</td>\n",
       "      <td>2</td>\n",
       "      <td>1</td>\n",
       "      <td>3</td>\n",
       "    </tr>\n",
       "  </tbody>\n",
       "</table>\n",
       "</div>"
      ],
      "text/plain": [
       "   pass_stat_f1  pass_stat_f2  str_stat_f1  str_stat_f2  sub_stat_f1  \\\n",
       "0             0             0           44           49            0   \n",
       "1             4             0           55           54            1   \n",
       "2             0             7           30           50            2   \n",
       "3             0             2           45           18            0   \n",
       "4             0             4           56           35            0   \n",
       "\n",
       "   sub_stat_f2  td_stat_f1  td_stat_f2  \n",
       "0            0           0           0  \n",
       "1            0           2           0  \n",
       "2            0           0           8  \n",
       "3            1           0           1  \n",
       "4            2           1           3  "
      ]
     },
     "execution_count": 898,
     "metadata": {},
     "output_type": "execute_result"
    }
   ],
   "source": [
    "fbj_copy[predictor_cols].head()"
   ]
  },
  {
   "cell_type": "code",
   "execution_count": 899,
   "metadata": {},
   "outputs": [],
   "source": [
    "targets = fbj_copy[predictor_cols]"
   ]
  },
  {
   "cell_type": "code",
   "execution_count": 900,
   "metadata": {},
   "outputs": [],
   "source": [
    "fbj_copy =fbj_copy.drop(columns= targets.columns)"
   ]
  },
  {
   "cell_type": "code",
   "execution_count": 901,
   "metadata": {},
   "outputs": [
    {
     "data": {
      "text/html": [
       "<div>\n",
       "<style scoped>\n",
       "    .dataframe tbody tr th:only-of-type {\n",
       "        vertical-align: middle;\n",
       "    }\n",
       "\n",
       "    .dataframe tbody tr th {\n",
       "        vertical-align: top;\n",
       "    }\n",
       "\n",
       "    .dataframe thead th {\n",
       "        text-align: right;\n",
       "    }\n",
       "</style>\n",
       "<table border=\"1\" class=\"dataframe\">\n",
       "  <thead>\n",
       "    <tr style=\"text-align: right;\">\n",
       "      <th></th>\n",
       "      <th>f1_reach</th>\n",
       "      <th>f1_sapm</th>\n",
       "      <th>f1_slpm</th>\n",
       "      <th>f1_stk_acc</th>\n",
       "      <th>f1_stk_def</th>\n",
       "      <th>f1_sub_avg</th>\n",
       "      <th>f1_td_acc</th>\n",
       "      <th>f1_td_avg</th>\n",
       "      <th>f1_td_def</th>\n",
       "      <th>f1_weight</th>\n",
       "      <th>...</th>\n",
       "      <th>f1_stance_Orthodox</th>\n",
       "      <th>f1_stance_Sideways</th>\n",
       "      <th>f1_stance_Southpaw</th>\n",
       "      <th>f1_stance_Switch</th>\n",
       "      <th>f2_stance_Open Stance</th>\n",
       "      <th>f2_stance_Orthodox</th>\n",
       "      <th>f2_stance_Sideways</th>\n",
       "      <th>f2_stance_Southpaw</th>\n",
       "      <th>f2_stance_Switch</th>\n",
       "      <th>winner</th>\n",
       "    </tr>\n",
       "  </thead>\n",
       "  <tbody>\n",
       "    <tr>\n",
       "      <th>0</th>\n",
       "      <td>70.0</td>\n",
       "      <td>6.26</td>\n",
       "      <td>5.64</td>\n",
       "      <td>53</td>\n",
       "      <td>54</td>\n",
       "      <td>0.0</td>\n",
       "      <td>20</td>\n",
       "      <td>0.55</td>\n",
       "      <td>50</td>\n",
       "      <td>145.0</td>\n",
       "      <td>...</td>\n",
       "      <td>1</td>\n",
       "      <td>0</td>\n",
       "      <td>0</td>\n",
       "      <td>0</td>\n",
       "      <td>0</td>\n",
       "      <td>1</td>\n",
       "      <td>0</td>\n",
       "      <td>0</td>\n",
       "      <td>0</td>\n",
       "      <td>1</td>\n",
       "    </tr>\n",
       "    <tr>\n",
       "      <th>1</th>\n",
       "      <td>64.0</td>\n",
       "      <td>4.13</td>\n",
       "      <td>4.60</td>\n",
       "      <td>50</td>\n",
       "      <td>61</td>\n",
       "      <td>0.7</td>\n",
       "      <td>66</td>\n",
       "      <td>1.33</td>\n",
       "      <td>57</td>\n",
       "      <td>125.0</td>\n",
       "      <td>...</td>\n",
       "      <td>1</td>\n",
       "      <td>0</td>\n",
       "      <td>0</td>\n",
       "      <td>0</td>\n",
       "      <td>0</td>\n",
       "      <td>1</td>\n",
       "      <td>0</td>\n",
       "      <td>0</td>\n",
       "      <td>0</td>\n",
       "      <td>0</td>\n",
       "    </tr>\n",
       "    <tr>\n",
       "      <th>2</th>\n",
       "      <td>74.0</td>\n",
       "      <td>2.64</td>\n",
       "      <td>2.24</td>\n",
       "      <td>38</td>\n",
       "      <td>32</td>\n",
       "      <td>1.3</td>\n",
       "      <td>50</td>\n",
       "      <td>0.33</td>\n",
       "      <td>48</td>\n",
       "      <td>170.0</td>\n",
       "      <td>...</td>\n",
       "      <td>0</td>\n",
       "      <td>0</td>\n",
       "      <td>0</td>\n",
       "      <td>1</td>\n",
       "      <td>0</td>\n",
       "      <td>0</td>\n",
       "      <td>0</td>\n",
       "      <td>0</td>\n",
       "      <td>1</td>\n",
       "      <td>1</td>\n",
       "    </tr>\n",
       "    <tr>\n",
       "      <th>3</th>\n",
       "      <td>73.0</td>\n",
       "      <td>3.82</td>\n",
       "      <td>4.15</td>\n",
       "      <td>37</td>\n",
       "      <td>58</td>\n",
       "      <td>0.1</td>\n",
       "      <td>45</td>\n",
       "      <td>0.56</td>\n",
       "      <td>78</td>\n",
       "      <td>145.0</td>\n",
       "      <td>...</td>\n",
       "      <td>0</td>\n",
       "      <td>0</td>\n",
       "      <td>1</td>\n",
       "      <td>0</td>\n",
       "      <td>0</td>\n",
       "      <td>1</td>\n",
       "      <td>0</td>\n",
       "      <td>0</td>\n",
       "      <td>0</td>\n",
       "      <td>1</td>\n",
       "    </tr>\n",
       "    <tr>\n",
       "      <th>4</th>\n",
       "      <td>71.0</td>\n",
       "      <td>2.87</td>\n",
       "      <td>3.77</td>\n",
       "      <td>42</td>\n",
       "      <td>62</td>\n",
       "      <td>0.6</td>\n",
       "      <td>50</td>\n",
       "      <td>1.05</td>\n",
       "      <td>72</td>\n",
       "      <td>155.0</td>\n",
       "      <td>...</td>\n",
       "      <td>0</td>\n",
       "      <td>0</td>\n",
       "      <td>1</td>\n",
       "      <td>0</td>\n",
       "      <td>0</td>\n",
       "      <td>1</td>\n",
       "      <td>0</td>\n",
       "      <td>0</td>\n",
       "      <td>0</td>\n",
       "      <td>1</td>\n",
       "    </tr>\n",
       "  </tbody>\n",
       "</table>\n",
       "<p>5 rows × 46 columns</p>\n",
       "</div>"
      ],
      "text/plain": [
       "   f1_reach  f1_sapm  f1_slpm  f1_stk_acc  f1_stk_def  f1_sub_avg  f1_td_acc  \\\n",
       "0      70.0     6.26     5.64          53          54         0.0         20   \n",
       "1      64.0     4.13     4.60          50          61         0.7         66   \n",
       "2      74.0     2.64     2.24          38          32         1.3         50   \n",
       "3      73.0     3.82     4.15          37          58         0.1         45   \n",
       "4      71.0     2.87     3.77          42          62         0.6         50   \n",
       "\n",
       "   f1_td_avg  f1_td_def  f1_weight   ...    f1_stance_Orthodox  \\\n",
       "0       0.55         50      145.0   ...                     1   \n",
       "1       1.33         57      125.0   ...                     1   \n",
       "2       0.33         48      170.0   ...                     0   \n",
       "3       0.56         78      145.0   ...                     0   \n",
       "4       1.05         72      155.0   ...                     0   \n",
       "\n",
       "   f1_stance_Sideways  f1_stance_Southpaw  f1_stance_Switch  \\\n",
       "0                   0                   0                 0   \n",
       "1                   0                   0                 0   \n",
       "2                   0                   0                 1   \n",
       "3                   0                   1                 0   \n",
       "4                   0                   1                 0   \n",
       "\n",
       "   f2_stance_Open Stance  f2_stance_Orthodox  f2_stance_Sideways  \\\n",
       "0                      0                   1                   0   \n",
       "1                      0                   1                   0   \n",
       "2                      0                   0                   0   \n",
       "3                      0                   1                   0   \n",
       "4                      0                   1                   0   \n",
       "\n",
       "   f2_stance_Southpaw  f2_stance_Switch  winner  \n",
       "0                   0                 0       1  \n",
       "1                   0                 0       0  \n",
       "2                   0                 1       1  \n",
       "3                   0                 0       1  \n",
       "4                   0                 0       1  \n",
       "\n",
       "[5 rows x 46 columns]"
      ]
     },
     "execution_count": 901,
     "metadata": {},
     "output_type": "execute_result"
    }
   ],
   "source": [
    "fbj_copy.head()"
   ]
  },
  {
   "cell_type": "code",
   "execution_count": 902,
   "metadata": {},
   "outputs": [],
   "source": [
    "from sklearn.preprocessing import StandardScaler\n",
    "from sklearn.impute import SimpleImputer\n",
    "from sklearn.preprocessing import Normalizer\n",
    "imputer = SimpleImputer(strategy= 'median',copy= False)\n",
    "scaler = StandardScaler()\n",
    "normalizer = Normalizer()"
   ]
  },
  {
   "cell_type": "code",
   "execution_count": 903,
   "metadata": {},
   "outputs": [
    {
     "name": "stderr",
     "output_type": "stream",
     "text": [
      "/Users/charlespierse/anaconda3/lib/python3.7/site-packages/sklearn/preprocessing/data.py:625: DataConversionWarning: Data with input dtype uint8, int64, float64 were all converted to float64 by StandardScaler.\n",
      "  return self.partial_fit(X, y)\n",
      "/Users/charlespierse/anaconda3/lib/python3.7/site-packages/sklearn/base.py:462: DataConversionWarning: Data with input dtype uint8, int64, float64 were all converted to float64 by StandardScaler.\n",
      "  return self.fit(X, **fit_params).transform(X)\n"
     ]
    }
   ],
   "source": [
    "scaled_fbj = scaler.fit_transform(fbj_copy)\n",
    "imputed_fbj = imputer.fit_transform(fbj_copy)"
   ]
  },
  {
   "cell_type": "code",
   "execution_count": 904,
   "metadata": {},
   "outputs": [],
   "source": [
    "from sklearn.model_selection import train_test_split\n",
    "X_train, X_test, y_train, y_test = train_test_split(imputed_fbj, targets, test_size=0.10, random_state=42)\n"
   ]
  },
  {
   "cell_type": "code",
   "execution_count": 905,
   "metadata": {},
   "outputs": [],
   "source": [
    "np.savetxt(\"model_data/X_train_stats.csv\", X_train, delimiter=\",\")\n",
    "np.savetxt(\"model_data/y_train_stats.csv\", y_train, delimiter=\",\")\n",
    "np.savetxt(\"model_data/X_test_stats.csv\", X_test, delimiter=\",\")\n",
    "np.savetxt(\"model_data/y_test_stats.csv\", y_test, delimiter=\",\")"
   ]
  },
  {
   "cell_type": "code",
   "execution_count": 664,
   "metadata": {},
   "outputs": [
    {
     "name": "stdout",
     "output_type": "stream",
     "text": [
      "[[0.         0.         0.74404871 ... 0.         0.         0.        ]\n",
      " [0.05180408 0.         0.71230617 ... 0.         0.02590204 0.        ]\n",
      " [0.         0.11803529 0.50586551 ... 0.         0.         0.13489747]\n",
      " ...\n",
      " [0.10724978 0.08043734 0.85799827 ... 0.         0.05362489 0.18768712]\n",
      " [0.         0.         0.65845909 ... 0.         0.0117582  0.        ]\n",
      " [0.01528366 0.         0.91701964 ... 0.         0.03056732 0.        ]]\n"
     ]
    }
   ],
   "source": [
    "print(targets)"
   ]
  },
  {
   "cell_type": "code",
   "execution_count": null,
   "metadata": {},
   "outputs": [],
   "source": []
  }
 ],
 "metadata": {
  "kernelspec": {
   "display_name": "Python 3",
   "language": "python",
   "name": "python3"
  },
  "language_info": {
   "codemirror_mode": {
    "name": "ipython",
    "version": 3
   },
   "file_extension": ".py",
   "mimetype": "text/x-python",
   "name": "python",
   "nbconvert_exporter": "python",
   "pygments_lexer": "ipython3",
   "version": "3.7.1"
  }
 },
 "nbformat": 4,
 "nbformat_minor": 2
}
