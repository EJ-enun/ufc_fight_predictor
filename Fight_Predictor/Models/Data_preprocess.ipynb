{
 "cells": [
  {
   "cell_type": "code",
   "execution_count": 584,
   "metadata": {},
   "outputs": [],
   "source": [
    "import pandas as pd\n",
    "import numpy as np\n",
    "import os \n",
    "import matplotlib.pyplot as plt\n",
    "#import tensorflow as tf \n",
    "pd.set_option('display.max_columns', 500)\n"
   ]
  },
  {
   "cell_type": "markdown",
   "metadata": {},
   "source": [
    "# Preprocess Each Dataset (Fighters and Bouts)"
   ]
  },
  {
   "cell_type": "code",
   "execution_count": 585,
   "metadata": {},
   "outputs": [],
   "source": [
    "#just fighters\n",
    "fighters_data = pd.read_csv('Fights_scraper/spiders/scraped_fighters.csv') \n",
    "#just bouts\n",
    "bouts_data = pd.read_csv('Bouts_Scraper/bouts_scraped/bouts_scraped/spiders/scraped_bouts.csv') \n",
    "#combined dataset, created with SQL Query, joined on fighter1 and 2 names\n",
    "fighter_bouts = pd.read_csv('fighters_bouts_joined.csv') \n"
   ]
  },
  {
   "cell_type": "code",
   "execution_count": 586,
   "metadata": {},
   "outputs": [],
   "source": [
    "fighter_bouts = fighter_bouts.drop(columns=['round','time','win_method_finish','win_method_type'])"
   ]
  },
  {
   "cell_type": "code",
   "execution_count": 587,
   "metadata": {},
   "outputs": [],
   "source": [
    "#shuffles winners in the df to make the classes of winners and losers balanced\n",
    "import math\n",
    "negative_index = np.random.choice(len(fighter_bouts),\n",
    "                                  size= math.ceil(len(fighter_bouts)/2),\n",
    "                                  replace = False)\n",
    "\n",
    "fighter_bouts.iloc[negative_index,[2,3]] = fighter_bouts.iloc[negative_index,[3,2]].values\n",
    "\n"
   ]
  },
  {
   "cell_type": "code",
   "execution_count": 588,
   "metadata": {},
   "outputs": [
    {
     "name": "stderr",
     "output_type": "stream",
     "text": [
      "/Users/charlespierse/anaconda3/lib/python3.7/site-packages/pandas/core/indexing.py:189: SettingWithCopyWarning: \n",
      "A value is trying to be set on a copy of a slice from a DataFrame\n",
      "\n",
      "See the caveats in the documentation: http://pandas.pydata.org/pandas-docs/stable/indexing.html#indexing-view-versus-copy\n",
      "  self._setitem_with_indexer(indexer, value)\n"
     ]
    }
   ],
   "source": [
    "#make winner column align correctly with negative index\n",
    "fighter_bouts['winner'].iloc[negative_index] = fighter_bouts['fighter2'].iloc[negative_index]"
   ]
  },
  {
   "cell_type": "code",
   "execution_count": 589,
   "metadata": {},
   "outputs": [],
   "source": [
    "#creates two lists of the relevant columns stats for f1 and f2\n",
    "f1_list = [col for col in fighter_bouts.columns if 'f1' in col]\n",
    "f2_list = [col for col in fighter_bouts.columns if 'f2' in col]\n"
   ]
  },
  {
   "cell_type": "code",
   "execution_count": 590,
   "metadata": {},
   "outputs": [],
   "source": [
    "f1_index = []\n",
    "for col in fighter_bouts.columns:\n",
    "    if col in f1_list:\n",
    "        f1_index.append(fighter_bouts.columns.get_loc(col))\n",
    "\n",
    "f2_index = []\n",
    "for col in fighter_bouts.columns:\n",
    "    if col in f2_list:\n",
    "        f2_index.append(fighter_bouts.columns.get_loc(col))"
   ]
  },
  {
   "cell_type": "code",
   "execution_count": 591,
   "metadata": {},
   "outputs": [],
   "source": [
    "fb_copy = fighter_bouts.copy()\n",
    "#all values at the negative index of f1's become the values of negative index of f2's\n",
    "fighter_bouts.iloc[negative_index,f1_index] = fighter_bouts.iloc[negative_index,f2_index].values\n",
    "#all values at the negative index of f2's become the values of negative index of f1's using copy of fb_copy of fighter bouts\n",
    "fighter_bouts.iloc[negative_index,f2_index] =fb_copy.iloc[negative_index,f1_index].values"
   ]
  },
  {
   "cell_type": "code",
   "execution_count": 592,
   "metadata": {},
   "outputs": [],
   "source": [
    "#seperate df consisting only of categorical dtypes\n",
    "categorical_fb = fighter_bouts.select_dtypes(include='object')\n",
    "#drop those types for now from fighter bouts leaving only numeric values\n",
    "fighter_bouts = fighter_bouts.drop(columns=categorical_fb.columns)\n"
   ]
  },
  {
   "cell_type": "code",
   "execution_count": 593,
   "metadata": {},
   "outputs": [],
   "source": [
    "#some fighters have '--' as a null for their DOB and height\n",
    "categorical_fb['f1_dob'] =  categorical_fb['f1_dob'].replace('--',None) \n",
    "categorical_fb['f2_dob'] =  categorical_fb['f2_dob'].replace('--',None)\n",
    "#same as above for height\n",
    "categorical_fb['f1_height'] =  categorical_fb['f1_height'].replace('--',None) \n",
    "categorical_fb['f2_height'] =  categorical_fb['f2_height'].replace('--',None)"
   ]
  },
  {
   "cell_type": "code",
   "execution_count": 594,
   "metadata": {},
   "outputs": [],
   "source": [
    "categorical_fb['event_date'] = pd.to_datetime(categorical_fb['event_date'])\n",
    "categorical_fb['f1_dob'] = pd.to_datetime(categorical_fb['f1_dob'])\n",
    "categorical_fb['f2_dob'] = pd.to_datetime(categorical_fb['f2_dob'])\n"
   ]
  },
  {
   "cell_type": "code",
   "execution_count": 595,
   "metadata": {},
   "outputs": [],
   "source": [
    "#weights can be seen as an ordinal category value so this list declares that order\n",
    "weights_ordered = [\"Women's Strawweight\",\"Women's Flyweight\",\"Women's Bantamweight\",\n",
    "               \"Women's Featherweight\", \"Flyweight\", \"Bantamweight\", \"Featherweight\",\n",
    "               \"Lightweight\",\"Welterweight\", \"Middleweight\",\"Light Heavyweight\",\n",
    "               \"Heavyweight\", \"Super Heavyweight\", \"Open Weight\",\"Catch Weight\"]\n",
    "\n"
   ]
  },
  {
   "cell_type": "code",
   "execution_count": 596,
   "metadata": {},
   "outputs": [
    {
     "name": "stderr",
     "output_type": "stream",
     "text": [
      "/Users/charlespierse/anaconda3/lib/python3.7/site-packages/ipykernel_launcher.py:3: FutureWarning: specifying 'categories' or 'ordered' in .astype() is deprecated; pass a CategoricalDtype instead\n",
      "  This is separate from the ipykernel package so we can avoid doing imports until\n"
     ]
    }
   ],
   "source": [
    "categorical_fb[\"weight_class\"] = categorical_fb.weight_class.astype(\"category\",\n",
    "                                 ordered=True,\n",
    "                                 categories= weights_ordered).cat.codes\n"
   ]
  },
  {
   "cell_type": "code",
   "execution_count": 597,
   "metadata": {},
   "outputs": [],
   "source": [
    "#Creating a new feature for fighter1 and fighter2: ageAtFight. It's ordinal so no need to one hot encode,\n",
    "categorical_fb['f1_ageAtFight'] = (categorical_fb.event_date - categorical_fb.f1_dob).dt.days\n",
    "categorical_fb['f2_ageAtFight'] = (categorical_fb.event_date - categorical_fb.f2_dob).dt.days"
   ]
  },
  {
   "cell_type": "code",
   "execution_count": 598,
   "metadata": {},
   "outputs": [],
   "source": [
    "#starting to clean up the the fighters' records categories, first we replace text ('Record') with nothing\n",
    "categorical_fb = categorical_fb.replace('Record: ',\"\",regex=True) "
   ]
  },
  {
   "cell_type": "code",
   "execution_count": 599,
   "metadata": {},
   "outputs": [],
   "source": [
    "#make these values all zero (just in case something goes wrong with record_split()\n",
    "categorical_fb['f1_win'],categorical_fb['f1_loss'],categorical_fb['f1_draw'],categorical_fb['f1_nc'] = 0,0,0,0\n",
    "categorical_fb['f2_win'],categorical_fb['f2_loss'],categorical_fb['f2_draw'],categorical_fb['f2_nc'] = 0,0,0,0\n"
   ]
  },
  {
   "cell_type": "code",
   "execution_count": 600,
   "metadata": {},
   "outputs": [],
   "source": [
    "#a small function to handle the remainder of the record strings\n",
    "#takes in a row split the values on '-'\n",
    "#if 'NC' is contained the draw var(the only place it could be) then we split draw on brackets first\n",
    "#draw is simply equal to the 0th element of that split\n",
    "#nc is equal to the 1st element of that split with a regex to remove any remaining non numeric values\n",
    "#cast all values to int and return all 4 \n",
    "import re\n",
    "\n",
    "def record_split(row):\n",
    "        win,loss, draw = row.split('-')\n",
    "        nc= 0\n",
    "        if 'NC' in draw:       \n",
    "            draw = draw.split('(')\n",
    "            nc = re.sub('[^0-9]','', draw[1])\n",
    "            draw = draw[0]\n",
    "        else:\n",
    "            nc = 0     \n",
    "            \n",
    "        win,loss, draw, nc = int(win),int(loss), int(draw), int(nc)\n",
    "            \n",
    "        return win,loss,draw,nc\n",
    "        "
   ]
  },
  {
   "cell_type": "code",
   "execution_count": 601,
   "metadata": {},
   "outputs": [],
   "source": [
    "#this is a messy way to do these assignments but works. \n",
    "#use the pd apply function to apply our record_split() function on each row in df\n",
    "#zip(*...) unpacks our results nicely\n",
    "categorical_fb['f1_win'],\\\n",
    "categorical_fb['f1_loss'],\\\n",
    "categorical_fb['f1_draw'],\\\n",
    "categorical_fb['f1_nc'] = zip(*categorical_fb.apply(lambda x: record_split(x['f1_record']), axis=1))\n",
    "\n",
    "categorical_fb['f2_win'],\\\n",
    "categorical_fb['f2_loss'],\\\n",
    "categorical_fb['f2_draw'],\\\n",
    "categorical_fb['f2_nc'] = zip(*categorical_fb.apply(lambda x: record_split(x['f2_record']), axis=1))\n",
    "\n"
   ]
  },
  {
   "cell_type": "code",
   "execution_count": 602,
   "metadata": {},
   "outputs": [],
   "source": [
    "categorical_fb = categorical_fb.drop(columns =['f1_record','f2_record'])"
   ]
  },
  {
   "cell_type": "code",
   "execution_count": 603,
   "metadata": {},
   "outputs": [],
   "source": [
    "\n",
    "#adds winner to end of column for readability \n",
    "cols = list(categorical_fb.columns.values) \n",
    "cols.pop(cols.index('winner')) \n",
    "categorical_fb = categorical_fb[cols+['winner']] \n",
    "\n"
   ]
  },
  {
   "cell_type": "code",
   "execution_count": 604,
   "metadata": {},
   "outputs": [
    {
     "data": {
      "text/html": [
       "<div>\n",
       "<style scoped>\n",
       "    .dataframe tbody tr th:only-of-type {\n",
       "        vertical-align: middle;\n",
       "    }\n",
       "\n",
       "    .dataframe tbody tr th {\n",
       "        vertical-align: top;\n",
       "    }\n",
       "\n",
       "    .dataframe thead th {\n",
       "        text-align: right;\n",
       "    }\n",
       "</style>\n",
       "<table border=\"1\" class=\"dataframe\">\n",
       "  <thead>\n",
       "    <tr style=\"text-align: right;\">\n",
       "      <th></th>\n",
       "      <th>event_date</th>\n",
       "      <th>figher1</th>\n",
       "      <th>fighter2</th>\n",
       "      <th>weight_class</th>\n",
       "      <th>f1_dob</th>\n",
       "      <th>f1_height</th>\n",
       "      <th>f1_stance</th>\n",
       "      <th>f2_dob</th>\n",
       "      <th>f2_height</th>\n",
       "      <th>f2_stance</th>\n",
       "      <th>f1_ageAtFight</th>\n",
       "      <th>f2_ageAtFight</th>\n",
       "      <th>f1_win</th>\n",
       "      <th>f1_loss</th>\n",
       "      <th>f1_draw</th>\n",
       "      <th>f1_nc</th>\n",
       "      <th>f2_win</th>\n",
       "      <th>f2_loss</th>\n",
       "      <th>f2_draw</th>\n",
       "      <th>f2_nc</th>\n",
       "      <th>winner</th>\n",
       "    </tr>\n",
       "  </thead>\n",
       "  <tbody>\n",
       "    <tr>\n",
       "      <th>0</th>\n",
       "      <td>2018-01-14</td>\n",
       "      <td>Jeremy Stephens</td>\n",
       "      <td>Dooho Choi</td>\n",
       "      <td>6</td>\n",
       "      <td>1986-05-25</td>\n",
       "      <td>5' 8</td>\n",
       "      <td>Orthodox</td>\n",
       "      <td>1991-04-10</td>\n",
       "      <td>5' 10</td>\n",
       "      <td>Orthodox</td>\n",
       "      <td>11557</td>\n",
       "      <td>9776</td>\n",
       "      <td>28</td>\n",
       "      <td>16</td>\n",
       "      <td>0</td>\n",
       "      <td>0</td>\n",
       "      <td>14</td>\n",
       "      <td>3</td>\n",
       "      <td>0</td>\n",
       "      <td>0</td>\n",
       "      <td>Jeremy Stephens</td>\n",
       "    </tr>\n",
       "    <tr>\n",
       "      <th>1</th>\n",
       "      <td>2018-01-14</td>\n",
       "      <td>Jessica-Rose Clark</td>\n",
       "      <td>Paige VanZant</td>\n",
       "      <td>1</td>\n",
       "      <td>1987-11-28</td>\n",
       "      <td>5' 5</td>\n",
       "      <td>Orthodox</td>\n",
       "      <td>1994-03-26</td>\n",
       "      <td>5' 4</td>\n",
       "      <td>Orthodox</td>\n",
       "      <td>11005</td>\n",
       "      <td>8695</td>\n",
       "      <td>9</td>\n",
       "      <td>5</td>\n",
       "      <td>0</td>\n",
       "      <td>1</td>\n",
       "      <td>8</td>\n",
       "      <td>4</td>\n",
       "      <td>0</td>\n",
       "      <td>0</td>\n",
       "      <td>Jessica-Rose Clark</td>\n",
       "    </tr>\n",
       "    <tr>\n",
       "      <th>2</th>\n",
       "      <td>2018-01-14</td>\n",
       "      <td>Emil Meek</td>\n",
       "      <td>Kamaru Usman</td>\n",
       "      <td>8</td>\n",
       "      <td>1988-08-20</td>\n",
       "      <td>5' 11</td>\n",
       "      <td>Switch</td>\n",
       "      <td>1987-05-11</td>\n",
       "      <td>6' 0</td>\n",
       "      <td>Switch</td>\n",
       "      <td>10739</td>\n",
       "      <td>11206</td>\n",
       "      <td>9</td>\n",
       "      <td>4</td>\n",
       "      <td>1</td>\n",
       "      <td>1</td>\n",
       "      <td>15</td>\n",
       "      <td>1</td>\n",
       "      <td>0</td>\n",
       "      <td>0</td>\n",
       "      <td>Kamaru Usman</td>\n",
       "    </tr>\n",
       "    <tr>\n",
       "      <th>3</th>\n",
       "      <td>2018-01-14</td>\n",
       "      <td>Darren Elkins</td>\n",
       "      <td>Michael Johnson</td>\n",
       "      <td>6</td>\n",
       "      <td>1984-05-16</td>\n",
       "      <td>5' 10</td>\n",
       "      <td>Orthodox</td>\n",
       "      <td>1986-06-04</td>\n",
       "      <td>5' 10</td>\n",
       "      <td>Southpaw</td>\n",
       "      <td>12296</td>\n",
       "      <td>11547</td>\n",
       "      <td>25</td>\n",
       "      <td>7</td>\n",
       "      <td>0</td>\n",
       "      <td>0</td>\n",
       "      <td>20</td>\n",
       "      <td>14</td>\n",
       "      <td>0</td>\n",
       "      <td>0</td>\n",
       "      <td>Darren Elkins</td>\n",
       "    </tr>\n",
       "    <tr>\n",
       "      <th>4</th>\n",
       "      <td>2018-01-14</td>\n",
       "      <td>Alex White</td>\n",
       "      <td>James Krause</td>\n",
       "      <td>7</td>\n",
       "      <td>1988-10-22</td>\n",
       "      <td>6' 0</td>\n",
       "      <td>Southpaw</td>\n",
       "      <td>1986-06-04</td>\n",
       "      <td>6' 2</td>\n",
       "      <td>Orthodox</td>\n",
       "      <td>10676</td>\n",
       "      <td>11547</td>\n",
       "      <td>13</td>\n",
       "      <td>5</td>\n",
       "      <td>0</td>\n",
       "      <td>0</td>\n",
       "      <td>25</td>\n",
       "      <td>8</td>\n",
       "      <td>0</td>\n",
       "      <td>0</td>\n",
       "      <td>James Krause</td>\n",
       "    </tr>\n",
       "  </tbody>\n",
       "</table>\n",
       "</div>"
      ],
      "text/plain": [
       "  event_date             figher1         fighter2  weight_class     f1_dob  \\\n",
       "0 2018-01-14     Jeremy Stephens       Dooho Choi             6 1986-05-25   \n",
       "1 2018-01-14  Jessica-Rose Clark    Paige VanZant             1 1987-11-28   \n",
       "2 2018-01-14           Emil Meek     Kamaru Usman             8 1988-08-20   \n",
       "3 2018-01-14       Darren Elkins  Michael Johnson             6 1984-05-16   \n",
       "4 2018-01-14          Alex White     James Krause             7 1988-10-22   \n",
       "\n",
       "  f1_height f1_stance     f2_dob f2_height f2_stance  f1_ageAtFight  \\\n",
       "0      5' 8  Orthodox 1991-04-10     5' 10  Orthodox          11557   \n",
       "1      5' 5  Orthodox 1994-03-26      5' 4  Orthodox          11005   \n",
       "2     5' 11    Switch 1987-05-11      6' 0    Switch          10739   \n",
       "3     5' 10  Orthodox 1986-06-04     5' 10  Southpaw          12296   \n",
       "4      6' 0  Southpaw 1986-06-04      6' 2  Orthodox          10676   \n",
       "\n",
       "   f2_ageAtFight  f1_win  f1_loss  f1_draw  f1_nc  f2_win  f2_loss  f2_draw  \\\n",
       "0           9776      28       16        0      0      14        3        0   \n",
       "1           8695       9        5        0      1       8        4        0   \n",
       "2          11206       9        4        1      1      15        1        0   \n",
       "3          11547      25        7        0      0      20       14        0   \n",
       "4          11547      13        5        0      0      25        8        0   \n",
       "\n",
       "   f2_nc              winner  \n",
       "0      0     Jeremy Stephens  \n",
       "1      0  Jessica-Rose Clark  \n",
       "2      0        Kamaru Usman  \n",
       "3      0       Darren Elkins  \n",
       "4      0        James Krause  "
      ]
     },
     "execution_count": 604,
     "metadata": {},
     "output_type": "execute_result"
    }
   ],
   "source": [
    "categorical_fb.head()"
   ]
  },
  {
   "cell_type": "code",
   "execution_count": 605,
   "metadata": {},
   "outputs": [],
   "source": [
    "def parse_height(height):\n",
    "    #expected format is 5' 10, 6'3 etc\n",
    "    ht = height.split(\"' \")\n",
    "    ft = float(ht[0])\n",
    "    inch = float(ht[1])\n",
    "    return (12*ft) + inch\n",
    "        "
   ]
  },
  {
   "cell_type": "code",
   "execution_count": 606,
   "metadata": {},
   "outputs": [],
   "source": [
    "categorical_fb.f2_height = categorical_fb.f2_height.apply(lambda x: parse_height(x))\n",
    "categorical_fb.f1_height = categorical_fb.f1_height.apply(lambda x: parse_height(x))"
   ]
  },
  {
   "cell_type": "code",
   "execution_count": 607,
   "metadata": {},
   "outputs": [],
   "source": [
    "# categorical_fb = categorical_fb.join(pd.get_dummies(categorical_fb.win_method_type,prefix= 'win_method'))\n",
    "# categorical_fb = categorical_fb.join(pd.get_dummies(categorical_fb.win_method_finish,prefix= 'win_finish'))\n",
    "categorical_fb = categorical_fb.join(pd.get_dummies(categorical_fb.f1_stance,prefix= 'f1_stance'))\n",
    "categorical_fb = categorical_fb.join(pd.get_dummies(categorical_fb.f2_stance,prefix= 'f2_stance'))"
   ]
  },
  {
   "cell_type": "code",
   "execution_count": 608,
   "metadata": {},
   "outputs": [],
   "source": [
    "categorical_fb = categorical_fb.drop(columns=['f1_stance','f2_stance','f1_dob','f2_dob','event_date'])"
   ]
  },
  {
   "cell_type": "code",
   "execution_count": 609,
   "metadata": {},
   "outputs": [],
   "source": [
    "\n",
    "#adds winner to end of column for readability \n",
    "cols = list(categorical_fb.columns.values) \n",
    "cols.pop(cols.index('winner')) \n",
    "categorical_fb = categorical_fb[cols+['winner']] \n",
    "\n"
   ]
  },
  {
   "cell_type": "code",
   "execution_count": 610,
   "metadata": {},
   "outputs": [],
   "source": [
    "categorical_fb['winner'] = (categorical_fb['fighter2'] == categorical_fb['winner']).astype('int')\n",
    "categorical_fb['figher1'] = 0\n",
    "categorical_fb['fighter2'] = 1"
   ]
  },
  {
   "cell_type": "code",
   "execution_count": 611,
   "metadata": {},
   "outputs": [],
   "source": [
    "fbs_joined = pd.concat([fighter_bouts,categorical_fb],axis=1)"
   ]
  },
  {
   "cell_type": "code",
   "execution_count": 612,
   "metadata": {},
   "outputs": [],
   "source": [
    "target = fbs_joined.winner"
   ]
  },
  {
   "cell_type": "code",
   "execution_count": 613,
   "metadata": {},
   "outputs": [],
   "source": [
    "fbs_joined = fbs_joined.drop(columns=['event_attendence'])"
   ]
  },
  {
   "cell_type": "code",
   "execution_count": 614,
   "metadata": {},
   "outputs": [],
   "source": [
    "fbs_joined = fbs_joined.drop(columns=['winner'])"
   ]
  },
  {
   "cell_type": "code",
   "execution_count": 615,
   "metadata": {},
   "outputs": [],
   "source": [
    "#we'll be using this later for the second model prep\n",
    "fbj_copy = fbs_joined.copy()"
   ]
  },
  {
   "cell_type": "code",
   "execution_count": 616,
   "metadata": {},
   "outputs": [
    {
     "data": {
      "text/plain": [
       "(4851, 53)"
      ]
     },
     "execution_count": 616,
     "metadata": {},
     "output_type": "execute_result"
    }
   ],
   "source": [
    "fbs_joined.shape"
   ]
  },
  {
   "cell_type": "code",
   "execution_count": 617,
   "metadata": {},
   "outputs": [],
   "source": [
    "from sklearn.preprocessing import StandardScaler\n",
    "from sklearn.impute import SimpleImputer\n",
    "imputer = SimpleImputer(strategy= 'median',copy= False)\n",
    "scaler = StandardScaler()"
   ]
  },
  {
   "cell_type": "code",
   "execution_count": 618,
   "metadata": {},
   "outputs": [
    {
     "name": "stderr",
     "output_type": "stream",
     "text": [
      "/Users/charlespierse/anaconda3/lib/python3.7/site-packages/sklearn/preprocessing/data.py:625: DataConversionWarning: Data with input dtype uint8, int64, float64 were all converted to float64 by StandardScaler.\n",
      "  return self.partial_fit(X, y)\n",
      "/Users/charlespierse/anaconda3/lib/python3.7/site-packages/sklearn/base.py:462: DataConversionWarning: Data with input dtype uint8, int64, float64 were all converted to float64 by StandardScaler.\n",
      "  return self.fit(X, **fit_params).transform(X)\n"
     ]
    }
   ],
   "source": [
    "scaled_fbs = scaler.fit_transform(fbs_joined)\n",
    "imputed_fbs = imputer.fit_transform(scaled_fbs)"
   ]
  },
  {
   "cell_type": "code",
   "execution_count": 619,
   "metadata": {},
   "outputs": [],
   "source": [
    "from sklearn.model_selection import StratifiedShuffleSplit\n",
    "sss= StratifiedShuffleSplit(n_splits=20,test_size=0.2,random_state=42)\n",
    "\n",
    "for train_index, test_index in sss.split(imputed_fbs, target):\n",
    "    X_train, X_test = imputed_fbs[train_index], imputed_fbs[test_index]\n",
    "    y_train, y_test = target[train_index], target[test_index]"
   ]
  },
  {
   "cell_type": "code",
   "execution_count": 620,
   "metadata": {},
   "outputs": [],
   "source": [
    "np.savetxt(\"model_data/X_train.csv\", X_train, delimiter=\",\")\n",
    "np.savetxt(\"model_data/y_train.csv\", y_train, delimiter=\",\")\n",
    "np.savetxt(\"model_data/X_test.csv\", X_test, delimiter=\",\")\n",
    "np.savetxt(\"model_data/y_test.csv\", y_test, delimiter=\",\")"
   ]
  },
  {
   "cell_type": "markdown",
   "metadata": {},
   "source": [
    "# Fight Stats Prediction Data Prep"
   ]
  },
  {
   "cell_type": "markdown",
   "metadata": {},
   "source": [
    "This next step is about preparing the data for the second model that will be used.\n",
    "The aim of this model is to produce multiple linear regressions that will try to predict the \n",
    "performance (fight stats) of two fighters in a bout and then pass those on to our main Neural Net"
   ]
  },
  {
   "cell_type": "code",
   "execution_count": 621,
   "metadata": {},
   "outputs": [
    {
     "data": {
      "text/plain": [
       "(4851, 53)"
      ]
     },
     "execution_count": 621,
     "metadata": {},
     "output_type": "execute_result"
    }
   ],
   "source": [
    "fbj_copy.shape"
   ]
  },
  {
   "cell_type": "code",
   "execution_count": 622,
   "metadata": {},
   "outputs": [],
   "source": [
    "predictor_cols = ['pass_stat_f1', 'pass_stat_f2', 'str_stat_f1', 'str_stat_f2',\n",
    "       'sub_stat_f1', 'sub_stat_f2', 'td_stat_f1', 'td_stat_f2',]"
   ]
  },
  {
   "cell_type": "code",
   "execution_count": 623,
   "metadata": {},
   "outputs": [
    {
     "data": {
      "text/html": [
       "<div>\n",
       "<style scoped>\n",
       "    .dataframe tbody tr th:only-of-type {\n",
       "        vertical-align: middle;\n",
       "    }\n",
       "\n",
       "    .dataframe tbody tr th {\n",
       "        vertical-align: top;\n",
       "    }\n",
       "\n",
       "    .dataframe thead th {\n",
       "        text-align: right;\n",
       "    }\n",
       "</style>\n",
       "<table border=\"1\" class=\"dataframe\">\n",
       "  <thead>\n",
       "    <tr style=\"text-align: right;\">\n",
       "      <th></th>\n",
       "      <th>pass_stat_f1</th>\n",
       "      <th>pass_stat_f2</th>\n",
       "      <th>str_stat_f1</th>\n",
       "      <th>str_stat_f2</th>\n",
       "      <th>sub_stat_f1</th>\n",
       "      <th>sub_stat_f2</th>\n",
       "      <th>td_stat_f1</th>\n",
       "      <th>td_stat_f2</th>\n",
       "    </tr>\n",
       "  </thead>\n",
       "  <tbody>\n",
       "    <tr>\n",
       "      <th>0</th>\n",
       "      <td>0</td>\n",
       "      <td>0</td>\n",
       "      <td>49</td>\n",
       "      <td>44</td>\n",
       "      <td>0</td>\n",
       "      <td>0</td>\n",
       "      <td>0</td>\n",
       "      <td>0</td>\n",
       "    </tr>\n",
       "    <tr>\n",
       "      <th>1</th>\n",
       "      <td>4</td>\n",
       "      <td>0</td>\n",
       "      <td>55</td>\n",
       "      <td>54</td>\n",
       "      <td>1</td>\n",
       "      <td>0</td>\n",
       "      <td>2</td>\n",
       "      <td>0</td>\n",
       "    </tr>\n",
       "    <tr>\n",
       "      <th>2</th>\n",
       "      <td>0</td>\n",
       "      <td>7</td>\n",
       "      <td>30</td>\n",
       "      <td>50</td>\n",
       "      <td>2</td>\n",
       "      <td>0</td>\n",
       "      <td>0</td>\n",
       "      <td>8</td>\n",
       "    </tr>\n",
       "    <tr>\n",
       "      <th>3</th>\n",
       "      <td>2</td>\n",
       "      <td>0</td>\n",
       "      <td>18</td>\n",
       "      <td>45</td>\n",
       "      <td>1</td>\n",
       "      <td>0</td>\n",
       "      <td>1</td>\n",
       "      <td>0</td>\n",
       "    </tr>\n",
       "    <tr>\n",
       "      <th>4</th>\n",
       "      <td>0</td>\n",
       "      <td>4</td>\n",
       "      <td>56</td>\n",
       "      <td>35</td>\n",
       "      <td>0</td>\n",
       "      <td>2</td>\n",
       "      <td>1</td>\n",
       "      <td>3</td>\n",
       "    </tr>\n",
       "  </tbody>\n",
       "</table>\n",
       "</div>"
      ],
      "text/plain": [
       "   pass_stat_f1  pass_stat_f2  str_stat_f1  str_stat_f2  sub_stat_f1  \\\n",
       "0             0             0           49           44            0   \n",
       "1             4             0           55           54            1   \n",
       "2             0             7           30           50            2   \n",
       "3             2             0           18           45            1   \n",
       "4             0             4           56           35            0   \n",
       "\n",
       "   sub_stat_f2  td_stat_f1  td_stat_f2  \n",
       "0            0           0           0  \n",
       "1            0           2           0  \n",
       "2            0           0           8  \n",
       "3            0           1           0  \n",
       "4            2           1           3  "
      ]
     },
     "execution_count": 623,
     "metadata": {},
     "output_type": "execute_result"
    }
   ],
   "source": [
    "fbj_copy[predictor_cols].head()"
   ]
  },
  {
   "cell_type": "code",
   "execution_count": 624,
   "metadata": {},
   "outputs": [],
   "source": [
    "targets = fbj_copy[predictor_cols]\n"
   ]
  },
  {
   "cell_type": "code",
   "execution_count": 625,
   "metadata": {},
   "outputs": [],
   "source": [
    "fbj_copy = fbj_copy.drop(columns= targets.columns)"
   ]
  },
  {
   "cell_type": "code",
   "execution_count": 626,
   "metadata": {},
   "outputs": [
    {
     "data": {
      "text/plain": [
       "(4851, 45)"
      ]
     },
     "execution_count": 626,
     "metadata": {},
     "output_type": "execute_result"
    }
   ],
   "source": [
    "fbj_copy.shape"
   ]
  },
  {
   "cell_type": "code",
   "execution_count": 627,
   "metadata": {},
   "outputs": [],
   "source": [
    "from sklearn.preprocessing import StandardScaler\n",
    "from sklearn.impute import SimpleImputer\n",
    "from sklearn.preprocessing import Normalizer\n",
    "imputer = SimpleImputer(strategy= 'median',copy= False)\n",
    "scaler = StandardScaler()\n",
    "normalizer = Normalizer()"
   ]
  },
  {
   "cell_type": "code",
   "execution_count": 628,
   "metadata": {},
   "outputs": [
    {
     "name": "stderr",
     "output_type": "stream",
     "text": [
      "/Users/charlespierse/anaconda3/lib/python3.7/site-packages/sklearn/preprocessing/data.py:625: DataConversionWarning: Data with input dtype uint8, int64, float64 were all converted to float64 by StandardScaler.\n",
      "  return self.partial_fit(X, y)\n",
      "/Users/charlespierse/anaconda3/lib/python3.7/site-packages/sklearn/base.py:462: DataConversionWarning: Data with input dtype uint8, int64, float64 were all converted to float64 by StandardScaler.\n",
      "  return self.fit(X, **fit_params).transform(X)\n"
     ]
    }
   ],
   "source": [
    "scaled_fbj = scaler.fit_transform(fbj_copy)\n",
    "imputed_fbj = imputer.fit_transform(fbj_copy)"
   ]
  },
  {
   "cell_type": "code",
   "execution_count": 629,
   "metadata": {},
   "outputs": [],
   "source": [
    "from sklearn.model_selection import train_test_split\n",
    "X_train_stat, X_test_stat, y_train_stat, y_test_stat = train_test_split(imputed_fbj, targets.values, test_size=0.10, random_state=42)\n"
   ]
  },
  {
   "cell_type": "code",
   "execution_count": 630,
   "metadata": {},
   "outputs": [],
   "source": [
    "np.savetxt(\"model_data/X_train_stats.csv\", X_train_stat, delimiter=\",\")\n",
    "np.savetxt(\"model_data/y_train_stats.csv\", y_train_stat, delimiter=\",\")\n",
    "np.savetxt(\"model_data/X_test_stats.csv\", X_test_stat, delimiter=\",\")\n",
    "np.savetxt(\"model_data/y_test_stats.csv\", y_test_stat, delimiter=\",\")"
   ]
  },
  {
   "cell_type": "markdown",
   "metadata": {},
   "source": [
    "# Loading In Fights Stats Predictor Model"
   ]
  },
  {
   "cell_type": "code",
   "execution_count": 631,
   "metadata": {},
   "outputs": [],
   "source": [
    "import tensorflow.keras.backend as K\n",
    "\n",
    "def r2(y_true, y_pred):\n",
    "    SS_res = K.sum(K.square( y_true-y_pred ))\n",
    "    SS_tot = K.sum(K.square( y_true - K.mean(y_true)))\n",
    "    return 1 - SS_res/(SS_tot + K.epsilon())"
   ]
  },
  {
   "cell_type": "code",
   "execution_count": 632,
   "metadata": {},
   "outputs": [],
   "source": [
    "import tensorflow as tf\n",
    "\n",
    "model = tf.keras.models.load_model('Saved_Models/Fight_Stats_Models/stats_model2019-05-25.h5',custom_objects={\"r2\": r2})"
   ]
  },
  {
   "cell_type": "markdown",
   "metadata": {},
   "source": [
    "# Using the loaded model to predict two fighters' stats in a bout"
   ]
  },
  {
   "cell_type": "code",
   "execution_count": 577,
   "metadata": {},
   "outputs": [],
   "source": [
    "def predict_bout_stats(fighters):\n",
    "    stats_predicted = model.predict(fighters)\n",
    "    return stats_predicted"
   ]
  },
  {
   "cell_type": "code",
   "execution_count": 578,
   "metadata": {},
   "outputs": [
    {
     "data": {
      "text/html": [
       "<div>\n",
       "<style scoped>\n",
       "    .dataframe tbody tr th:only-of-type {\n",
       "        vertical-align: middle;\n",
       "    }\n",
       "\n",
       "    .dataframe tbody tr th {\n",
       "        vertical-align: top;\n",
       "    }\n",
       "\n",
       "    .dataframe thead th {\n",
       "        text-align: right;\n",
       "    }\n",
       "</style>\n",
       "<table border=\"1\" class=\"dataframe\">\n",
       "  <thead>\n",
       "    <tr style=\"text-align: right;\">\n",
       "      <th></th>\n",
       "      <th>pass_stat_f1</th>\n",
       "      <th>pass_stat_f2</th>\n",
       "      <th>str_stat_f1</th>\n",
       "      <th>str_stat_f2</th>\n",
       "      <th>sub_stat_f1</th>\n",
       "      <th>sub_stat_f2</th>\n",
       "      <th>td_stat_f1</th>\n",
       "      <th>td_stat_f2</th>\n",
       "      <th>f1_reach</th>\n",
       "      <th>f1_sapm</th>\n",
       "      <th>f1_slpm</th>\n",
       "      <th>f1_stk_acc</th>\n",
       "      <th>f1_stk_def</th>\n",
       "      <th>f1_sub_avg</th>\n",
       "      <th>f1_td_acc</th>\n",
       "      <th>f1_td_avg</th>\n",
       "      <th>f1_td_def</th>\n",
       "      <th>f1_weight</th>\n",
       "      <th>f2_reach</th>\n",
       "      <th>f2_sapm</th>\n",
       "      <th>f2_slpm</th>\n",
       "      <th>f2_stk_acc</th>\n",
       "      <th>f2_stk_def</th>\n",
       "      <th>f2_sub_avg</th>\n",
       "      <th>f2_td_acc</th>\n",
       "      <th>f2_td_avg</th>\n",
       "      <th>f2_td_def</th>\n",
       "      <th>f2_weight</th>\n",
       "      <th>figher1</th>\n",
       "      <th>fighter2</th>\n",
       "      <th>weight_class</th>\n",
       "      <th>f1_height</th>\n",
       "      <th>f2_height</th>\n",
       "      <th>f1_ageAtFight</th>\n",
       "      <th>f2_ageAtFight</th>\n",
       "      <th>f1_win</th>\n",
       "      <th>f1_loss</th>\n",
       "      <th>f1_draw</th>\n",
       "      <th>f1_nc</th>\n",
       "      <th>f2_win</th>\n",
       "      <th>f2_loss</th>\n",
       "      <th>f2_draw</th>\n",
       "      <th>f2_nc</th>\n",
       "      <th>f1_stance_Open Stance</th>\n",
       "      <th>f1_stance_Orthodox</th>\n",
       "      <th>f1_stance_Sideways</th>\n",
       "      <th>f1_stance_Southpaw</th>\n",
       "      <th>f1_stance_Switch</th>\n",
       "      <th>f2_stance_Open Stance</th>\n",
       "      <th>f2_stance_Orthodox</th>\n",
       "      <th>f2_stance_Sideways</th>\n",
       "      <th>f2_stance_Southpaw</th>\n",
       "      <th>f2_stance_Switch</th>\n",
       "    </tr>\n",
       "  </thead>\n",
       "  <tbody>\n",
       "    <tr>\n",
       "      <th>0</th>\n",
       "      <td>0</td>\n",
       "      <td>0</td>\n",
       "      <td>49</td>\n",
       "      <td>44</td>\n",
       "      <td>0</td>\n",
       "      <td>0</td>\n",
       "      <td>0</td>\n",
       "      <td>0</td>\n",
       "      <td>71.0</td>\n",
       "      <td>2.84</td>\n",
       "      <td>3.08</td>\n",
       "      <td>40</td>\n",
       "      <td>59</td>\n",
       "      <td>0.4</td>\n",
       "      <td>36</td>\n",
       "      <td>1.11</td>\n",
       "      <td>64</td>\n",
       "      <td>145.0</td>\n",
       "      <td>70.0</td>\n",
       "      <td>6.26</td>\n",
       "      <td>5.64</td>\n",
       "      <td>53</td>\n",
       "      <td>54</td>\n",
       "      <td>0.0</td>\n",
       "      <td>20</td>\n",
       "      <td>0.55</td>\n",
       "      <td>50</td>\n",
       "      <td>145.0</td>\n",
       "      <td>0</td>\n",
       "      <td>1</td>\n",
       "      <td>6</td>\n",
       "      <td>68.0</td>\n",
       "      <td>70.0</td>\n",
       "      <td>11557</td>\n",
       "      <td>9776</td>\n",
       "      <td>28</td>\n",
       "      <td>16</td>\n",
       "      <td>0</td>\n",
       "      <td>0</td>\n",
       "      <td>14</td>\n",
       "      <td>3</td>\n",
       "      <td>0</td>\n",
       "      <td>0</td>\n",
       "      <td>0</td>\n",
       "      <td>1</td>\n",
       "      <td>0</td>\n",
       "      <td>0</td>\n",
       "      <td>0</td>\n",
       "      <td>0</td>\n",
       "      <td>1</td>\n",
       "      <td>0</td>\n",
       "      <td>0</td>\n",
       "      <td>0</td>\n",
       "    </tr>\n",
       "    <tr>\n",
       "      <th>1</th>\n",
       "      <td>4</td>\n",
       "      <td>0</td>\n",
       "      <td>55</td>\n",
       "      <td>54</td>\n",
       "      <td>1</td>\n",
       "      <td>0</td>\n",
       "      <td>2</td>\n",
       "      <td>0</td>\n",
       "      <td>64.0</td>\n",
       "      <td>4.13</td>\n",
       "      <td>4.60</td>\n",
       "      <td>50</td>\n",
       "      <td>61</td>\n",
       "      <td>0.7</td>\n",
       "      <td>66</td>\n",
       "      <td>1.33</td>\n",
       "      <td>57</td>\n",
       "      <td>125.0</td>\n",
       "      <td>65.0</td>\n",
       "      <td>2.63</td>\n",
       "      <td>3.40</td>\n",
       "      <td>52</td>\n",
       "      <td>43</td>\n",
       "      <td>1.0</td>\n",
       "      <td>33</td>\n",
       "      <td>1.31</td>\n",
       "      <td>35</td>\n",
       "      <td>115.0</td>\n",
       "      <td>0</td>\n",
       "      <td>1</td>\n",
       "      <td>1</td>\n",
       "      <td>65.0</td>\n",
       "      <td>64.0</td>\n",
       "      <td>11005</td>\n",
       "      <td>8695</td>\n",
       "      <td>9</td>\n",
       "      <td>5</td>\n",
       "      <td>0</td>\n",
       "      <td>1</td>\n",
       "      <td>8</td>\n",
       "      <td>4</td>\n",
       "      <td>0</td>\n",
       "      <td>0</td>\n",
       "      <td>0</td>\n",
       "      <td>1</td>\n",
       "      <td>0</td>\n",
       "      <td>0</td>\n",
       "      <td>0</td>\n",
       "      <td>0</td>\n",
       "      <td>1</td>\n",
       "      <td>0</td>\n",
       "      <td>0</td>\n",
       "      <td>0</td>\n",
       "    </tr>\n",
       "    <tr>\n",
       "      <th>2</th>\n",
       "      <td>7</td>\n",
       "      <td>0</td>\n",
       "      <td>50</td>\n",
       "      <td>30</td>\n",
       "      <td>0</td>\n",
       "      <td>2</td>\n",
       "      <td>8</td>\n",
       "      <td>0</td>\n",
       "      <td>76.0</td>\n",
       "      <td>1.60</td>\n",
       "      <td>4.20</td>\n",
       "      <td>54</td>\n",
       "      <td>57</td>\n",
       "      <td>0.2</td>\n",
       "      <td>50</td>\n",
       "      <td>3.96</td>\n",
       "      <td>100</td>\n",
       "      <td>170.0</td>\n",
       "      <td>74.0</td>\n",
       "      <td>2.64</td>\n",
       "      <td>2.24</td>\n",
       "      <td>38</td>\n",
       "      <td>32</td>\n",
       "      <td>1.3</td>\n",
       "      <td>50</td>\n",
       "      <td>0.33</td>\n",
       "      <td>48</td>\n",
       "      <td>170.0</td>\n",
       "      <td>0</td>\n",
       "      <td>1</td>\n",
       "      <td>8</td>\n",
       "      <td>72.0</td>\n",
       "      <td>71.0</td>\n",
       "      <td>11206</td>\n",
       "      <td>10739</td>\n",
       "      <td>15</td>\n",
       "      <td>1</td>\n",
       "      <td>0</td>\n",
       "      <td>0</td>\n",
       "      <td>9</td>\n",
       "      <td>4</td>\n",
       "      <td>1</td>\n",
       "      <td>1</td>\n",
       "      <td>0</td>\n",
       "      <td>0</td>\n",
       "      <td>0</td>\n",
       "      <td>0</td>\n",
       "      <td>1</td>\n",
       "      <td>0</td>\n",
       "      <td>0</td>\n",
       "      <td>0</td>\n",
       "      <td>0</td>\n",
       "      <td>1</td>\n",
       "    </tr>\n",
       "    <tr>\n",
       "      <th>3</th>\n",
       "      <td>2</td>\n",
       "      <td>0</td>\n",
       "      <td>18</td>\n",
       "      <td>45</td>\n",
       "      <td>1</td>\n",
       "      <td>0</td>\n",
       "      <td>1</td>\n",
       "      <td>0</td>\n",
       "      <td>71.0</td>\n",
       "      <td>2.83</td>\n",
       "      <td>3.36</td>\n",
       "      <td>37</td>\n",
       "      <td>53</td>\n",
       "      <td>1.3</td>\n",
       "      <td>35</td>\n",
       "      <td>2.68</td>\n",
       "      <td>57</td>\n",
       "      <td>145.0</td>\n",
       "      <td>73.0</td>\n",
       "      <td>3.82</td>\n",
       "      <td>4.15</td>\n",
       "      <td>37</td>\n",
       "      <td>58</td>\n",
       "      <td>0.1</td>\n",
       "      <td>45</td>\n",
       "      <td>0.56</td>\n",
       "      <td>78</td>\n",
       "      <td>145.0</td>\n",
       "      <td>0</td>\n",
       "      <td>1</td>\n",
       "      <td>6</td>\n",
       "      <td>70.0</td>\n",
       "      <td>70.0</td>\n",
       "      <td>12296</td>\n",
       "      <td>11547</td>\n",
       "      <td>25</td>\n",
       "      <td>7</td>\n",
       "      <td>0</td>\n",
       "      <td>0</td>\n",
       "      <td>20</td>\n",
       "      <td>14</td>\n",
       "      <td>0</td>\n",
       "      <td>0</td>\n",
       "      <td>0</td>\n",
       "      <td>1</td>\n",
       "      <td>0</td>\n",
       "      <td>0</td>\n",
       "      <td>0</td>\n",
       "      <td>0</td>\n",
       "      <td>0</td>\n",
       "      <td>0</td>\n",
       "      <td>1</td>\n",
       "      <td>0</td>\n",
       "    </tr>\n",
       "    <tr>\n",
       "      <th>4</th>\n",
       "      <td>0</td>\n",
       "      <td>4</td>\n",
       "      <td>56</td>\n",
       "      <td>35</td>\n",
       "      <td>0</td>\n",
       "      <td>2</td>\n",
       "      <td>1</td>\n",
       "      <td>3</td>\n",
       "      <td>71.0</td>\n",
       "      <td>2.87</td>\n",
       "      <td>3.77</td>\n",
       "      <td>42</td>\n",
       "      <td>62</td>\n",
       "      <td>0.6</td>\n",
       "      <td>50</td>\n",
       "      <td>1.05</td>\n",
       "      <td>72</td>\n",
       "      <td>155.0</td>\n",
       "      <td>73.0</td>\n",
       "      <td>4.15</td>\n",
       "      <td>4.57</td>\n",
       "      <td>46</td>\n",
       "      <td>61</td>\n",
       "      <td>0.7</td>\n",
       "      <td>18</td>\n",
       "      <td>1.18</td>\n",
       "      <td>46</td>\n",
       "      <td>170.0</td>\n",
       "      <td>0</td>\n",
       "      <td>1</td>\n",
       "      <td>7</td>\n",
       "      <td>72.0</td>\n",
       "      <td>74.0</td>\n",
       "      <td>10676</td>\n",
       "      <td>11547</td>\n",
       "      <td>13</td>\n",
       "      <td>5</td>\n",
       "      <td>0</td>\n",
       "      <td>0</td>\n",
       "      <td>25</td>\n",
       "      <td>8</td>\n",
       "      <td>0</td>\n",
       "      <td>0</td>\n",
       "      <td>0</td>\n",
       "      <td>0</td>\n",
       "      <td>0</td>\n",
       "      <td>1</td>\n",
       "      <td>0</td>\n",
       "      <td>0</td>\n",
       "      <td>1</td>\n",
       "      <td>0</td>\n",
       "      <td>0</td>\n",
       "      <td>0</td>\n",
       "    </tr>\n",
       "  </tbody>\n",
       "</table>\n",
       "</div>"
      ],
      "text/plain": [
       "   pass_stat_f1  pass_stat_f2  str_stat_f1  str_stat_f2  sub_stat_f1  \\\n",
       "0             0             0           49           44            0   \n",
       "1             4             0           55           54            1   \n",
       "2             7             0           50           30            0   \n",
       "3             2             0           18           45            1   \n",
       "4             0             4           56           35            0   \n",
       "\n",
       "   sub_stat_f2  td_stat_f1  td_stat_f2  f1_reach  f1_sapm  f1_slpm  \\\n",
       "0            0           0           0      71.0     2.84     3.08   \n",
       "1            0           2           0      64.0     4.13     4.60   \n",
       "2            2           8           0      76.0     1.60     4.20   \n",
       "3            0           1           0      71.0     2.83     3.36   \n",
       "4            2           1           3      71.0     2.87     3.77   \n",
       "\n",
       "   f1_stk_acc  f1_stk_def  f1_sub_avg  f1_td_acc  f1_td_avg  f1_td_def  \\\n",
       "0          40          59         0.4         36       1.11         64   \n",
       "1          50          61         0.7         66       1.33         57   \n",
       "2          54          57         0.2         50       3.96        100   \n",
       "3          37          53         1.3         35       2.68         57   \n",
       "4          42          62         0.6         50       1.05         72   \n",
       "\n",
       "   f1_weight  f2_reach  f2_sapm  f2_slpm  f2_stk_acc  f2_stk_def  f2_sub_avg  \\\n",
       "0      145.0      70.0     6.26     5.64          53          54         0.0   \n",
       "1      125.0      65.0     2.63     3.40          52          43         1.0   \n",
       "2      170.0      74.0     2.64     2.24          38          32         1.3   \n",
       "3      145.0      73.0     3.82     4.15          37          58         0.1   \n",
       "4      155.0      73.0     4.15     4.57          46          61         0.7   \n",
       "\n",
       "   f2_td_acc  f2_td_avg  f2_td_def  f2_weight  figher1  fighter2  \\\n",
       "0         20       0.55         50      145.0        0         1   \n",
       "1         33       1.31         35      115.0        0         1   \n",
       "2         50       0.33         48      170.0        0         1   \n",
       "3         45       0.56         78      145.0        0         1   \n",
       "4         18       1.18         46      170.0        0         1   \n",
       "\n",
       "   weight_class  f1_height  f2_height  f1_ageAtFight  f2_ageAtFight  f1_win  \\\n",
       "0             6       68.0       70.0          11557           9776      28   \n",
       "1             1       65.0       64.0          11005           8695       9   \n",
       "2             8       72.0       71.0          11206          10739      15   \n",
       "3             6       70.0       70.0          12296          11547      25   \n",
       "4             7       72.0       74.0          10676          11547      13   \n",
       "\n",
       "   f1_loss  f1_draw  f1_nc  f2_win  f2_loss  f2_draw  f2_nc  \\\n",
       "0       16        0      0      14        3        0      0   \n",
       "1        5        0      1       8        4        0      0   \n",
       "2        1        0      0       9        4        1      1   \n",
       "3        7        0      0      20       14        0      0   \n",
       "4        5        0      0      25        8        0      0   \n",
       "\n",
       "   f1_stance_Open Stance  f1_stance_Orthodox  f1_stance_Sideways  \\\n",
       "0                      0                   1                   0   \n",
       "1                      0                   1                   0   \n",
       "2                      0                   0                   0   \n",
       "3                      0                   1                   0   \n",
       "4                      0                   0                   0   \n",
       "\n",
       "   f1_stance_Southpaw  f1_stance_Switch  f2_stance_Open Stance  \\\n",
       "0                   0                 0                      0   \n",
       "1                   0                 0                      0   \n",
       "2                   0                 1                      0   \n",
       "3                   0                 0                      0   \n",
       "4                   1                 0                      0   \n",
       "\n",
       "   f2_stance_Orthodox  f2_stance_Sideways  f2_stance_Southpaw  \\\n",
       "0                   1                   0                   0   \n",
       "1                   1                   0                   0   \n",
       "2                   0                   0                   0   \n",
       "3                   0                   0                   1   \n",
       "4                   1                   0                   0   \n",
       "\n",
       "   f2_stance_Switch  \n",
       "0                 0  \n",
       "1                 0  \n",
       "2                 1  \n",
       "3                 0  \n",
       "4                 0  "
      ]
     },
     "execution_count": 578,
     "metadata": {},
     "output_type": "execute_result"
    }
   ],
   "source": [
    "fbj_copy.head()\n"
   ]
  },
  {
   "cell_type": "code",
   "execution_count": 635,
   "metadata": {},
   "outputs": [],
   "source": [
    "prediction = predict_bout_stats(X_train_stat)"
   ]
  },
  {
   "cell_type": "code",
   "execution_count": 641,
   "metadata": {},
   "outputs": [
    {
     "name": "stdout",
     "output_type": "stream",
     "text": [
      "[ 2.062191    0.40079272 25.567804   21.898308    0.937916    0.704941\n",
      "  1.742553    0.25067925]\n"
     ]
    }
   ],
   "source": [
    "print(prediction[110])"
   ]
  },
  {
   "cell_type": "code",
   "execution_count": 640,
   "metadata": {},
   "outputs": [
    {
     "name": "stdout",
     "output_type": "stream",
     "text": [
      "[ 4  0 12  8  0  1  2  0]\n"
     ]
    }
   ],
   "source": [
    "print(y_train_stat[110])"
   ]
  },
  {
   "cell_type": "code",
   "execution_count": 535,
   "metadata": {},
   "outputs": [
    {
     "data": {
      "text/html": [
       "<div>\n",
       "<style scoped>\n",
       "    .dataframe tbody tr th:only-of-type {\n",
       "        vertical-align: middle;\n",
       "    }\n",
       "\n",
       "    .dataframe tbody tr th {\n",
       "        vertical-align: top;\n",
       "    }\n",
       "\n",
       "    .dataframe thead th {\n",
       "        text-align: right;\n",
       "    }\n",
       "</style>\n",
       "<table border=\"1\" class=\"dataframe\">\n",
       "  <thead>\n",
       "    <tr style=\"text-align: right;\">\n",
       "      <th></th>\n",
       "      <th>date_of_birth</th>\n",
       "      <th>fighter_name</th>\n",
       "      <th>fighter_record</th>\n",
       "      <th>height</th>\n",
       "      <th>reach</th>\n",
       "      <th>sapm</th>\n",
       "      <th>slpm</th>\n",
       "      <th>stance</th>\n",
       "      <th>strike_acc</th>\n",
       "      <th>strike_def</th>\n",
       "      <th>sub_avg</th>\n",
       "      <th>td_acc</th>\n",
       "      <th>td_avg</th>\n",
       "      <th>td_def</th>\n",
       "      <th>weight</th>\n",
       "    </tr>\n",
       "  </thead>\n",
       "  <tbody>\n",
       "    <tr>\n",
       "      <th>0</th>\n",
       "      <td>Jul 17 1990</td>\n",
       "      <td>Michael Byrnes</td>\n",
       "      <td>Record: 5-2-0</td>\n",
       "      <td>5' 11\"</td>\n",
       "      <td>NaN</td>\n",
       "      <td>0.00</td>\n",
       "      <td>0.00</td>\n",
       "      <td>NaN</td>\n",
       "      <td>0</td>\n",
       "      <td>0.0</td>\n",
       "      <td>0.0</td>\n",
       "      <td>0</td>\n",
       "      <td>0.00</td>\n",
       "      <td>0</td>\n",
       "      <td>155.0</td>\n",
       "    </tr>\n",
       "    <tr>\n",
       "      <th>1</th>\n",
       "      <td>Feb 07 1989</td>\n",
       "      <td>Gleidson Cutis</td>\n",
       "      <td>Record: 7-3-0</td>\n",
       "      <td>5' 9\"</td>\n",
       "      <td>NaN</td>\n",
       "      <td>8.28</td>\n",
       "      <td>2.99</td>\n",
       "      <td>Orthodox</td>\n",
       "      <td>52</td>\n",
       "      <td>59.0</td>\n",
       "      <td>0.0</td>\n",
       "      <td>0</td>\n",
       "      <td>0.00</td>\n",
       "      <td>0</td>\n",
       "      <td>155.0</td>\n",
       "    </tr>\n",
       "    <tr>\n",
       "      <th>2</th>\n",
       "      <td>Jun 25 1981</td>\n",
       "      <td>Luciano Azevedo</td>\n",
       "      <td>Record: 16-9-1</td>\n",
       "      <td>6' 3\"</td>\n",
       "      <td>NaN</td>\n",
       "      <td>1.97</td>\n",
       "      <td>0.76</td>\n",
       "      <td>Orthodox</td>\n",
       "      <td>45</td>\n",
       "      <td>27.0</td>\n",
       "      <td>0.0</td>\n",
       "      <td>11</td>\n",
       "      <td>2.28</td>\n",
       "      <td>0</td>\n",
       "      <td>161.0</td>\n",
       "    </tr>\n",
       "    <tr>\n",
       "      <th>3</th>\n",
       "      <td>Nov 10 1980</td>\n",
       "      <td>Katsuaki Furuki</td>\n",
       "      <td>Record: 1-1-0</td>\n",
       "      <td>6' 0\"</td>\n",
       "      <td>NaN</td>\n",
       "      <td>2.67</td>\n",
       "      <td>0.27</td>\n",
       "      <td>NaN</td>\n",
       "      <td>10</td>\n",
       "      <td>39.0</td>\n",
       "      <td>3.0</td>\n",
       "      <td>0</td>\n",
       "      <td>0.00</td>\n",
       "      <td>0</td>\n",
       "      <td>168.0</td>\n",
       "    </tr>\n",
       "    <tr>\n",
       "      <th>4</th>\n",
       "      <td>Aug 11 1990</td>\n",
       "      <td>Rolando Dy</td>\n",
       "      <td>Record: 9-7-1 (1 NC)</td>\n",
       "      <td>5' 8\"</td>\n",
       "      <td>69.0</td>\n",
       "      <td>4.47</td>\n",
       "      <td>3.04</td>\n",
       "      <td>Orthodox</td>\n",
       "      <td>37</td>\n",
       "      <td>52.0</td>\n",
       "      <td>0.0</td>\n",
       "      <td>20</td>\n",
       "      <td>0.30</td>\n",
       "      <td>68</td>\n",
       "      <td>145.0</td>\n",
       "    </tr>\n",
       "  </tbody>\n",
       "</table>\n",
       "</div>"
      ],
      "text/plain": [
       "  date_of_birth     fighter_name        fighter_record  height  reach  sapm  \\\n",
       "0   Jul 17 1990   Michael Byrnes         Record: 5-2-0  5' 11\"    NaN  0.00   \n",
       "1   Feb 07 1989   Gleidson Cutis         Record: 7-3-0   5' 9\"    NaN  8.28   \n",
       "2   Jun 25 1981  Luciano Azevedo        Record: 16-9-1   6' 3\"    NaN  1.97   \n",
       "3   Nov 10 1980  Katsuaki Furuki         Record: 1-1-0   6' 0\"    NaN  2.67   \n",
       "4   Aug 11 1990       Rolando Dy  Record: 9-7-1 (1 NC)   5' 8\"   69.0  4.47   \n",
       "\n",
       "   slpm    stance  strike_acc  strike_def  sub_avg  td_acc  td_avg  td_def  \\\n",
       "0  0.00       NaN           0         0.0      0.0       0    0.00       0   \n",
       "1  2.99  Orthodox          52        59.0      0.0       0    0.00       0   \n",
       "2  0.76  Orthodox          45        27.0      0.0      11    2.28       0   \n",
       "3  0.27       NaN          10        39.0      3.0       0    0.00       0   \n",
       "4  3.04  Orthodox          37        52.0      0.0      20    0.30      68   \n",
       "\n",
       "   weight  \n",
       "0   155.0  \n",
       "1   155.0  \n",
       "2   161.0  \n",
       "3   168.0  \n",
       "4   145.0  "
      ]
     },
     "execution_count": 535,
     "metadata": {},
     "output_type": "execute_result"
    }
   ],
   "source": [
    "fighters_data.head()"
   ]
  },
  {
   "cell_type": "code",
   "execution_count": null,
   "metadata": {},
   "outputs": [],
   "source": []
  }
 ],
 "metadata": {
  "kernelspec": {
   "display_name": "Python 3",
   "language": "python",
   "name": "python3"
  },
  "language_info": {
   "codemirror_mode": {
    "name": "ipython",
    "version": 3
   },
   "file_extension": ".py",
   "mimetype": "text/x-python",
   "name": "python",
   "nbconvert_exporter": "python",
   "pygments_lexer": "ipython3",
   "version": "3.7.1"
  }
 },
 "nbformat": 4,
 "nbformat_minor": 2
}
