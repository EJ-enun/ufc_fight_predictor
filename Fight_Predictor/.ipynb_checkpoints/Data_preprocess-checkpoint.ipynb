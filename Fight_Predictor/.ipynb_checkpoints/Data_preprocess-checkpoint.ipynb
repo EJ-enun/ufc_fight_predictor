{
 "cells": [
  {
   "cell_type": "code",
   "execution_count": 237,
   "metadata": {},
   "outputs": [],
   "source": [
    "import pandas as pd\n",
    "import numpy as np\n",
    "import os \n",
    "import matplotlib.pyplot as plt\n",
    "#import tensorflow as tf \n",
    "pd.set_option('display.max_columns', 500)\n"
   ]
  },
  {
   "cell_type": "markdown",
   "metadata": {},
   "source": [
    "# Preprocess Each Dataset (Fighters and Bouts)"
   ]
  },
  {
   "cell_type": "code",
   "execution_count": 238,
   "metadata": {},
   "outputs": [],
   "source": [
    "#just fighters\n",
    "fighters_data = pd.read_csv('Fights_scraper/spiders/scraped_fighters.csv') \n",
    "#just bouts\n",
    "bouts_data = pd.read_csv('Bouts_Scraper/bouts_scraped/bouts_scraped/spiders/scraped_bouts.csv') \n",
    "#combined dataset, created with SQL Query, joined on fighter1 and 2 names\n",
    "fighter_bouts = pd.read_csv('fighters_bouts_joined.csv') \n"
   ]
  },
  {
   "cell_type": "code",
   "execution_count": 239,
   "metadata": {},
   "outputs": [],
   "source": [
    "fighter_bouts = fighter_bouts.drop(columns=['round','time','win_method_finish','win_method_type'])"
   ]
  },
  {
   "cell_type": "code",
   "execution_count": 240,
   "metadata": {},
   "outputs": [],
   "source": [
    "#shuffles winners in the df to make the classes of winners and losers balanced\n",
    "import math\n",
    "negative_index = np.random.choice(len(fighter_bouts),\n",
    "                                  size= math.ceil(len(fighter_bouts)/2),\n",
    "                                  replace = False)\n",
    "\n",
    "fighter_bouts.iloc[negative_index,[2,3]] = fighter_bouts.iloc[negative_index,[3,2]].values\n",
    "\n"
   ]
  },
  {
   "cell_type": "code",
   "execution_count": 241,
   "metadata": {},
   "outputs": [],
   "source": [
    "#make winner column align correctly with negative index\n",
    "fighter_bouts['winner'].iloc[negative_index] = fighter_bouts['fighter2'].iloc[negative_index]"
   ]
  },
  {
   "cell_type": "code",
   "execution_count": 242,
   "metadata": {},
   "outputs": [],
   "source": [
    "#creates two lists of the relevant columns stats for f1 and f2\n",
    "f1_list = [col for col in fighter_bouts.columns if 'f1' in col]\n",
    "f2_list = [col for col in fighter_bouts.columns if 'f2' in col]\n"
   ]
  },
  {
   "cell_type": "code",
   "execution_count": 243,
   "metadata": {},
   "outputs": [],
   "source": [
    "f1_index = []\n",
    "for col in fighter_bouts.columns:\n",
    "    if col in f1_list:\n",
    "        f1_index.append(fighter_bouts.columns.get_loc(col))\n",
    "\n",
    "f2_index = []\n",
    "for col in fighter_bouts.columns:\n",
    "    if col in f2_list:\n",
    "        f2_index.append(fighter_bouts.columns.get_loc(col))"
   ]
  },
  {
   "cell_type": "code",
   "execution_count": 244,
   "metadata": {},
   "outputs": [],
   "source": [
    "fb_copy = fighter_bouts.copy()\n",
    "#all values at the negative index of f1's become the values of negative index of f2's\n",
    "fighter_bouts.iloc[negative_index,f1_index] = fighter_bouts.iloc[negative_index,f2_index].values\n",
    "#all values at the negative index of f2's become the values of negative index of f1's using copy of fb_copy of fighter bouts\n",
    "fighter_bouts.iloc[negative_index,f2_index] =fb_copy.iloc[negative_index,f1_index].values"
   ]
  },
  {
   "cell_type": "code",
   "execution_count": 245,
   "metadata": {},
   "outputs": [],
   "source": [
    "#seperate df consisting only of categorical dtypes\n",
    "categorical_fb = fighter_bouts.select_dtypes(include='object')\n",
    "#drop those types for now from fighter bouts leaving only numeric values\n",
    "fighter_bouts = fighter_bouts.drop(columns=categorical_fb.columns)\n"
   ]
  },
  {
   "cell_type": "code",
   "execution_count": 246,
   "metadata": {},
   "outputs": [],
   "source": [
    "#some fighters have '--' as a null for their DOB and height\n",
    "categorical_fb['f1_dob'] =  categorical_fb['f1_dob'].replace('--',None) \n",
    "categorical_fb['f2_dob'] =  categorical_fb['f2_dob'].replace('--',None)\n",
    "#same as above for height\n",
    "categorical_fb['f1_height'] =  categorical_fb['f1_height'].replace('--',None) \n",
    "categorical_fb['f2_height'] =  categorical_fb['f2_height'].replace('--',None)"
   ]
  },
  {
   "cell_type": "code",
   "execution_count": 247,
   "metadata": {},
   "outputs": [],
   "source": [
    "categorical_fb['event_date'] = pd.to_datetime(categorical_fb['event_date'])\n",
    "categorical_fb['f1_dob'] = pd.to_datetime(categorical_fb['f1_dob'])\n",
    "categorical_fb['f2_dob'] = pd.to_datetime(categorical_fb['f2_dob'])\n"
   ]
  },
  {
   "cell_type": "code",
   "execution_count": 248,
   "metadata": {},
   "outputs": [],
   "source": [
    "#weights can be seen as an ordinal category value so this list declares that order\n",
    "weights_ordered = [\"Women's Strawweight\",\"Women's Flyweight\",\"Women's Bantamweight\",\n",
    "               \"Women's Featherweight\", \"Flyweight\", \"Bantamweight\", \"Featherweight\",\n",
    "               \"Lightweight\",\"Welterweight\", \"Middleweight\",\"Light Heavyweight\",\n",
    "               \"Heavyweight\", \"Super Heavyweight\", \"Open Weight\",\"Catch Weight\"]\n",
    "\n"
   ]
  },
  {
   "cell_type": "code",
   "execution_count": 249,
   "metadata": {},
   "outputs": [
    {
     "name": "stderr",
     "output_type": "stream",
     "text": [
      "/Users/charlespierse/anaconda3/lib/python3.7/site-packages/ipykernel_launcher.py:3: FutureWarning: specifying 'categories' or 'ordered' in .astype() is deprecated; pass a CategoricalDtype instead\n",
      "  This is separate from the ipykernel package so we can avoid doing imports until\n"
     ]
    }
   ],
   "source": [
    "categorical_fb[\"weight_class\"] = categorical_fb.weight_class.astype(\"category\",\n",
    "                                 ordered=True,\n",
    "                                 categories= weights_ordered).cat.codes\n"
   ]
  },
  {
   "cell_type": "code",
   "execution_count": 250,
   "metadata": {},
   "outputs": [],
   "source": [
    "#Creating a new feature for fighter1 and fighter2: ageAtFight. It's ordinal so no need to one hot encode,\n",
    "categorical_fb['f1_ageAtFight'] = (categorical_fb.event_date - categorical_fb.f1_dob).dt.days\n",
    "categorical_fb['f2_ageAtFight'] = (categorical_fb.event_date - categorical_fb.f2_dob).dt.days"
   ]
  },
  {
   "cell_type": "code",
   "execution_count": 251,
   "metadata": {},
   "outputs": [],
   "source": [
    "#starting to clean up the the fighters' records categories, first we replace text ('Record') with nothing\n",
    "categorical_fb = categorical_fb.replace('Record: ',\"\",regex=True) "
   ]
  },
  {
   "cell_type": "code",
   "execution_count": 252,
   "metadata": {},
   "outputs": [],
   "source": [
    "#make these values all zero (just in case something goes wrong with record_split()\n",
    "categorical_fb['f1_win'],categorical_fb['f1_loss'],categorical_fb['f1_draw'],categorical_fb['f1_nc'] = 0,0,0,0\n",
    "categorical_fb['f2_win'],categorical_fb['f2_loss'],categorical_fb['f2_draw'],categorical_fb['f2_nc'] = 0,0,0,0\n"
   ]
  },
  {
   "cell_type": "code",
   "execution_count": 253,
   "metadata": {},
   "outputs": [],
   "source": [
    "#a small function to handle the remainder of the record strings\n",
    "#takes in a row split the values on '-'\n",
    "#if 'NC' is contained the draw var(the only place it could be) then we split draw on brackets first\n",
    "#draw is simply equal to the 0th element of that split\n",
    "#nc is equal to the 1st element of that split with a regex to remove any remaining non numeric values\n",
    "#cast all values to int and return all 4 \n",
    "import re\n",
    "\n",
    "def record_split(row):\n",
    "        win,loss, draw = row.split('-')\n",
    "        nc= 0\n",
    "        if 'NC' in draw:       \n",
    "            draw = draw.split('(')\n",
    "            nc = re.sub('[^0-9]','', draw[1])\n",
    "            draw = draw[0]\n",
    "        else:\n",
    "            nc = 0     \n",
    "            \n",
    "        win,loss, draw, nc = int(win),int(loss), int(draw), int(nc)\n",
    "            \n",
    "        return win,loss,draw,nc\n",
    "        "
   ]
  },
  {
   "cell_type": "code",
   "execution_count": 254,
   "metadata": {},
   "outputs": [],
   "source": [
    "#this is a messy way to do these assignments but works. \n",
    "#use the pd apply function to apply our record_split() function on each row in df\n",
    "#zip(*...) unpacks our results nicely\n",
    "categorical_fb['f1_win'],\\\n",
    "categorical_fb['f1_loss'],\\\n",
    "categorical_fb['f1_draw'],\\\n",
    "categorical_fb['f1_nc'] = zip(*categorical_fb.apply(lambda x: record_split(x['f1_record']), axis=1))\n",
    "\n",
    "categorical_fb['f2_win'],\\\n",
    "categorical_fb['f2_loss'],\\\n",
    "categorical_fb['f2_draw'],\\\n",
    "categorical_fb['f2_nc'] = zip(*categorical_fb.apply(lambda x: record_split(x['f2_record']), axis=1))\n",
    "\n"
   ]
  },
  {
   "cell_type": "code",
   "execution_count": 255,
   "metadata": {},
   "outputs": [],
   "source": [
    "categorical_fb = categorical_fb.drop(columns =['f1_record','f2_record'])"
   ]
  },
  {
   "cell_type": "code",
   "execution_count": 256,
   "metadata": {},
   "outputs": [],
   "source": [
    "\n",
    "#adds winner to end of column for readability \n",
    "cols = list(categorical_fb.columns.values) \n",
    "cols.pop(cols.index('winner')) \n",
    "categorical_fb = categorical_fb[cols+['winner']] \n",
    "\n"
   ]
  },
  {
   "cell_type": "code",
   "execution_count": 257,
   "metadata": {},
   "outputs": [
    {
     "data": {
      "text/html": [
       "<div>\n",
       "<style scoped>\n",
       "    .dataframe tbody tr th:only-of-type {\n",
       "        vertical-align: middle;\n",
       "    }\n",
       "\n",
       "    .dataframe tbody tr th {\n",
       "        vertical-align: top;\n",
       "    }\n",
       "\n",
       "    .dataframe thead th {\n",
       "        text-align: right;\n",
       "    }\n",
       "</style>\n",
       "<table border=\"1\" class=\"dataframe\">\n",
       "  <thead>\n",
       "    <tr style=\"text-align: right;\">\n",
       "      <th></th>\n",
       "      <th>event_date</th>\n",
       "      <th>figher1</th>\n",
       "      <th>fighter2</th>\n",
       "      <th>weight_class</th>\n",
       "      <th>f1_dob</th>\n",
       "      <th>f1_height</th>\n",
       "      <th>f1_stance</th>\n",
       "      <th>f2_dob</th>\n",
       "      <th>f2_height</th>\n",
       "      <th>f2_stance</th>\n",
       "      <th>f1_ageAtFight</th>\n",
       "      <th>f2_ageAtFight</th>\n",
       "      <th>f1_win</th>\n",
       "      <th>f1_loss</th>\n",
       "      <th>f1_draw</th>\n",
       "      <th>f1_nc</th>\n",
       "      <th>f2_win</th>\n",
       "      <th>f2_loss</th>\n",
       "      <th>f2_draw</th>\n",
       "      <th>f2_nc</th>\n",
       "      <th>winner</th>\n",
       "    </tr>\n",
       "  </thead>\n",
       "  <tbody>\n",
       "    <tr>\n",
       "      <th>0</th>\n",
       "      <td>2018-01-14</td>\n",
       "      <td>Dooho Choi</td>\n",
       "      <td>Jeremy Stephens</td>\n",
       "      <td>6</td>\n",
       "      <td>1991-04-10</td>\n",
       "      <td>5' 10</td>\n",
       "      <td>Orthodox</td>\n",
       "      <td>1986-05-25</td>\n",
       "      <td>5' 8</td>\n",
       "      <td>Orthodox</td>\n",
       "      <td>9776</td>\n",
       "      <td>11557</td>\n",
       "      <td>14</td>\n",
       "      <td>3</td>\n",
       "      <td>0</td>\n",
       "      <td>0</td>\n",
       "      <td>28</td>\n",
       "      <td>16</td>\n",
       "      <td>0</td>\n",
       "      <td>0</td>\n",
       "      <td>Jeremy Stephens</td>\n",
       "    </tr>\n",
       "    <tr>\n",
       "      <th>1</th>\n",
       "      <td>2018-01-14</td>\n",
       "      <td>Jessica-Rose Clark</td>\n",
       "      <td>Paige VanZant</td>\n",
       "      <td>1</td>\n",
       "      <td>1987-11-28</td>\n",
       "      <td>5' 5</td>\n",
       "      <td>Orthodox</td>\n",
       "      <td>1994-03-26</td>\n",
       "      <td>5' 4</td>\n",
       "      <td>Orthodox</td>\n",
       "      <td>11005</td>\n",
       "      <td>8695</td>\n",
       "      <td>9</td>\n",
       "      <td>5</td>\n",
       "      <td>0</td>\n",
       "      <td>1</td>\n",
       "      <td>8</td>\n",
       "      <td>4</td>\n",
       "      <td>0</td>\n",
       "      <td>0</td>\n",
       "      <td>Jessica-Rose Clark</td>\n",
       "    </tr>\n",
       "    <tr>\n",
       "      <th>2</th>\n",
       "      <td>2018-01-14</td>\n",
       "      <td>Emil Meek</td>\n",
       "      <td>Kamaru Usman</td>\n",
       "      <td>8</td>\n",
       "      <td>1988-08-20</td>\n",
       "      <td>5' 11</td>\n",
       "      <td>Switch</td>\n",
       "      <td>1987-05-11</td>\n",
       "      <td>6' 0</td>\n",
       "      <td>Switch</td>\n",
       "      <td>10739</td>\n",
       "      <td>11206</td>\n",
       "      <td>9</td>\n",
       "      <td>4</td>\n",
       "      <td>1</td>\n",
       "      <td>1</td>\n",
       "      <td>15</td>\n",
       "      <td>1</td>\n",
       "      <td>0</td>\n",
       "      <td>0</td>\n",
       "      <td>Kamaru Usman</td>\n",
       "    </tr>\n",
       "    <tr>\n",
       "      <th>3</th>\n",
       "      <td>2018-01-14</td>\n",
       "      <td>Michael Johnson</td>\n",
       "      <td>Darren Elkins</td>\n",
       "      <td>6</td>\n",
       "      <td>1986-06-04</td>\n",
       "      <td>5' 10</td>\n",
       "      <td>Southpaw</td>\n",
       "      <td>1984-05-16</td>\n",
       "      <td>5' 10</td>\n",
       "      <td>Orthodox</td>\n",
       "      <td>11547</td>\n",
       "      <td>12296</td>\n",
       "      <td>20</td>\n",
       "      <td>14</td>\n",
       "      <td>0</td>\n",
       "      <td>0</td>\n",
       "      <td>25</td>\n",
       "      <td>7</td>\n",
       "      <td>0</td>\n",
       "      <td>0</td>\n",
       "      <td>Darren Elkins</td>\n",
       "    </tr>\n",
       "    <tr>\n",
       "      <th>4</th>\n",
       "      <td>2018-01-14</td>\n",
       "      <td>James Krause</td>\n",
       "      <td>Alex White</td>\n",
       "      <td>7</td>\n",
       "      <td>1986-06-04</td>\n",
       "      <td>6' 2</td>\n",
       "      <td>Orthodox</td>\n",
       "      <td>1988-10-22</td>\n",
       "      <td>6' 0</td>\n",
       "      <td>Southpaw</td>\n",
       "      <td>11547</td>\n",
       "      <td>10676</td>\n",
       "      <td>25</td>\n",
       "      <td>8</td>\n",
       "      <td>0</td>\n",
       "      <td>0</td>\n",
       "      <td>13</td>\n",
       "      <td>5</td>\n",
       "      <td>0</td>\n",
       "      <td>0</td>\n",
       "      <td>James Krause</td>\n",
       "    </tr>\n",
       "  </tbody>\n",
       "</table>\n",
       "</div>"
      ],
      "text/plain": [
       "  event_date             figher1         fighter2  weight_class     f1_dob  \\\n",
       "0 2018-01-14          Dooho Choi  Jeremy Stephens             6 1991-04-10   \n",
       "1 2018-01-14  Jessica-Rose Clark    Paige VanZant             1 1987-11-28   \n",
       "2 2018-01-14           Emil Meek     Kamaru Usman             8 1988-08-20   \n",
       "3 2018-01-14     Michael Johnson    Darren Elkins             6 1986-06-04   \n",
       "4 2018-01-14        James Krause       Alex White             7 1986-06-04   \n",
       "\n",
       "  f1_height f1_stance     f2_dob f2_height f2_stance  f1_ageAtFight  \\\n",
       "0     5' 10  Orthodox 1986-05-25      5' 8  Orthodox           9776   \n",
       "1      5' 5  Orthodox 1994-03-26      5' 4  Orthodox          11005   \n",
       "2     5' 11    Switch 1987-05-11      6' 0    Switch          10739   \n",
       "3     5' 10  Southpaw 1984-05-16     5' 10  Orthodox          11547   \n",
       "4      6' 2  Orthodox 1988-10-22      6' 0  Southpaw          11547   \n",
       "\n",
       "   f2_ageAtFight  f1_win  f1_loss  f1_draw  f1_nc  f2_win  f2_loss  f2_draw  \\\n",
       "0          11557      14        3        0      0      28       16        0   \n",
       "1           8695       9        5        0      1       8        4        0   \n",
       "2          11206       9        4        1      1      15        1        0   \n",
       "3          12296      20       14        0      0      25        7        0   \n",
       "4          10676      25        8        0      0      13        5        0   \n",
       "\n",
       "   f2_nc              winner  \n",
       "0      0     Jeremy Stephens  \n",
       "1      0  Jessica-Rose Clark  \n",
       "2      0        Kamaru Usman  \n",
       "3      0       Darren Elkins  \n",
       "4      0        James Krause  "
      ]
     },
     "execution_count": 257,
     "metadata": {},
     "output_type": "execute_result"
    }
   ],
   "source": [
    "categorical_fb.head()"
   ]
  },
  {
   "cell_type": "code",
   "execution_count": 258,
   "metadata": {},
   "outputs": [],
   "source": [
    "def parse_height(height):\n",
    "    #expected format is 5' 10, 6'3 etc\n",
    "    ht = height.split(\"' \")\n",
    "    ft = float(ht[0])\n",
    "    inch = float(ht[1])\n",
    "    return (12*ft) + inch\n",
    "        "
   ]
  },
  {
   "cell_type": "code",
   "execution_count": 259,
   "metadata": {},
   "outputs": [],
   "source": [
    "categorical_fb.f2_height = categorical_fb.f2_height.apply(lambda x: parse_height(x))\n",
    "categorical_fb.f1_height = categorical_fb.f1_height.apply(lambda x: parse_height(x))"
   ]
  },
  {
   "cell_type": "code",
   "execution_count": 260,
   "metadata": {},
   "outputs": [],
   "source": [
    "# categorical_fb = categorical_fb.join(pd.get_dummies(categorical_fb.win_method_type,prefix= 'win_method'))\n",
    "# categorical_fb = categorical_fb.join(pd.get_dummies(categorical_fb.win_method_finish,prefix= 'win_finish'))\n",
    "categorical_fb = categorical_fb.join(pd.get_dummies(categorical_fb.f1_stance,prefix= 'f1_stance'))\n",
    "categorical_fb = categorical_fb.join(pd.get_dummies(categorical_fb.f2_stance,prefix= 'f2_stance'))"
   ]
  },
  {
   "cell_type": "code",
   "execution_count": 261,
   "metadata": {},
   "outputs": [
    {
     "ename": "KeyError",
     "evalue": "\"['win_method_type' 'win_method_finish'] not found in axis\"",
     "output_type": "error",
     "traceback": [
      "\u001b[0;31m---------------------------------------------------------------------------\u001b[0m",
      "\u001b[0;31mKeyError\u001b[0m                                  Traceback (most recent call last)",
      "\u001b[0;32m<ipython-input-261-f7d3ac05aa21>\u001b[0m in \u001b[0;36m<module>\u001b[0;34m\u001b[0m\n\u001b[0;32m----> 1\u001b[0;31m \u001b[0mcategorical_fb\u001b[0m \u001b[0;34m=\u001b[0m \u001b[0mcategorical_fb\u001b[0m\u001b[0;34m.\u001b[0m\u001b[0mdrop\u001b[0m\u001b[0;34m(\u001b[0m\u001b[0mcolumns\u001b[0m\u001b[0;34m=\u001b[0m\u001b[0;34m[\u001b[0m\u001b[0;34m'win_method_type'\u001b[0m\u001b[0;34m,\u001b[0m\u001b[0;34m'win_method_finish'\u001b[0m\u001b[0;34m,\u001b[0m\u001b[0;34m'f1_stance'\u001b[0m\u001b[0;34m,\u001b[0m\u001b[0;34m'f2_stance'\u001b[0m\u001b[0;34m,\u001b[0m\u001b[0;34m'f1_dob'\u001b[0m\u001b[0;34m,\u001b[0m\u001b[0;34m'f2_dob'\u001b[0m\u001b[0;34m,\u001b[0m\u001b[0;34m'event_date'\u001b[0m\u001b[0;34m]\u001b[0m\u001b[0;34m)\u001b[0m\u001b[0;34m\u001b[0m\u001b[0;34m\u001b[0m\u001b[0m\n\u001b[0m",
      "\u001b[0;32m~/anaconda3/lib/python3.7/site-packages/pandas/core/frame.py\u001b[0m in \u001b[0;36mdrop\u001b[0;34m(self, labels, axis, index, columns, level, inplace, errors)\u001b[0m\n\u001b[1;32m   3695\u001b[0m                                            \u001b[0mindex\u001b[0m\u001b[0;34m=\u001b[0m\u001b[0mindex\u001b[0m\u001b[0;34m,\u001b[0m \u001b[0mcolumns\u001b[0m\u001b[0;34m=\u001b[0m\u001b[0mcolumns\u001b[0m\u001b[0;34m,\u001b[0m\u001b[0;34m\u001b[0m\u001b[0;34m\u001b[0m\u001b[0m\n\u001b[1;32m   3696\u001b[0m                                            \u001b[0mlevel\u001b[0m\u001b[0;34m=\u001b[0m\u001b[0mlevel\u001b[0m\u001b[0;34m,\u001b[0m \u001b[0minplace\u001b[0m\u001b[0;34m=\u001b[0m\u001b[0minplace\u001b[0m\u001b[0;34m,\u001b[0m\u001b[0;34m\u001b[0m\u001b[0;34m\u001b[0m\u001b[0m\n\u001b[0;32m-> 3697\u001b[0;31m                                            errors=errors)\n\u001b[0m\u001b[1;32m   3698\u001b[0m \u001b[0;34m\u001b[0m\u001b[0m\n\u001b[1;32m   3699\u001b[0m     @rewrite_axis_style_signature('mapper', [('copy', True),\n",
      "\u001b[0;32m~/anaconda3/lib/python3.7/site-packages/pandas/core/generic.py\u001b[0m in \u001b[0;36mdrop\u001b[0;34m(self, labels, axis, index, columns, level, inplace, errors)\u001b[0m\n\u001b[1;32m   3109\u001b[0m         \u001b[0;32mfor\u001b[0m \u001b[0maxis\u001b[0m\u001b[0;34m,\u001b[0m \u001b[0mlabels\u001b[0m \u001b[0;32min\u001b[0m \u001b[0maxes\u001b[0m\u001b[0;34m.\u001b[0m\u001b[0mitems\u001b[0m\u001b[0;34m(\u001b[0m\u001b[0;34m)\u001b[0m\u001b[0;34m:\u001b[0m\u001b[0;34m\u001b[0m\u001b[0;34m\u001b[0m\u001b[0m\n\u001b[1;32m   3110\u001b[0m             \u001b[0;32mif\u001b[0m \u001b[0mlabels\u001b[0m \u001b[0;32mis\u001b[0m \u001b[0;32mnot\u001b[0m \u001b[0;32mNone\u001b[0m\u001b[0;34m:\u001b[0m\u001b[0;34m\u001b[0m\u001b[0;34m\u001b[0m\u001b[0m\n\u001b[0;32m-> 3111\u001b[0;31m                 \u001b[0mobj\u001b[0m \u001b[0;34m=\u001b[0m \u001b[0mobj\u001b[0m\u001b[0;34m.\u001b[0m\u001b[0m_drop_axis\u001b[0m\u001b[0;34m(\u001b[0m\u001b[0mlabels\u001b[0m\u001b[0;34m,\u001b[0m \u001b[0maxis\u001b[0m\u001b[0;34m,\u001b[0m \u001b[0mlevel\u001b[0m\u001b[0;34m=\u001b[0m\u001b[0mlevel\u001b[0m\u001b[0;34m,\u001b[0m \u001b[0merrors\u001b[0m\u001b[0;34m=\u001b[0m\u001b[0merrors\u001b[0m\u001b[0;34m)\u001b[0m\u001b[0;34m\u001b[0m\u001b[0;34m\u001b[0m\u001b[0m\n\u001b[0m\u001b[1;32m   3112\u001b[0m \u001b[0;34m\u001b[0m\u001b[0m\n\u001b[1;32m   3113\u001b[0m         \u001b[0;32mif\u001b[0m \u001b[0minplace\u001b[0m\u001b[0;34m:\u001b[0m\u001b[0;34m\u001b[0m\u001b[0;34m\u001b[0m\u001b[0m\n",
      "\u001b[0;32m~/anaconda3/lib/python3.7/site-packages/pandas/core/generic.py\u001b[0m in \u001b[0;36m_drop_axis\u001b[0;34m(self, labels, axis, level, errors)\u001b[0m\n\u001b[1;32m   3141\u001b[0m                 \u001b[0mnew_axis\u001b[0m \u001b[0;34m=\u001b[0m \u001b[0maxis\u001b[0m\u001b[0;34m.\u001b[0m\u001b[0mdrop\u001b[0m\u001b[0;34m(\u001b[0m\u001b[0mlabels\u001b[0m\u001b[0;34m,\u001b[0m \u001b[0mlevel\u001b[0m\u001b[0;34m=\u001b[0m\u001b[0mlevel\u001b[0m\u001b[0;34m,\u001b[0m \u001b[0merrors\u001b[0m\u001b[0;34m=\u001b[0m\u001b[0merrors\u001b[0m\u001b[0;34m)\u001b[0m\u001b[0;34m\u001b[0m\u001b[0;34m\u001b[0m\u001b[0m\n\u001b[1;32m   3142\u001b[0m             \u001b[0;32melse\u001b[0m\u001b[0;34m:\u001b[0m\u001b[0;34m\u001b[0m\u001b[0;34m\u001b[0m\u001b[0m\n\u001b[0;32m-> 3143\u001b[0;31m                 \u001b[0mnew_axis\u001b[0m \u001b[0;34m=\u001b[0m \u001b[0maxis\u001b[0m\u001b[0;34m.\u001b[0m\u001b[0mdrop\u001b[0m\u001b[0;34m(\u001b[0m\u001b[0mlabels\u001b[0m\u001b[0;34m,\u001b[0m \u001b[0merrors\u001b[0m\u001b[0;34m=\u001b[0m\u001b[0merrors\u001b[0m\u001b[0;34m)\u001b[0m\u001b[0;34m\u001b[0m\u001b[0;34m\u001b[0m\u001b[0m\n\u001b[0m\u001b[1;32m   3144\u001b[0m             \u001b[0mresult\u001b[0m \u001b[0;34m=\u001b[0m \u001b[0mself\u001b[0m\u001b[0;34m.\u001b[0m\u001b[0mreindex\u001b[0m\u001b[0;34m(\u001b[0m\u001b[0;34m**\u001b[0m\u001b[0;34m{\u001b[0m\u001b[0maxis_name\u001b[0m\u001b[0;34m:\u001b[0m \u001b[0mnew_axis\u001b[0m\u001b[0;34m}\u001b[0m\u001b[0;34m)\u001b[0m\u001b[0;34m\u001b[0m\u001b[0;34m\u001b[0m\u001b[0m\n\u001b[1;32m   3145\u001b[0m \u001b[0;34m\u001b[0m\u001b[0m\n",
      "\u001b[0;32m~/anaconda3/lib/python3.7/site-packages/pandas/core/indexes/base.py\u001b[0m in \u001b[0;36mdrop\u001b[0;34m(self, labels, errors)\u001b[0m\n\u001b[1;32m   4402\u001b[0m             \u001b[0;32mif\u001b[0m \u001b[0merrors\u001b[0m \u001b[0;34m!=\u001b[0m \u001b[0;34m'ignore'\u001b[0m\u001b[0;34m:\u001b[0m\u001b[0;34m\u001b[0m\u001b[0;34m\u001b[0m\u001b[0m\n\u001b[1;32m   4403\u001b[0m                 raise KeyError(\n\u001b[0;32m-> 4404\u001b[0;31m                     '{} not found in axis'.format(labels[mask]))\n\u001b[0m\u001b[1;32m   4405\u001b[0m             \u001b[0mindexer\u001b[0m \u001b[0;34m=\u001b[0m \u001b[0mindexer\u001b[0m\u001b[0;34m[\u001b[0m\u001b[0;34m~\u001b[0m\u001b[0mmask\u001b[0m\u001b[0;34m]\u001b[0m\u001b[0;34m\u001b[0m\u001b[0;34m\u001b[0m\u001b[0m\n\u001b[1;32m   4406\u001b[0m         \u001b[0;32mreturn\u001b[0m \u001b[0mself\u001b[0m\u001b[0;34m.\u001b[0m\u001b[0mdelete\u001b[0m\u001b[0;34m(\u001b[0m\u001b[0mindexer\u001b[0m\u001b[0;34m)\u001b[0m\u001b[0;34m\u001b[0m\u001b[0;34m\u001b[0m\u001b[0m\n",
      "\u001b[0;31mKeyError\u001b[0m: \"['win_method_type' 'win_method_finish'] not found in axis\""
     ]
    }
   ],
   "source": [
    "categorical_fb = categorical_fb.drop(columns=['f1_stance','f2_stance','f1_dob','f2_dob','event_date'])"
   ]
  },
  {
   "cell_type": "code",
   "execution_count": null,
   "metadata": {},
   "outputs": [],
   "source": [
    "\n",
    "#adds winner to end of column for readability \n",
    "cols = list(categorical_fb.columns.values) \n",
    "cols.pop(cols.index('winner')) \n",
    "categorical_fb = categorical_fb[cols+['winner']] \n",
    "\n"
   ]
  },
  {
   "cell_type": "code",
   "execution_count": null,
   "metadata": {},
   "outputs": [],
   "source": [
    "categorical_fb['winner'] = (categorical_fb['fighter2'] == categorical_fb['winner']).astype('int')\n",
    "categorical_fb['figher1'] = 0\n",
    "categorical_fb['fighter2'] = 1"
   ]
  },
  {
   "cell_type": "code",
   "execution_count": null,
   "metadata": {},
   "outputs": [],
   "source": [
    "fbs_joined = pd.concat([fighter_bouts,categorical_fb],axis=1)"
   ]
  },
  {
   "cell_type": "code",
   "execution_count": null,
   "metadata": {},
   "outputs": [],
   "source": [
    "target = fbs_joined.winner"
   ]
  },
  {
   "cell_type": "code",
   "execution_count": null,
   "metadata": {},
   "outputs": [],
   "source": [
    "fbs_joined = fbs_joined.drop(columns=['event_attendence'])"
   ]
  },
  {
   "cell_type": "code",
   "execution_count": null,
   "metadata": {},
   "outputs": [],
   "source": [
    "#we'll be using this later for the second model prep\n",
    "fbj_copy = fbs_joined.copy()"
   ]
  },
  {
   "cell_type": "code",
   "execution_count": null,
   "metadata": {},
   "outputs": [],
   "source": [
    "fbs_joined = fbs_joined.drop(columns=['winner'])"
   ]
  },
  {
   "cell_type": "code",
   "execution_count": null,
   "metadata": {},
   "outputs": [],
   "source": [
    "fbs_joined.head()"
   ]
  },
  {
   "cell_type": "code",
   "execution_count": null,
   "metadata": {},
   "outputs": [],
   "source": [
    "fbs_joined= fbs_joined.drop(columns=predictor_cols)"
   ]
  },
  {
   "cell_type": "code",
   "execution_count": null,
   "metadata": {},
   "outputs": [],
   "source": [
    "from sklearn.preprocessing import StandardScaler\n",
    "from sklearn.impute import SimpleImputer\n",
    "imputer = SimpleImputer(strategy= 'median',copy= False)\n",
    "scaler = StandardScaler()"
   ]
  },
  {
   "cell_type": "code",
   "execution_count": null,
   "metadata": {},
   "outputs": [],
   "source": [
    "scaled_fbs = scaler.fit_transform(fbs_joined)\n",
    "imputed_fbs = imputer.fit_transform(scaled_fbs)"
   ]
  },
  {
   "cell_type": "code",
   "execution_count": null,
   "metadata": {},
   "outputs": [],
   "source": [
    "from sklearn.model_selection import StratifiedShuffleSplit\n",
    "sss= StratifiedShuffleSplit(n_splits=20,test_size=0.2,random_state=42)\n",
    "\n",
    "for train_index, test_index in sss.split(imputed_fbs, target):\n",
    "    X_train, X_test = imputed_fbs[train_index], imputed_fbs[test_index]\n",
    "    y_train, y_test = target[train_index], target[test_index]"
   ]
  },
  {
   "cell_type": "code",
   "execution_count": null,
   "metadata": {},
   "outputs": [],
   "source": [
    "np.savetxt(\"model_data/X_train.csv\", X_train, delimiter=\",\")\n",
    "np.savetxt(\"model_data/y_train.csv\", y_train, delimiter=\",\")\n",
    "np.savetxt(\"model_data/X_test.csv\", X_test, delimiter=\",\")\n",
    "np.savetxt(\"model_data/y_test.csv\", y_test, delimiter=\",\")"
   ]
  },
  {
   "cell_type": "markdown",
   "metadata": {},
   "source": [
    "# Fight Stats Prediction Data Prep"
   ]
  },
  {
   "cell_type": "markdown",
   "metadata": {},
   "source": [
    "This next step is about preparing the data for the second model that will be used.\n",
    "The aim of this model is to produce multiple linear regressions that will try to predict the \n",
    "performance (fight stats) of two fighters in a bout and then pass those on to our main Neural Net"
   ]
  },
  {
   "cell_type": "code",
   "execution_count": null,
   "metadata": {},
   "outputs": [],
   "source": [
    "drop_cols =[]\n",
    "for col in fbj_copy.columns:\n",
    "    if 'win_method_' in col or 'win_finish_' in col:\n",
    "        drop_cols.append(col)\n",
    "fbj_copy = fbj_copy.drop(columns=drop_cols)        "
   ]
  },
  {
   "cell_type": "code",
   "execution_count": null,
   "metadata": {},
   "outputs": [],
   "source": [
    "fbj_copy.columns"
   ]
  },
  {
   "cell_type": "code",
   "execution_count": null,
   "metadata": {},
   "outputs": [],
   "source": [
    "predictor_cols = ['pass_stat_f1', 'pass_stat_f2', 'str_stat_f1', 'str_stat_f2',\n",
    "       'sub_stat_f1', 'sub_stat_f2', 'td_stat_f1', 'td_stat_f2',]"
   ]
  },
  {
   "cell_type": "code",
   "execution_count": null,
   "metadata": {},
   "outputs": [],
   "source": [
    "fbj_copy[predictor_cols].head()"
   ]
  },
  {
   "cell_type": "code",
   "execution_count": null,
   "metadata": {},
   "outputs": [],
   "source": [
    "targets = fbj_copy[predictor_cols]\n"
   ]
  },
  {
   "cell_type": "code",
   "execution_count": null,
   "metadata": {},
   "outputs": [],
   "source": [
    "fbj_copy =fbj_copy.drop(columns= targets.columns)"
   ]
  },
  {
   "cell_type": "code",
   "execution_count": null,
   "metadata": {},
   "outputs": [],
   "source": [
    "fbj_copy.head(10)"
   ]
  },
  {
   "cell_type": "code",
   "execution_count": null,
   "metadata": {},
   "outputs": [],
   "source": [
    "from sklearn.preprocessing import StandardScaler\n",
    "from sklearn.impute import SimpleImputer\n",
    "from sklearn.preprocessing import Normalizer\n",
    "imputer = SimpleImputer(strategy= 'median',copy= False)\n",
    "scaler = StandardScaler()\n",
    "normalizer = Normalizer()"
   ]
  },
  {
   "cell_type": "code",
   "execution_count": null,
   "metadata": {},
   "outputs": [],
   "source": [
    "scaled_fbj = scaler.fit_transform(fbj_copy)\n",
    "imputed_fbj = imputer.fit_transform(fbj_copy)"
   ]
  },
  {
   "cell_type": "code",
   "execution_count": null,
   "metadata": {},
   "outputs": [],
   "source": [
    "from sklearn.model_selection import train_test_split\n",
    "X_train, X_test, y_train, y_test = train_test_split(imputed_fbj, targets.values, test_size=0.10, random_state=42)\n"
   ]
  },
  {
   "cell_type": "code",
   "execution_count": null,
   "metadata": {},
   "outputs": [],
   "source": [
    "np.savetxt(\"model_data/X_train_stats.csv\", X_train, delimiter=\",\")\n",
    "np.savetxt(\"model_data/y_train_stats.csv\", y_train, delimiter=\",\")\n",
    "np.savetxt(\"model_data/X_test_stats.csv\", X_test, delimiter=\",\")\n",
    "np.savetxt(\"model_data/y_test_stats.csv\", y_test, delimiter=\",\")"
   ]
  },
  {
   "cell_type": "markdown",
   "metadata": {},
   "source": [
    "# Loading In Fights Stats Predictor Model"
   ]
  },
  {
   "cell_type": "code",
   "execution_count": 183,
   "metadata": {},
   "outputs": [],
   "source": [
    "import tensorflow.keras.backend as K\n",
    "\n",
    "def r2(y_true, y_pred):\n",
    "    SS_res = K.sum(K.square( y_true-y_pred ))\n",
    "    SS_tot = K.sum(K.square( y_true - K.mean(y_true)))\n",
    "    return 1 - SS_res/(SS_tot + K.epsilon())"
   ]
  },
  {
   "cell_type": "code",
   "execution_count": 184,
   "metadata": {},
   "outputs": [],
   "source": [
    "import tensorflow as tf\n",
    "\n",
    "model = tf.keras.models.load_model('Saved_Models/Fight_Stats_Models/stats_model2019-05-25.h5',custom_objects={\"r2\": r2})"
   ]
  },
  {
   "cell_type": "code",
   "execution_count": 185,
   "metadata": {},
   "outputs": [],
   "source": [
    "prediction = model.predict(X_train)[0]"
   ]
  },
  {
   "cell_type": "code",
   "execution_count": 186,
   "metadata": {},
   "outputs": [
    {
     "name": "stdout",
     "output_type": "stream",
     "text": [
      "[ 0.17713827  1.8164731  28.581081   43.32835     0.3051973   0.82861274\n",
      "  0.48753718  1.963722  ]\n"
     ]
    }
   ],
   "source": [
    "print(prediction)"
   ]
  },
  {
   "cell_type": "markdown",
   "metadata": {},
   "source": [
    "# Using the loaded model to predict two fighters' stats in a bout"
   ]
  },
  {
   "cell_type": "code",
   "execution_count": 187,
   "metadata": {},
   "outputs": [],
   "source": [
    "def predict_bout_stats(fighters):\n",
    "    stats_predicted = model.predict(fighters)\n",
    "    return stats_predicted"
   ]
  },
  {
   "cell_type": "code",
   "execution_count": 188,
   "metadata": {},
   "outputs": [
    {
     "data": {
      "text/html": [
       "<div>\n",
       "<style scoped>\n",
       "    .dataframe tbody tr th:only-of-type {\n",
       "        vertical-align: middle;\n",
       "    }\n",
       "\n",
       "    .dataframe tbody tr th {\n",
       "        vertical-align: top;\n",
       "    }\n",
       "\n",
       "    .dataframe thead th {\n",
       "        text-align: right;\n",
       "    }\n",
       "</style>\n",
       "<table border=\"1\" class=\"dataframe\">\n",
       "  <thead>\n",
       "    <tr style=\"text-align: right;\">\n",
       "      <th></th>\n",
       "      <th>f1_reach</th>\n",
       "      <th>f1_sapm</th>\n",
       "      <th>f1_slpm</th>\n",
       "      <th>f1_stk_acc</th>\n",
       "      <th>f1_stk_def</th>\n",
       "      <th>f1_sub_avg</th>\n",
       "      <th>f1_td_acc</th>\n",
       "      <th>f1_td_avg</th>\n",
       "      <th>f1_td_def</th>\n",
       "      <th>f1_weight</th>\n",
       "      <th>f2_reach</th>\n",
       "      <th>f2_sapm</th>\n",
       "      <th>f2_slpm</th>\n",
       "      <th>f2_stk_acc</th>\n",
       "      <th>f2_stk_def</th>\n",
       "      <th>f2_sub_avg</th>\n",
       "      <th>f2_td_acc</th>\n",
       "      <th>f2_td_avg</th>\n",
       "      <th>f2_td_def</th>\n",
       "      <th>f2_weight</th>\n",
       "      <th>figher1</th>\n",
       "      <th>fighter2</th>\n",
       "      <th>weight_class</th>\n",
       "      <th>f1_height</th>\n",
       "      <th>f2_height</th>\n",
       "      <th>f1_ageAtFight</th>\n",
       "      <th>f2_ageAtFight</th>\n",
       "      <th>f1_win</th>\n",
       "      <th>f1_loss</th>\n",
       "      <th>f1_draw</th>\n",
       "      <th>f1_nc</th>\n",
       "      <th>f2_win</th>\n",
       "      <th>f2_loss</th>\n",
       "      <th>f2_draw</th>\n",
       "      <th>f2_nc</th>\n",
       "      <th>f1_stance_Open Stance</th>\n",
       "      <th>f1_stance_Orthodox</th>\n",
       "      <th>f1_stance_Sideways</th>\n",
       "      <th>f1_stance_Southpaw</th>\n",
       "      <th>f1_stance_Switch</th>\n",
       "      <th>f2_stance_Open Stance</th>\n",
       "      <th>f2_stance_Orthodox</th>\n",
       "      <th>f2_stance_Sideways</th>\n",
       "      <th>f2_stance_Southpaw</th>\n",
       "      <th>f2_stance_Switch</th>\n",
       "      <th>winner</th>\n",
       "    </tr>\n",
       "  </thead>\n",
       "  <tbody>\n",
       "    <tr>\n",
       "      <th>0</th>\n",
       "      <td>70.0</td>\n",
       "      <td>6.26</td>\n",
       "      <td>5.64</td>\n",
       "      <td>53</td>\n",
       "      <td>54</td>\n",
       "      <td>0.0</td>\n",
       "      <td>20</td>\n",
       "      <td>0.55</td>\n",
       "      <td>50</td>\n",
       "      <td>145.0</td>\n",
       "      <td>71.0</td>\n",
       "      <td>2.84</td>\n",
       "      <td>3.08</td>\n",
       "      <td>40</td>\n",
       "      <td>59</td>\n",
       "      <td>0.4</td>\n",
       "      <td>36</td>\n",
       "      <td>1.11</td>\n",
       "      <td>64</td>\n",
       "      <td>145.0</td>\n",
       "      <td>0</td>\n",
       "      <td>1</td>\n",
       "      <td>6</td>\n",
       "      <td>70.0</td>\n",
       "      <td>68.0</td>\n",
       "      <td>9776</td>\n",
       "      <td>11557</td>\n",
       "      <td>14</td>\n",
       "      <td>3</td>\n",
       "      <td>0</td>\n",
       "      <td>0</td>\n",
       "      <td>28</td>\n",
       "      <td>16</td>\n",
       "      <td>0</td>\n",
       "      <td>0</td>\n",
       "      <td>0</td>\n",
       "      <td>1</td>\n",
       "      <td>0</td>\n",
       "      <td>0</td>\n",
       "      <td>0</td>\n",
       "      <td>0</td>\n",
       "      <td>1</td>\n",
       "      <td>0</td>\n",
       "      <td>0</td>\n",
       "      <td>0</td>\n",
       "      <td>1</td>\n",
       "    </tr>\n",
       "    <tr>\n",
       "      <th>1</th>\n",
       "      <td>65.0</td>\n",
       "      <td>2.63</td>\n",
       "      <td>3.40</td>\n",
       "      <td>52</td>\n",
       "      <td>43</td>\n",
       "      <td>1.0</td>\n",
       "      <td>33</td>\n",
       "      <td>1.31</td>\n",
       "      <td>35</td>\n",
       "      <td>115.0</td>\n",
       "      <td>64.0</td>\n",
       "      <td>4.13</td>\n",
       "      <td>4.60</td>\n",
       "      <td>50</td>\n",
       "      <td>61</td>\n",
       "      <td>0.7</td>\n",
       "      <td>66</td>\n",
       "      <td>1.33</td>\n",
       "      <td>57</td>\n",
       "      <td>125.0</td>\n",
       "      <td>0</td>\n",
       "      <td>1</td>\n",
       "      <td>1</td>\n",
       "      <td>64.0</td>\n",
       "      <td>65.0</td>\n",
       "      <td>8695</td>\n",
       "      <td>11005</td>\n",
       "      <td>8</td>\n",
       "      <td>4</td>\n",
       "      <td>0</td>\n",
       "      <td>0</td>\n",
       "      <td>9</td>\n",
       "      <td>5</td>\n",
       "      <td>0</td>\n",
       "      <td>1</td>\n",
       "      <td>0</td>\n",
       "      <td>1</td>\n",
       "      <td>0</td>\n",
       "      <td>0</td>\n",
       "      <td>0</td>\n",
       "      <td>0</td>\n",
       "      <td>1</td>\n",
       "      <td>0</td>\n",
       "      <td>0</td>\n",
       "      <td>0</td>\n",
       "      <td>1</td>\n",
       "    </tr>\n",
       "    <tr>\n",
       "      <th>2</th>\n",
       "      <td>74.0</td>\n",
       "      <td>2.64</td>\n",
       "      <td>2.24</td>\n",
       "      <td>38</td>\n",
       "      <td>32</td>\n",
       "      <td>1.3</td>\n",
       "      <td>50</td>\n",
       "      <td>0.33</td>\n",
       "      <td>48</td>\n",
       "      <td>170.0</td>\n",
       "      <td>76.0</td>\n",
       "      <td>1.60</td>\n",
       "      <td>4.20</td>\n",
       "      <td>54</td>\n",
       "      <td>57</td>\n",
       "      <td>0.2</td>\n",
       "      <td>50</td>\n",
       "      <td>3.96</td>\n",
       "      <td>100</td>\n",
       "      <td>170.0</td>\n",
       "      <td>0</td>\n",
       "      <td>1</td>\n",
       "      <td>8</td>\n",
       "      <td>71.0</td>\n",
       "      <td>72.0</td>\n",
       "      <td>10739</td>\n",
       "      <td>11206</td>\n",
       "      <td>9</td>\n",
       "      <td>4</td>\n",
       "      <td>1</td>\n",
       "      <td>1</td>\n",
       "      <td>15</td>\n",
       "      <td>1</td>\n",
       "      <td>0</td>\n",
       "      <td>0</td>\n",
       "      <td>0</td>\n",
       "      <td>0</td>\n",
       "      <td>0</td>\n",
       "      <td>0</td>\n",
       "      <td>1</td>\n",
       "      <td>0</td>\n",
       "      <td>0</td>\n",
       "      <td>0</td>\n",
       "      <td>0</td>\n",
       "      <td>1</td>\n",
       "      <td>1</td>\n",
       "    </tr>\n",
       "    <tr>\n",
       "      <th>3</th>\n",
       "      <td>71.0</td>\n",
       "      <td>2.83</td>\n",
       "      <td>3.36</td>\n",
       "      <td>37</td>\n",
       "      <td>53</td>\n",
       "      <td>1.3</td>\n",
       "      <td>35</td>\n",
       "      <td>2.68</td>\n",
       "      <td>57</td>\n",
       "      <td>145.0</td>\n",
       "      <td>73.0</td>\n",
       "      <td>3.82</td>\n",
       "      <td>4.15</td>\n",
       "      <td>37</td>\n",
       "      <td>58</td>\n",
       "      <td>0.1</td>\n",
       "      <td>45</td>\n",
       "      <td>0.56</td>\n",
       "      <td>78</td>\n",
       "      <td>145.0</td>\n",
       "      <td>0</td>\n",
       "      <td>1</td>\n",
       "      <td>6</td>\n",
       "      <td>70.0</td>\n",
       "      <td>70.0</td>\n",
       "      <td>12296</td>\n",
       "      <td>11547</td>\n",
       "      <td>25</td>\n",
       "      <td>7</td>\n",
       "      <td>0</td>\n",
       "      <td>0</td>\n",
       "      <td>20</td>\n",
       "      <td>14</td>\n",
       "      <td>0</td>\n",
       "      <td>0</td>\n",
       "      <td>0</td>\n",
       "      <td>1</td>\n",
       "      <td>0</td>\n",
       "      <td>0</td>\n",
       "      <td>0</td>\n",
       "      <td>0</td>\n",
       "      <td>0</td>\n",
       "      <td>0</td>\n",
       "      <td>1</td>\n",
       "      <td>0</td>\n",
       "      <td>0</td>\n",
       "    </tr>\n",
       "    <tr>\n",
       "      <th>4</th>\n",
       "      <td>73.0</td>\n",
       "      <td>4.15</td>\n",
       "      <td>4.57</td>\n",
       "      <td>46</td>\n",
       "      <td>61</td>\n",
       "      <td>0.7</td>\n",
       "      <td>18</td>\n",
       "      <td>1.18</td>\n",
       "      <td>46</td>\n",
       "      <td>170.0</td>\n",
       "      <td>71.0</td>\n",
       "      <td>2.87</td>\n",
       "      <td>3.77</td>\n",
       "      <td>42</td>\n",
       "      <td>62</td>\n",
       "      <td>0.6</td>\n",
       "      <td>50</td>\n",
       "      <td>1.05</td>\n",
       "      <td>72</td>\n",
       "      <td>155.0</td>\n",
       "      <td>0</td>\n",
       "      <td>1</td>\n",
       "      <td>7</td>\n",
       "      <td>74.0</td>\n",
       "      <td>72.0</td>\n",
       "      <td>11547</td>\n",
       "      <td>10676</td>\n",
       "      <td>25</td>\n",
       "      <td>8</td>\n",
       "      <td>0</td>\n",
       "      <td>0</td>\n",
       "      <td>13</td>\n",
       "      <td>5</td>\n",
       "      <td>0</td>\n",
       "      <td>0</td>\n",
       "      <td>0</td>\n",
       "      <td>1</td>\n",
       "      <td>0</td>\n",
       "      <td>0</td>\n",
       "      <td>0</td>\n",
       "      <td>0</td>\n",
       "      <td>0</td>\n",
       "      <td>0</td>\n",
       "      <td>1</td>\n",
       "      <td>0</td>\n",
       "      <td>0</td>\n",
       "    </tr>\n",
       "  </tbody>\n",
       "</table>\n",
       "</div>"
      ],
      "text/plain": [
       "   f1_reach  f1_sapm  f1_slpm  f1_stk_acc  f1_stk_def  f1_sub_avg  f1_td_acc  \\\n",
       "0      70.0     6.26     5.64          53          54         0.0         20   \n",
       "1      65.0     2.63     3.40          52          43         1.0         33   \n",
       "2      74.0     2.64     2.24          38          32         1.3         50   \n",
       "3      71.0     2.83     3.36          37          53         1.3         35   \n",
       "4      73.0     4.15     4.57          46          61         0.7         18   \n",
       "\n",
       "   f1_td_avg  f1_td_def  f1_weight  f2_reach  f2_sapm  f2_slpm  f2_stk_acc  \\\n",
       "0       0.55         50      145.0      71.0     2.84     3.08          40   \n",
       "1       1.31         35      115.0      64.0     4.13     4.60          50   \n",
       "2       0.33         48      170.0      76.0     1.60     4.20          54   \n",
       "3       2.68         57      145.0      73.0     3.82     4.15          37   \n",
       "4       1.18         46      170.0      71.0     2.87     3.77          42   \n",
       "\n",
       "   f2_stk_def  f2_sub_avg  f2_td_acc  f2_td_avg  f2_td_def  f2_weight  \\\n",
       "0          59         0.4         36       1.11         64      145.0   \n",
       "1          61         0.7         66       1.33         57      125.0   \n",
       "2          57         0.2         50       3.96        100      170.0   \n",
       "3          58         0.1         45       0.56         78      145.0   \n",
       "4          62         0.6         50       1.05         72      155.0   \n",
       "\n",
       "   figher1  fighter2  weight_class  f1_height  f2_height  f1_ageAtFight  \\\n",
       "0        0         1             6       70.0       68.0           9776   \n",
       "1        0         1             1       64.0       65.0           8695   \n",
       "2        0         1             8       71.0       72.0          10739   \n",
       "3        0         1             6       70.0       70.0          12296   \n",
       "4        0         1             7       74.0       72.0          11547   \n",
       "\n",
       "   f2_ageAtFight  f1_win  f1_loss  f1_draw  f1_nc  f2_win  f2_loss  f2_draw  \\\n",
       "0          11557      14        3        0      0      28       16        0   \n",
       "1          11005       8        4        0      0       9        5        0   \n",
       "2          11206       9        4        1      1      15        1        0   \n",
       "3          11547      25        7        0      0      20       14        0   \n",
       "4          10676      25        8        0      0      13        5        0   \n",
       "\n",
       "   f2_nc  f1_stance_Open Stance  f1_stance_Orthodox  f1_stance_Sideways  \\\n",
       "0      0                      0                   1                   0   \n",
       "1      1                      0                   1                   0   \n",
       "2      0                      0                   0                   0   \n",
       "3      0                      0                   1                   0   \n",
       "4      0                      0                   1                   0   \n",
       "\n",
       "   f1_stance_Southpaw  f1_stance_Switch  f2_stance_Open Stance  \\\n",
       "0                   0                 0                      0   \n",
       "1                   0                 0                      0   \n",
       "2                   0                 1                      0   \n",
       "3                   0                 0                      0   \n",
       "4                   0                 0                      0   \n",
       "\n",
       "   f2_stance_Orthodox  f2_stance_Sideways  f2_stance_Southpaw  \\\n",
       "0                   1                   0                   0   \n",
       "1                   1                   0                   0   \n",
       "2                   0                   0                   0   \n",
       "3                   0                   0                   1   \n",
       "4                   0                   0                   1   \n",
       "\n",
       "   f2_stance_Switch  winner  \n",
       "0                 0       1  \n",
       "1                 0       1  \n",
       "2                 1       1  \n",
       "3                 0       0  \n",
       "4                 0       0  "
      ]
     },
     "execution_count": 188,
     "metadata": {},
     "output_type": "execute_result"
    }
   ],
   "source": [
    "fbj_copy.head()"
   ]
  },
  {
   "cell_type": "code",
   "execution_count": 236,
   "metadata": {},
   "outputs": [
    {
     "ename": "ValueError",
     "evalue": "Error when checking input: expected dense_input to have shape (46,) but got array with shape (91,)",
     "output_type": "error",
     "traceback": [
      "\u001b[0;31m---------------------------------------------------------------------------\u001b[0m",
      "\u001b[0;31mValueError\u001b[0m                                Traceback (most recent call last)",
      "\u001b[0;32m<ipython-input-236-f111819305df>\u001b[0m in \u001b[0;36m<module>\u001b[0;34m\u001b[0m\n\u001b[0;32m----> 1\u001b[0;31m \u001b[0mprediction\u001b[0m \u001b[0;34m=\u001b[0m \u001b[0mpredict_bout_stats\u001b[0m\u001b[0;34m(\u001b[0m\u001b[0mX_train\u001b[0m\u001b[0;34m)\u001b[0m\u001b[0;34m\u001b[0m\u001b[0;34m\u001b[0m\u001b[0m\n\u001b[0m",
      "\u001b[0;32m<ipython-input-187-0c0dbe3e0049>\u001b[0m in \u001b[0;36mpredict_bout_stats\u001b[0;34m(fighters)\u001b[0m\n\u001b[1;32m      1\u001b[0m \u001b[0;32mdef\u001b[0m \u001b[0mpredict_bout_stats\u001b[0m\u001b[0;34m(\u001b[0m\u001b[0mfighters\u001b[0m\u001b[0;34m)\u001b[0m\u001b[0;34m:\u001b[0m\u001b[0;34m\u001b[0m\u001b[0;34m\u001b[0m\u001b[0m\n\u001b[0;32m----> 2\u001b[0;31m     \u001b[0mstats_predicted\u001b[0m \u001b[0;34m=\u001b[0m \u001b[0mmodel\u001b[0m\u001b[0;34m.\u001b[0m\u001b[0mpredict\u001b[0m\u001b[0;34m(\u001b[0m\u001b[0mfighters\u001b[0m\u001b[0;34m)\u001b[0m\u001b[0;34m\u001b[0m\u001b[0;34m\u001b[0m\u001b[0m\n\u001b[0m\u001b[1;32m      3\u001b[0m     \u001b[0;32mreturn\u001b[0m \u001b[0mstats_predicted\u001b[0m\u001b[0;34m\u001b[0m\u001b[0;34m\u001b[0m\u001b[0m\n",
      "\u001b[0;32m~/anaconda3/lib/python3.7/site-packages/tensorflow/python/keras/engine/training.py\u001b[0m in \u001b[0;36mpredict\u001b[0;34m(self, x, batch_size, verbose, steps, max_queue_size, workers, use_multiprocessing)\u001b[0m\n\u001b[1;32m   1094\u001b[0m       \u001b[0;31m# batch size.\u001b[0m\u001b[0;34m\u001b[0m\u001b[0;34m\u001b[0m\u001b[0;34m\u001b[0m\u001b[0m\n\u001b[1;32m   1095\u001b[0m       x, _, _ = self._standardize_user_data(\n\u001b[0;32m-> 1096\u001b[0;31m           x, check_steps=True, steps_name='steps', steps=steps)\n\u001b[0m\u001b[1;32m   1097\u001b[0m \u001b[0;34m\u001b[0m\u001b[0m\n\u001b[1;32m   1098\u001b[0m     if (self.run_eagerly or (isinstance(x, iterator_ops.EagerIterator) and\n",
      "\u001b[0;32m~/anaconda3/lib/python3.7/site-packages/tensorflow/python/keras/engine/training.py\u001b[0m in \u001b[0;36m_standardize_user_data\u001b[0;34m(self, x, y, sample_weight, class_weight, batch_size, check_steps, steps_name, steps, validation_split, shuffle)\u001b[0m\n\u001b[1;32m   2380\u001b[0m         \u001b[0mfeed_input_shapes\u001b[0m\u001b[0;34m,\u001b[0m\u001b[0;34m\u001b[0m\u001b[0;34m\u001b[0m\u001b[0m\n\u001b[1;32m   2381\u001b[0m         \u001b[0mcheck_batch_axis\u001b[0m\u001b[0;34m=\u001b[0m\u001b[0;32mFalse\u001b[0m\u001b[0;34m,\u001b[0m  \u001b[0;31m# Don't enforce the batch size.\u001b[0m\u001b[0;34m\u001b[0m\u001b[0;34m\u001b[0m\u001b[0m\n\u001b[0;32m-> 2382\u001b[0;31m         exception_prefix='input')\n\u001b[0m\u001b[1;32m   2383\u001b[0m \u001b[0;34m\u001b[0m\u001b[0m\n\u001b[1;32m   2384\u001b[0m     \u001b[0;32mif\u001b[0m \u001b[0my\u001b[0m \u001b[0;32mis\u001b[0m \u001b[0;32mnot\u001b[0m \u001b[0;32mNone\u001b[0m\u001b[0;34m:\u001b[0m\u001b[0;34m\u001b[0m\u001b[0;34m\u001b[0m\u001b[0m\n",
      "\u001b[0;32m~/anaconda3/lib/python3.7/site-packages/tensorflow/python/keras/engine/training_utils.py\u001b[0m in \u001b[0;36mstandardize_input_data\u001b[0;34m(data, names, shapes, check_batch_axis, exception_prefix)\u001b[0m\n\u001b[1;32m    360\u001b[0m                 \u001b[0;34m'Error when checking '\u001b[0m \u001b[0;34m+\u001b[0m \u001b[0mexception_prefix\u001b[0m \u001b[0;34m+\u001b[0m \u001b[0;34m': expected '\u001b[0m \u001b[0;34m+\u001b[0m\u001b[0;34m\u001b[0m\u001b[0;34m\u001b[0m\u001b[0m\n\u001b[1;32m    361\u001b[0m                 \u001b[0mnames\u001b[0m\u001b[0;34m[\u001b[0m\u001b[0mi\u001b[0m\u001b[0;34m]\u001b[0m \u001b[0;34m+\u001b[0m \u001b[0;34m' to have shape '\u001b[0m \u001b[0;34m+\u001b[0m \u001b[0mstr\u001b[0m\u001b[0;34m(\u001b[0m\u001b[0mshape\u001b[0m\u001b[0;34m)\u001b[0m \u001b[0;34m+\u001b[0m\u001b[0;34m\u001b[0m\u001b[0;34m\u001b[0m\u001b[0m\n\u001b[0;32m--> 362\u001b[0;31m                 ' but got array with shape ' + str(data_shape))\n\u001b[0m\u001b[1;32m    363\u001b[0m   \u001b[0;32mreturn\u001b[0m \u001b[0mdata\u001b[0m\u001b[0;34m\u001b[0m\u001b[0;34m\u001b[0m\u001b[0m\n\u001b[1;32m    364\u001b[0m \u001b[0;34m\u001b[0m\u001b[0m\n",
      "\u001b[0;31mValueError\u001b[0m: Error when checking input: expected dense_input to have shape (46,) but got array with shape (91,)"
     ]
    }
   ],
   "source": [
    "prediction = predict_bout_stats(X_train)"
   ]
  },
  {
   "cell_type": "code",
   "execution_count": 191,
   "metadata": {},
   "outputs": [
    {
     "name": "stdout",
     "output_type": "stream",
     "text": [
      "[ 0.48516017  1.0983162  28.757717   30.786774    0.36675847  0.7093608\n",
      "  0.6950339   1.2645494 ]\n"
     ]
    }
   ],
   "source": [
    "print(prediction[100])"
   ]
  },
  {
   "cell_type": "code",
   "execution_count": 196,
   "metadata": {},
   "outputs": [
    {
     "name": "stdout",
     "output_type": "stream",
     "text": [
      "[ 1  0 28 25  0  0  2  0]\n"
     ]
    }
   ],
   "source": []
  },
  {
   "cell_type": "code",
   "execution_count": 197,
   "metadata": {},
   "outputs": [
    {
     "data": {
      "text/html": [
       "<div>\n",
       "<style scoped>\n",
       "    .dataframe tbody tr th:only-of-type {\n",
       "        vertical-align: middle;\n",
       "    }\n",
       "\n",
       "    .dataframe tbody tr th {\n",
       "        vertical-align: top;\n",
       "    }\n",
       "\n",
       "    .dataframe thead th {\n",
       "        text-align: right;\n",
       "    }\n",
       "</style>\n",
       "<table border=\"1\" class=\"dataframe\">\n",
       "  <thead>\n",
       "    <tr style=\"text-align: right;\">\n",
       "      <th></th>\n",
       "      <th>date_of_birth</th>\n",
       "      <th>fighter_name</th>\n",
       "      <th>fighter_record</th>\n",
       "      <th>height</th>\n",
       "      <th>reach</th>\n",
       "      <th>sapm</th>\n",
       "      <th>slpm</th>\n",
       "      <th>stance</th>\n",
       "      <th>strike_acc</th>\n",
       "      <th>strike_def</th>\n",
       "      <th>sub_avg</th>\n",
       "      <th>td_acc</th>\n",
       "      <th>td_avg</th>\n",
       "      <th>td_def</th>\n",
       "      <th>weight</th>\n",
       "    </tr>\n",
       "  </thead>\n",
       "  <tbody>\n",
       "    <tr>\n",
       "      <th>0</th>\n",
       "      <td>Jul 17 1990</td>\n",
       "      <td>Michael Byrnes</td>\n",
       "      <td>Record: 5-2-0</td>\n",
       "      <td>5' 11\"</td>\n",
       "      <td>NaN</td>\n",
       "      <td>0.00</td>\n",
       "      <td>0.00</td>\n",
       "      <td>NaN</td>\n",
       "      <td>0</td>\n",
       "      <td>0.0</td>\n",
       "      <td>0.0</td>\n",
       "      <td>0</td>\n",
       "      <td>0.00</td>\n",
       "      <td>0</td>\n",
       "      <td>155.0</td>\n",
       "    </tr>\n",
       "    <tr>\n",
       "      <th>1</th>\n",
       "      <td>Feb 07 1989</td>\n",
       "      <td>Gleidson Cutis</td>\n",
       "      <td>Record: 7-3-0</td>\n",
       "      <td>5' 9\"</td>\n",
       "      <td>NaN</td>\n",
       "      <td>8.28</td>\n",
       "      <td>2.99</td>\n",
       "      <td>Orthodox</td>\n",
       "      <td>52</td>\n",
       "      <td>59.0</td>\n",
       "      <td>0.0</td>\n",
       "      <td>0</td>\n",
       "      <td>0.00</td>\n",
       "      <td>0</td>\n",
       "      <td>155.0</td>\n",
       "    </tr>\n",
       "    <tr>\n",
       "      <th>2</th>\n",
       "      <td>Jun 25 1981</td>\n",
       "      <td>Luciano Azevedo</td>\n",
       "      <td>Record: 16-9-1</td>\n",
       "      <td>6' 3\"</td>\n",
       "      <td>NaN</td>\n",
       "      <td>1.97</td>\n",
       "      <td>0.76</td>\n",
       "      <td>Orthodox</td>\n",
       "      <td>45</td>\n",
       "      <td>27.0</td>\n",
       "      <td>0.0</td>\n",
       "      <td>11</td>\n",
       "      <td>2.28</td>\n",
       "      <td>0</td>\n",
       "      <td>161.0</td>\n",
       "    </tr>\n",
       "    <tr>\n",
       "      <th>3</th>\n",
       "      <td>Nov 10 1980</td>\n",
       "      <td>Katsuaki Furuki</td>\n",
       "      <td>Record: 1-1-0</td>\n",
       "      <td>6' 0\"</td>\n",
       "      <td>NaN</td>\n",
       "      <td>2.67</td>\n",
       "      <td>0.27</td>\n",
       "      <td>NaN</td>\n",
       "      <td>10</td>\n",
       "      <td>39.0</td>\n",
       "      <td>3.0</td>\n",
       "      <td>0</td>\n",
       "      <td>0.00</td>\n",
       "      <td>0</td>\n",
       "      <td>168.0</td>\n",
       "    </tr>\n",
       "    <tr>\n",
       "      <th>4</th>\n",
       "      <td>Aug 11 1990</td>\n",
       "      <td>Rolando Dy</td>\n",
       "      <td>Record: 9-7-1 (1 NC)</td>\n",
       "      <td>5' 8\"</td>\n",
       "      <td>69.0</td>\n",
       "      <td>4.47</td>\n",
       "      <td>3.04</td>\n",
       "      <td>Orthodox</td>\n",
       "      <td>37</td>\n",
       "      <td>52.0</td>\n",
       "      <td>0.0</td>\n",
       "      <td>20</td>\n",
       "      <td>0.30</td>\n",
       "      <td>68</td>\n",
       "      <td>145.0</td>\n",
       "    </tr>\n",
       "  </tbody>\n",
       "</table>\n",
       "</div>"
      ],
      "text/plain": [
       "  date_of_birth     fighter_name        fighter_record  height  reach  sapm  \\\n",
       "0   Jul 17 1990   Michael Byrnes         Record: 5-2-0  5' 11\"    NaN  0.00   \n",
       "1   Feb 07 1989   Gleidson Cutis         Record: 7-3-0   5' 9\"    NaN  8.28   \n",
       "2   Jun 25 1981  Luciano Azevedo        Record: 16-9-1   6' 3\"    NaN  1.97   \n",
       "3   Nov 10 1980  Katsuaki Furuki         Record: 1-1-0   6' 0\"    NaN  2.67   \n",
       "4   Aug 11 1990       Rolando Dy  Record: 9-7-1 (1 NC)   5' 8\"   69.0  4.47   \n",
       "\n",
       "   slpm    stance  strike_acc  strike_def  sub_avg  td_acc  td_avg  td_def  \\\n",
       "0  0.00       NaN           0         0.0      0.0       0    0.00       0   \n",
       "1  2.99  Orthodox          52        59.0      0.0       0    0.00       0   \n",
       "2  0.76  Orthodox          45        27.0      0.0      11    2.28       0   \n",
       "3  0.27       NaN          10        39.0      3.0       0    0.00       0   \n",
       "4  3.04  Orthodox          37        52.0      0.0      20    0.30      68   \n",
       "\n",
       "   weight  \n",
       "0   155.0  \n",
       "1   155.0  \n",
       "2   161.0  \n",
       "3   168.0  \n",
       "4   145.0  "
      ]
     },
     "execution_count": 197,
     "metadata": {},
     "output_type": "execute_result"
    }
   ],
   "source": [
    "fighters_data.head()"
   ]
  },
  {
   "cell_type": "code",
   "execution_count": null,
   "metadata": {},
   "outputs": [],
   "source": []
  }
 ],
 "metadata": {
  "kernelspec": {
   "display_name": "Python 3",
   "language": "python",
   "name": "python3"
  },
  "language_info": {
   "codemirror_mode": {
    "name": "ipython",
    "version": 3
   },
   "file_extension": ".py",
   "mimetype": "text/x-python",
   "name": "python",
   "nbconvert_exporter": "python",
   "pygments_lexer": "ipython3",
   "version": "3.7.1"
  }
 },
 "nbformat": 4,
 "nbformat_minor": 2
}
